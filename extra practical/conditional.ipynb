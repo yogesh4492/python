{
 "cells": [
  {
   "cell_type": "code",
   "execution_count": 1,
   "id": "0d57cf80",
   "metadata": {},
   "outputs": [
    {
     "name": "stdout",
     "output_type": "stream",
     "text": [
      "Both Number are Different\n"
     ]
    }
   ],
   "source": [
    "\"\"\"\n",
    "Control statements \n",
    "Conditional Statements\n",
    "\"\"\"\n",
    "\n",
    "#1.  Write a C program to accept two integers and check whether they are equal or not\n",
    "\n",
    "num1=int(input(\"Enter Number 1= \"))\n",
    "num2=int(input(\"Enter Number 2= \"))\n",
    "if num1==num2:\n",
    "    print(\"Both Number are Equal \")\n",
    "else:\n",
    "    print(\"Both Number are Different\")"
   ]
  },
  {
   "cell_type": "code",
   "execution_count": 2,
   "id": "00e73690",
   "metadata": {},
   "outputs": [
    {
     "name": "stdout",
     "output_type": "stream",
     "text": [
      "n= 1\n"
     ]
    }
   ],
   "source": [
    "#2. Write a C program to read the value of an integer m and display the value of \n",
    "# n is 1 when m is larger than 0, 0 when m is 0 and -1 when m is less than 0.\n",
    "\n",
    "m=int(input(\"Enter Number= \"))\n",
    "if m>0:\n",
    "    n=1\n",
    "elif m==0:\n",
    "    n=0\n",
    "else:\n",
    "    n=-1\n",
    "print(f\"n= {n}\")"
   ]
  },
  {
   "cell_type": "code",
   "execution_count": 3,
   "id": "57963ece",
   "metadata": {},
   "outputs": [
    {
     "name": "stdout",
     "output_type": "stream",
     "text": [
      "2025 is not a leap year\n"
     ]
    }
   ],
   "source": [
    "# 3.  WAP to check if the given year is a leap year or not\n",
    "year=int(input(\"Enter year= \"))\n",
    "if year%100==0 and year%400==0:\n",
    "    print(f\"{year} is leap Year\")\n",
    "elif year%4==0:\n",
    "    print(f\"{year} is leap year\")\n",
    "else:\n",
    "    print(f\"{year} is not a leap year\")\n"
   ]
  },
  {
   "cell_type": "code",
   "execution_count": null,
   "id": "b4cc3881",
   "metadata": {},
   "outputs": [
    {
     "name": "stdout",
     "output_type": "stream",
     "text": [
      "1.Addition\n",
      "2.Subtraction\n",
      "3.Multiplication\n",
      "4.Division\n",
      "5.Modulo\n",
      " 10 - 20= -10\n"
     ]
    }
   ],
   "source": [
    "# 4.  WAP to make simple calculator (operation include Addition, Subtraction, \n",
    "# Multiplication, Division, modulo) using conditional statement\n",
    "\n",
    "num1=int(input(\"Enter Number 1= \"))\n",
    "num2=int(input(\"Enter Number 2= \"))\n",
    "print(\"1.Addition\")\n",
    "print(\"2.Subtraction\")\n",
    "print(\"3.Multiplication\")\n",
    "print(\"4.Division\")\n",
    "print(\"5.Modulo\")\n",
    "\n",
    "ch=int(input(\"Enter Your Choice= \"))\n",
    "print()\n",
    "if ch==1:\n",
    "    print(f\" {num1} + {num2}= {num1+num2}\")\n",
    "elif ch==2:\n",
    "    print(f\" {num1} - {num2}= {num1-num2}\")\n",
    "elif ch==3:\n",
    "    print(f\" {num1} * {num2}= {num1*num2}\") \n",
    "elif ch==4:\n",
    "    print(f\" {num1} - {num2}= {num1-num2}\")\n",
    "elif ch==5:\n",
    "    print(f\" {num1} % {num2} ={num1%num2}\")\n",
    "else:\n",
    "    print(f\"Enter valid input\")\n"
   ]
  },
  {
   "cell_type": "code",
   "execution_count": 5,
   "id": "87d8835a",
   "metadata": {},
   "outputs": [
    {
     "name": "stdout",
     "output_type": "stream",
     "text": [
      "Number is Negative\n"
     ]
    }
   ],
   "source": [
    "# 5.  Check Number Is Positive or Negative\n",
    "\n",
    "num=int(input(\"Enter number= \"))\n",
    "if num>0:\n",
    "    print(\"Number is positive\")\n",
    "elif num==0:\n",
    "    print(\"Number is Zero \")\n",
    "else:\n",
    "    print(\"Number is Negative\")\n",
    "    "
   ]
  },
  {
   "cell_type": "code",
   "execution_count": 7,
   "id": "03a012ee",
   "metadata": {},
   "outputs": [
    {
     "name": "stdout",
     "output_type": "stream",
     "text": [
      "A is vowel \n"
     ]
    }
   ],
   "source": [
    "#6 Find the Character Is Vowel or Not\n",
    "ch=input(\"Enter Any Character= \")\n",
    "if len(ch)!=1:\n",
    "    print(\"Enter only One character \")\n",
    "else:\n",
    "    if ch=='A' or ch=='E' or ch=='I' or ch=='O'or ch=='U':\n",
    "        print(f\"{ch} is vowel \")\n",
    "    elif ch=='a' or ch=='e' or ch=='i'or ch=='o'or ch=='u':\n",
    "        print(f\"{ch} is vowel \")\n",
    "    else:\n",
    "        print(f\"{ch} is not a vowel\")\n"
   ]
  },
  {
   "cell_type": "code",
   "execution_count": 8,
   "id": "0ed91a2c",
   "metadata": {},
   "outputs": [
    {
     "name": "stdout",
     "output_type": "stream",
     "text": [
      "You Are Passed\n"
     ]
    }
   ],
   "source": [
    "# 7.  Accept marks from user and check pass or fail\n",
    " \n",
    "marks=int(input(\"Enter Your Marks= \"))\n",
    "if marks>=35:\n",
    "    print(\"You Are Passed\")\n",
    "else:\n",
    "    print(\"You Are Failed\")\n"
   ]
  },
  {
   "cell_type": "code",
   "execution_count": 12,
   "id": "74c6e96f",
   "metadata": {},
   "outputs": [
    {
     "name": "stdout",
     "output_type": "stream",
     "text": [
      "Your Are Tall \n"
     ]
    }
   ],
   "source": [
    "# 8.  WAP to accept the height of a person in centimeters and categorize the \n",
    "# person according to their height\n",
    "\n",
    "height=int(input(\"Enter Your Height= \"))\n",
    "if height<=150:\n",
    "    print(\"Your Height is short\")\n",
    "elif height>150 and height<=165:\n",
    "    print(\"Your Height is average\")\n",
    "elif height>165 and height<=195:\n",
    "    print(\"Your Are Tall \")\n",
    "else:\n",
    "    print(\"Your Height is Very Tall\")"
   ]
  },
  {
   "cell_type": "code",
   "execution_count": 13,
   "id": "86fa676c",
   "metadata": {},
   "outputs": [
    {
     "name": "stdout",
     "output_type": "stream",
     "text": [
      "H is Uppercase Character\n"
     ]
    }
   ],
   "source": [
    "# 9.C Program to Check Uppercase or Lowercase or Digit or Special \n",
    "# Character\n",
    "\n",
    "#theere are two ways use build in method like len(),isupper,islower,isdigit\n",
    "\n",
    "ch=input(\"Enter Any Character= \")\n",
    "if len(ch)!=1:\n",
    "    print(\"Only Enter one character\")\n",
    "else:\n",
    "    if ch.isupper():\n",
    "        print(f\"{ch} is Uppercase Character\")\n",
    "    elif ch.islower():\n",
    "        print(f\"{ch} is Lower case chharacter\")\n",
    "    elif ch.isdigit():\n",
    "        print(f\"{ch} is digit character\")\n",
    "    else:\n",
    "        print(f\"{ch} is special character\")"
   ]
  },
  {
   "cell_type": "code",
   "execution_count": 14,
   "id": "e09d3582",
   "metadata": {},
   "outputs": [
    {
     "name": "stdout",
     "output_type": "stream",
     "text": [
      "15 is positive number\n"
     ]
    }
   ],
   "source": [
    "# 10. WAP to check whether a number is negative, positive or zero.\n",
    "num=int(input(\"Enter number= \"))\n",
    "if num>0:\n",
    "    print(f\"{num} is positive number\")\n",
    "elif num==0:\n",
    "    print(f\"{num} is Zero\")\n",
    "else:\n",
    "    print(f\"{num} is negativev number\")"
   ]
  },
  {
   "cell_type": "code",
   "execution_count": 15,
   "id": "e9d1f508",
   "metadata": {},
   "outputs": [
    {
     "name": "stdout",
     "output_type": "stream",
     "text": [
      "15 is Odd Number\n"
     ]
    }
   ],
   "source": [
    "# 11. WAP to find number is even or odd using ternary operator\n",
    "\n",
    "num=int(input(\"Enter Number= \"))\n",
    "value=\"Even Number\" if num%2==0 else \"Odd Number\"\n",
    "print(f\"{num} is {value}\")"
   ]
  },
  {
   "cell_type": "code",
   "execution_count": 16,
   "id": "75f66057",
   "metadata": {},
   "outputs": [
    {
     "name": "stdout",
     "output_type": "stream",
     "text": [
      "Maximum number is =36\n"
     ]
    }
   ],
   "source": [
    "# 12. WAP to find maximum number among 3 numbers using ternary operator\n",
    "num1=int(input(\"Enter Number 1= \"))\n",
    "num2=int(input(\"Enter Number 2= \"))\n",
    "num3=int(input(\"Enter Number 3= \"))\n",
    "\n",
    "result=num1 if(num1>num2 and num1>num3) else (num2 if num2>num3 else num3)\n",
    "print(f\"Maximum number is ={result}\")\n"
   ]
  },
  {
   "cell_type": "code",
   "execution_count": 20,
   "id": "7da2dc65",
   "metadata": {},
   "outputs": [
    {
     "name": "stdout",
     "output_type": "stream",
     "text": [
      "10 is minimum number \n"
     ]
    }
   ],
   "source": [
    "# 13. WAP to find minimum number among 3 numbers using ternary operator\n",
    "num1=int(input(\"Enter number 1= \"))\n",
    "num2=int(input(\"Enter number 2= \"))\n",
    "num3=int(input(\"Enter number 3= \"))\n",
    "\n",
    "result=num1 if(num1<num2 and num1<num3) else (num2 if num2<num3 else num3)\n",
    "print(f\"{result} is minimum number \")"
   ]
  },
  {
   "cell_type": "code",
   "execution_count": 21,
   "id": "29331cea",
   "metadata": {},
   "outputs": [
    {
     "name": "stdout",
     "output_type": "stream",
     "text": [
      "63 is largest number\n"
     ]
    }
   ],
   "source": [
    "# 14. WAP to find the largest of three numbers\n",
    "num1=int(input(\"Enter Number1 =\"))\n",
    "num2=int(input(\"Enter number 2= \"))\n",
    "num3=int(input(\"Enter Number 3= \"))\n",
    "\n",
    "if num1>num2:\n",
    "    if num1>num3:\n",
    "        print(f\"{num1} is largest number\")\n",
    "    else:\n",
    "        print(f\"{num3} is largest number\") \n",
    "else:\n",
    "    if num2>num3:\n",
    "        print(f\"{num2} is largest number\")\n",
    "    else:\n",
    "        print(f\"{num3} is largest number\") \n",
    "    "
   ]
  },
  {
   "cell_type": "code",
   "execution_count": 24,
   "id": "01c08e0d",
   "metadata": {},
   "outputs": [
    {
     "name": "stdout",
     "output_type": "stream",
     "text": [
      "Candidate Is not Eligible because its total marks=188.0 and marks in math and physics=137.0\n"
     ]
    }
   ],
   "source": [
    "\"\"\"\n",
    "15. Write a C program to determine eligibility for admission to a professional \n",
    "course based on the following criteria  \n",
    "Eligibility Criteria : Marks in Maths >=65 and Marks in Phy >=55 and Marks \n",
    "in Chem>=50 and Total in all three subject >=190 or Total in Maths and \n",
    "Physics >=140 ------------------------------------- Input the marks obtained in \n",
    "Physics :65 Input the marks obtained in Chemistry :51 Input the marks \n",
    "obtained in Mathematics :72 Total marks of Maths, Physics and Chemistry : \n",
    "188 Total marks of Maths and Physics : 137 The candidate is not eligible.\n",
    "\"\"\"\n",
    "\n",
    "mark_physics=float(input(\"Enter Your Marks In Physics= \"))\n",
    "mark_math=float(input(\"Enter Your Marks In math = \"))\n",
    "mark_chem=float(input(\"Entre Your Marks in Chemistry= \"))\n",
    "total=mark_chem+mark_math+mark_physics\n",
    "total_m_p=mark_math+mark_physics\n",
    "\n",
    "if total>=190 or total_m_p>=140:\n",
    "    if mark_math>=65 and mark_physics>=55:\n",
    "        print(\"Candidate is Eligible for Addmission\")\n",
    "    else:\n",
    "        if mark_chem>=50:\n",
    "            print(\"Candidate is Eligible for Addmission\")\n",
    "            \n",
    "        else:\n",
    "            print(f\"Candidate Is not Eligible because its total marks={total} and marks in math and physics={total_m_p}\")      \n",
    "else:\n",
    "    print(f\"Candidate Is not Eligible because its total marks={total} and marks in math and physics={total_m_p}\")\n",
    "\n",
    "\n"
   ]
  },
  {
   "cell_type": "code",
   "execution_count": 2,
   "id": "bf29e2e3",
   "metadata": {},
   "outputs": [
    {
     "name": "stdout",
     "output_type": "stream",
     "text": [
      "Hot Weather\n"
     ]
    }
   ],
   "source": [
    "\"\"\"16. Write a C program to read temperature in centigrade and display a suitable \n",
    "message according to the temperature state below: \n",
    "Temp < 0 then Freezing weather \n",
    "Temp 0-10 then Very Cold weather \n",
    "Temp 10-20 then Cold weather \n",
    "Temp 20-30 then Normal in Temp \n",
    "Temp 30-40 then Its Hot \n",
    "Temp >=40 then Its Very Hot\n",
    "\"\"\"\n",
    "\n",
    "\n",
    "temperature=float(input(\"Enter temparature= \"))\n",
    "if temperature<0:\n",
    "    print(\"Frezing Weather\")\n",
    "elif temperature>=0 and temperature<10:\n",
    "    print(\"Very Cold Weather\")\n",
    "elif temperature>=10 and temperature<20:\n",
    "    print(\"Cold Weather\")\n",
    "elif temperature>=20 and temperature<30:\n",
    "    print(\"Normal Temprature\")\n",
    "elif temperature>=30 and temperature<40:\n",
    "    print(\"Hot Weather\")\n",
    "else:\n",
    "    print(\"BEry Hot Weather\")\n",
    "\n",
    "    "
   ]
  },
  {
   "cell_type": "code",
   "execution_count": 3,
   "id": "dc190112",
   "metadata": {},
   "outputs": [
    {
     "name": "stdout",
     "output_type": "stream",
     "text": [
      "A Tringle is formeted with angles.\n"
     ]
    }
   ],
   "source": [
    "# 17. Write a C program to check whether a triangle can be formed with the given \n",
    "# values for the angles. \n",
    "\n",
    "#in tringle there are three angle\n",
    "\n",
    "angle1=float(input(\"Enter Angle 1= \"))\n",
    "angle2=float(input(\"Enter Angle 2= \"))\n",
    "angle3=float(input(\"Enter Angle 3= \"))\n",
    "sum=angle1+angle2+angle3\n",
    "\n",
    "if sum>=180 and angle1>0 and angle2>0 and angle3>0:\n",
    "    print(\"A Tringle is formeted with angles.\")\n",
    "else:\n",
    "    print(\"A tringle CAn not Formated with angles\")\n",
    "    "
   ]
  },
  {
   "cell_type": "code",
   "execution_count": 5,
   "id": "f230feb5",
   "metadata": {},
   "outputs": [
    {
     "name": "stdout",
     "output_type": "stream",
     "text": [
      "Total Loss is =1.0\n"
     ]
    }
   ],
   "source": [
    "# 18. Write a C program to calculate profit and loss on a transaction\n",
    "\n",
    "#first we can take costprice and selingprice to decide frofite and loss\n",
    "\n",
    "costprice=float(input(\"Enter Costprice of Product= \"))\n",
    "sellingprice=float(input(\"Enter Sellingprice of Product= \"))\n",
    "\n",
    "if sellingprice>costprice:\n",
    "    profite=sellingprice-costprice\n",
    "    print(f\"Total Profite is ={profite}\")\n",
    "elif sellingprice<costprice:\n",
    "    loss=costprice-sellingprice\n",
    "    print(f\"Total Loss is ={loss}\")\n",
    "else:\n",
    "    print(\"No Profit No loss\")"
   ]
  },
  {
   "cell_type": "code",
   "execution_count": null,
   "id": "593fd7ad",
   "metadata": {},
   "outputs": [
    {
     "name": "stdout",
     "output_type": "stream",
     "text": [
      "Electricity Bill is =180.0 \n"
     ]
    }
   ],
   "source": [
    "\"\"\"\n",
    "\n",
    "19. Write a program in C to calculate and print the electricity bill of a given \n",
    "customer. The customer ID, name, and unit consumed by the user should \n",
    "be captured from the keyboard to display the total amount to be paid to the \n",
    "customer. The charge are as follow : \n",
    "20. Unit 21. Charge/unit \n",
    "22. upto 350 23. @1.20 \n",
    "24. 350 and above but less than 600 25. @1.50 \n",
    "26. 600 and above but less than 800 27. @1.80 \n",
    "28. 800 and above 29. @2.00\n",
    "\n",
    "\"\"\"\n",
    "\n",
    "customer_id=int(input(\"Enteer Your Customer id= \"))\n",
    "name=input(\"Enter Your name= \")\n",
    "unit=float(input(\"Enter Unit used by customer= \"))\n",
    "\n",
    "if unit<350:\n",
    "    Amount=unit*1.20\n",
    "    print(f\"Electricity Bill is ={Amount} \")\n",
    "elif unit>=350 and unit<600:\n",
    "    Amount=unit*1.50\n",
    "    print(f\"Electricity Bill is = {Amount}\")\n",
    "elif unit>=600 and unit<800:\n",
    "    Amount=unit*1.80\n",
    "    print(f\"Electricity Bill is = {Amount}\")\n",
    "else:\n",
    "    Amount=unit*2.00\n",
    "    print(f\"Electricity Bill is = {Amount}\")\n"
   ]
  },
  {
   "cell_type": "code",
   "execution_count": 8,
   "id": "634c8ff8",
   "metadata": {},
   "outputs": [
    {
     "name": "stdout",
     "output_type": "stream",
     "text": [
      "\t Electricity Bill \t\n",
      " Consumer Id= 29021000741\n",
      "Consumer Name= Bhikhiben Manabhai Patel\n",
      "Unit Consume= @360.0\n",
      "surcharge Amount= 0\n",
      "Amount To Pay= 540.0\n"
     ]
    }
   ],
   "source": [
    "# 30. If bill exceeds Rs. 800 then a surcharge of 18% will be charged and \n",
    "# the minimum bill should be of Rs. 256/-\n",
    "\n",
    "customer_id=int(input(\"Enteer Your Customer id= \"))\n",
    "name=input(\"Enter Your name= \")\n",
    "unit=float(input(\"Enter Unit used by customer= \"))\n",
    "surcharge=0\n",
    "if unit<350:\n",
    "    Amount=unit*1.20\n",
    "elif unit>=350 and unit<600:\n",
    "    Amount=unit*1.50\n",
    "elif unit>=600 and unit<800:\n",
    "    Amount=unit*1.80\n",
    "else:\n",
    "    Amount=unit*2.00\n",
    "\n",
    "if Amount>800:\n",
    "    surcharge=Amount*0.18\n",
    "    Amount+=surcharge\n",
    "\n",
    "if Amount<256:\n",
    "    Amount=256\n",
    "\n",
    "print(\"\\t Electricity Bill \\t\")\n",
    "print(f\" Consumer Id= {customer_id}\")\n",
    "print(f\"Consumer Name= {name}\")\n",
    "print(f\"Unit Consume= @{unit}\")\n",
    "print(f\"surcharge Amount= {surcharge}\")\n",
    "print(f\"Amount To Pay= {Amount}\")\n",
    "\n"
   ]
  },
  {
   "cell_type": "code",
   "execution_count": null,
   "id": "47cde920",
   "metadata": {},
   "outputs": [
    {
     "name": "stdout",
     "output_type": "stream",
     "text": [
      "5 Month is May Month in This Month 31 days.\n"
     ]
    }
   ],
   "source": [
    "# 31. Write a program in C to read any Month Number in integer and display the \n",
    "# number of days for this month.\n",
    "\n",
    "month=int(input(\"Enter Any Month Number= \"))\n",
    "if month==1:\n",
    "    print(f\"{month} Month is January Month in This Month 31 days.\")\n",
    "elif month==2:\n",
    "    print(f\"{month} Month is February Month in This Month 28/29 days.\")\n",
    "elif month==3:\n",
    "    print(f\"{month} Month is March Month in This Month 31 days.\")\n",
    "elif month==4:\n",
    "    print(f\"{month} Month is April Month in This Month 30 days.\")\n",
    "elif month==5:\n",
    "    print(f\"{month} Month is May Month in This Month 31 days.\")\n",
    "elif month==6:\n",
    "    print(f\"{month} Month is June Month in This Month 30 days.\")\n",
    "elif month==7:\n",
    "    print(f\"{month} Month is July Month in This Month 31 days.\")\n",
    "elif month==8:\n",
    "    print(f\"{month} Month is August Month in This Month 31 days.\")\n",
    "elif month==9:\n",
    "    print(f\"{month} Month is September Month in This Month 30 days.\")\n",
    "elif month==10:\n",
    "    print(f\"{month} Month is October Month in This Month 31 days.\")\n",
    "elif month==11:\n",
    "    print(f\"{month} Month is November Month in This Month 30 days.\")\n",
    "elif month==12:\n",
    "    print(f\"{month} Month is December Month in This Month 31 days.\")\n",
    "else:\n",
    "    print(\"Invalid Input\")"
   ]
  },
  {
   "cell_type": "code",
   "execution_count": null,
   "id": "f8ce6a10",
   "metadata": {},
   "outputs": [
    {
     "name": "stdout",
     "output_type": "stream",
     "text": [
      "        Salary Sheet         \n",
      "Basic Salry= 15000.0\n",
      "Hra = 3750.0\n",
      "Da = 13500.0\n",
      " Gross Salry = 32250.0\n"
     ]
    }
   ],
   "source": [
    "\"\"\"\n",
    "32. Write a C program to input basic salary of an employee and calculate \n",
    "its Gross salary according to following: \n",
    "Basic Salary <= 10000 : HRA = 20%, DA = 80% \n",
    "Basic Salary <= 20000 : HRA = 25%, DA = 90% \n",
    "Basic Salary > 20000 : HRA = 30%, DA = 95%\n",
    "\"\"\"\n",
    "\n",
    "b_salary=float(input(\"Enter Basic Salary= \"))\n",
    "\n",
    "if b_salary<=10000:\n",
    "    hra=b_salary*0.20\n",
    "    da=b_salary*0.80\n",
    "elif b_salary<=20000:\n",
    "    hra=b_salary*0.25\n",
    "    da=b_salary*0.90\n",
    "else:\n",
    "    hra=b_salary*0.30\n",
    "    da=b_salary*0.95\n",
    "\n",
    "g_salary=b_salary+hra+da\n",
    "\n",
    "print(\"    Salary Sheet      \")\n",
    "print(f\"Basic Salry= {b_salary}\")\n",
    "print(f\"Hra = {hra}\")\n",
    "print(f\"Da = {da}\")\n",
    "print(f\"Gross Salry = {g_salary}\")\n",
    "\n",
    "\n"
   ]
  },
  {
   "cell_type": "code",
   "execution_count": 12,
   "id": "9d3b137e",
   "metadata": {},
   "outputs": [
    {
     "name": "stdout",
     "output_type": "stream",
     "text": [
      "friday\n"
     ]
    }
   ],
   "source": [
    "# 33. WAP to input the week number and print week day.\n",
    "\n",
    "day=int(input(\"Enter Day Number= \"))\n",
    "\n",
    "if day==1:\n",
    "    print(\"Monday\")\n",
    "elif day==2:\n",
    "    print(\"Tuesday\")\n",
    "elif day==3:\n",
    "    print(\"Wednesday\")\n",
    "elif day==4:\n",
    "    print(\"Thursday\")\n",
    "elif day==5:\n",
    "    print(\"friday\")\n",
    "elif day==6:\n",
    "    print(\"Saturday\")\n",
    "elif day==7:\n",
    "    print(\"Sunday\")\n",
    "else:\n",
    "    print(\"Enter Valid input\")\n"
   ]
  },
  {
   "cell_type": "code",
   "execution_count": 13,
   "id": "4b713c45",
   "metadata": {},
   "outputs": [
    {
     "name": "stdout",
     "output_type": "stream",
     "text": [
      "4 Month is April Month\n"
     ]
    }
   ],
   "source": [
    "# 34. Accept month number and display month name \n",
    "\n",
    "\n",
    "month=int(input(\"Enter Any Month Number= \"))\n",
    "if month==1:\n",
    "    print(f\"{month} Month is January Month\")\n",
    "elif month==2:\n",
    "    print(f\"{month} Month is February Month\")\n",
    "elif month==3:\n",
    "    print(f\"{month} Month is March Month\")\n",
    "elif month==4:\n",
    "    print(f\"{month} Month is April Month\")\n",
    "elif month==5:\n",
    "    print(f\"{month} Month is May Month\")\n",
    "elif month==6:\n",
    "    print(f\"{month} Month is June Month\")\n",
    "elif month==7:\n",
    "    print(f\"{month} Month is July Month\")\n",
    "elif month==8:\n",
    "    print(f\"{month} Month is August Month\")\n",
    "elif month==9:\n",
    "    print(f\"{month} Month is September Month\")\n",
    "elif month==10:\n",
    "    print(f\"{month} Month is October Month\")\n",
    "elif month==11:\n",
    "    print(f\"{month} Month is November Month \")\n",
    "elif month==12:\n",
    "    print(f\"{month} Month is December Month\")\n",
    "else:\n",
    "    print(\"Invalid Input\")"
   ]
  },
  {
   "cell_type": "code",
   "execution_count": 14,
   "id": "de63f9d4",
   "metadata": {},
   "outputs": [
    {
     "name": "stdout",
     "output_type": "stream",
     "text": [
      "Electricity Bill is= 30.0\n"
     ]
    }
   ],
   "source": [
    "\"\"\"\n",
    "#36. Write a program to input electricity Unit charges and calculate \n",
    "# total electricity bill to the given condition:\n",
    "For first 50 units Rs. 0.50/unit \n",
    "For next 100 units Rs. 0.75/unit \n",
    "For next 100 units Rs. 1.20/unit \n",
    "For unit above 250 Rs. 1.50/unit \n",
    "An additional surcharge of 20% is added to the bil\n",
    "\"\"\"\n",
    "\n",
    "unit=float(input(\"Enter Total Unit Consume is= \"))\n",
    "\n",
    "if unit<=50:\n",
    "    amount=unit*0.50\n",
    "elif unit>50 and unit<=150:\n",
    "    amount=unit*0.75\n",
    "elif unit>150 and unit<=250:\n",
    "    amount=unit*1.20\n",
    "else:\n",
    "    amount=unit*1.50\n",
    "\n",
    "surcharge=amount*0.20\n",
    "amount+=surcharge\n",
    "\n",
    "print(f\"Electricity Bill is= {amount}\")\n",
    "\n",
    "\n"
   ]
  },
  {
   "cell_type": "code",
   "execution_count": null,
   "id": "a6997615",
   "metadata": {},
   "outputs": [],
   "source": [
    "\"\"\"\n",
    "37. WAP to show \n",
    "i. Monday to Sunday using switch case \n",
    "ii. Vowel or Consonant using switch case\n",
    "\"\"\"\n",
    "\n",
    "\n",
    "\n"
   ]
  }
 ],
 "metadata": {
  "kernelspec": {
   "display_name": "Python 3",
   "language": "python",
   "name": "python3"
  },
  "language_info": {
   "codemirror_mode": {
    "name": "ipython",
    "version": 3
   },
   "file_extension": ".py",
   "mimetype": "text/x-python",
   "name": "python",
   "nbconvert_exporter": "python",
   "pygments_lexer": "ipython3",
   "version": "3.12.4"
  }
 },
 "nbformat": 4,
 "nbformat_minor": 5
}
