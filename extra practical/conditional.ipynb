{
 "cells": [
  {
   "cell_type": "code",
   "execution_count": 1,
   "id": "0d57cf80",
   "metadata": {},
   "outputs": [
    {
     "name": "stdout",
     "output_type": "stream",
     "text": [
      "Both Number are Different\n"
     ]
    }
   ],
   "source": [
    "\"\"\"\n",
    "Control statements \n",
    "Conditional Statements\n",
    "\"\"\"\n",
    "\n",
    "#1.  Write a C program to accept two integers and check whether they are equal or not\n",
    "\n",
    "num1=int(input(\"Enter Number 1= \"))\n",
    "num2=int(input(\"Enter Number 2= \"))\n",
    "if num1==num2:\n",
    "    print(\"Both Number are Equal \")\n",
    "else:\n",
    "    print(\"Both Number are Different\")"
   ]
  },
  {
   "cell_type": "code",
   "execution_count": 2,
   "id": "00e73690",
   "metadata": {},
   "outputs": [
    {
     "name": "stdout",
     "output_type": "stream",
     "text": [
      "n= 1\n"
     ]
    }
   ],
   "source": [
    "#2. Write a C program to read the value of an integer m and display the value of \n",
    "# n is 1 when m is larger than 0, 0 when m is 0 and -1 when m is less than 0.\n",
    "\n",
    "m=int(input(\"Enter Number= \"))\n",
    "if m>0:\n",
    "    n=1\n",
    "elif m==0:\n",
    "    n=0\n",
    "else:\n",
    "    n=-1\n",
    "print(f\"n= {n}\")"
   ]
  },
  {
   "cell_type": "code",
   "execution_count": 3,
   "id": "57963ece",
   "metadata": {},
   "outputs": [
    {
     "name": "stdout",
     "output_type": "stream",
     "text": [
      "2025 is not a leap year\n"
     ]
    }
   ],
   "source": [
    "# 3.  WAP to check if the given year is a leap year or not\n",
    "year=int(input(\"Enter year= \"))\n",
    "if year%100==0 and year%400==0:\n",
    "    print(f\"{year} is leap Year\")\n",
    "elif year%4==0:\n",
    "    print(f\"{year} is leap year\")\n",
    "else:\n",
    "    print(f\"{year} is not a leap year\")\n"
   ]
  },
  {
   "cell_type": "code",
   "execution_count": null,
   "id": "b4cc3881",
   "metadata": {},
   "outputs": [
    {
     "name": "stdout",
     "output_type": "stream",
     "text": [
      "1.Addition\n",
      "2.Subtraction\n",
      "3.Multiplication\n",
      "4.Division\n",
      "5.Modulo\n",
      " 10 - 20= -10\n"
     ]
    }
   ],
   "source": [
    "# 4.  WAP to make simple calculator (operation include Addition, Subtraction, \n",
    "# Multiplication, Division, modulo) using conditional statement\n",
    "\n",
    "num1=int(input(\"Enter Number 1= \"))\n",
    "num2=int(input(\"Enter Number 2= \"))\n",
    "print(\"1.Addition\")\n",
    "print(\"2.Subtraction\")\n",
    "print(\"3.Multiplication\")\n",
    "print(\"4.Division\")\n",
    "print(\"5.Modulo\")\n",
    "\n",
    "ch=int(input(\"Enter Your Choice= \"))\n",
    "print()\n",
    "if ch==1:\n",
    "    print(f\" {num1} + {num2}= {num1+num2}\")\n",
    "elif ch==2:\n",
    "    print(f\" {num1} - {num2}= {num1-num2}\")\n",
    "elif ch==3:\n",
    "    print(f\" {num1} * {num2}= {num1*num2}\") \n",
    "elif ch==4:\n",
    "    print(f\" {num1} - {num2}= {num1-num2}\")\n",
    "elif ch==5:\n",
    "    print(f\" {num1} % {num2} ={num1%num2}\")\n",
    "else:\n",
    "    print(f\"Enter valid input\")\n"
   ]
  },
  {
   "cell_type": "code",
   "execution_count": 5,
   "id": "87d8835a",
   "metadata": {},
   "outputs": [
    {
     "name": "stdout",
     "output_type": "stream",
     "text": [
      "Number is Negative\n"
     ]
    }
   ],
   "source": [
    "# 5.  Check Number Is Positive or Negative\n",
    "\n",
    "num=int(input(\"Enter number= \"))\n",
    "if num>0:\n",
    "    print(\"Number is positive\")\n",
    "elif num==0:\n",
    "    print(\"Number is Zero \")\n",
    "else:\n",
    "    print(\"Number is Negative\")\n",
    "    "
   ]
  },
  {
   "cell_type": "code",
   "execution_count": 7,
   "id": "03a012ee",
   "metadata": {},
   "outputs": [
    {
     "name": "stdout",
     "output_type": "stream",
     "text": [
      "A is vowel \n"
     ]
    }
   ],
   "source": [
    "#6 Find the Character Is Vowel or Not\n",
    "ch=input(\"Enter Any Character= \")\n",
    "if len(ch)!=1:\n",
    "    print(\"Enter only One character \")\n",
    "else:\n",
    "    if ch=='A' or ch=='E' or ch=='I' or ch=='O'or ch=='U':\n",
    "        print(f\"{ch} is vowel \")\n",
    "    elif ch=='a' or ch=='e' or ch=='i'or ch=='o'or ch=='u':\n",
    "        print(f\"{ch} is vowel \")\n",
    "    else:\n",
    "        print(f\"{ch} is not a vowel\")\n"
   ]
  },
  {
   "cell_type": "code",
   "execution_count": 8,
   "id": "0ed91a2c",
   "metadata": {},
   "outputs": [
    {
     "name": "stdout",
     "output_type": "stream",
     "text": [
      "You Are Passed\n"
     ]
    }
   ],
   "source": [
    "# 7.  Accept marks from user and check pass or fail\n",
    " \n",
    "marks=int(input(\"Enter Your Marks= \"))\n",
    "if marks>=35:\n",
    "    print(\"You Are Passed\")\n",
    "else:\n",
    "    print(\"You Are Failed\")\n"
   ]
  },
  {
   "cell_type": "code",
   "execution_count": 12,
   "id": "74c6e96f",
   "metadata": {},
   "outputs": [
    {
     "name": "stdout",
     "output_type": "stream",
     "text": [
      "Your Are Tall \n"
     ]
    }
   ],
   "source": [
    "# 8.  WAP to accept the height of a person in centimeters and categorize the \n",
    "# person according to their height\n",
    "\n",
    "height=int(input(\"Enter Your Height= \"))\n",
    "if height<=150:\n",
    "    print(\"Your Height is short\")\n",
    "elif height>150 and height<=165:\n",
    "    print(\"Your Height is average\")\n",
    "elif height>165 and height<=195:\n",
    "    print(\"Your Are Tall \")\n",
    "else:\n",
    "    print(\"Your Height is Very Tall\")"
   ]
  },
  {
   "cell_type": "code",
   "execution_count": 13,
   "id": "86fa676c",
   "metadata": {},
   "outputs": [
    {
     "name": "stdout",
     "output_type": "stream",
     "text": [
      "H is Uppercase Character\n"
     ]
    }
   ],
   "source": [
    "# 9.C Program to Check Uppercase or Lowercase or Digit or Special \n",
    "# Character\n",
    "\n",
    "#theere are two ways use build in method like len(),isupper,islower,isdigit\n",
    "\n",
    "ch=input(\"Enter Any Character= \")\n",
    "if len(ch)!=1:\n",
    "    print(\"Only Enter one character\")\n",
    "else:\n",
    "    if ch.isupper():\n",
    "        print(f\"{ch} is Uppercase Character\")\n",
    "    elif ch.islower():\n",
    "        print(f\"{ch} is Lower case chharacter\")\n",
    "    elif ch.isdigit():\n",
    "        print(f\"{ch} is digit character\")\n",
    "    else:\n",
    "        print(f\"{ch} is special character\")"
   ]
  },
  {
   "cell_type": "code",
   "execution_count": 14,
   "id": "e09d3582",
   "metadata": {},
   "outputs": [
    {
     "name": "stdout",
     "output_type": "stream",
     "text": [
      "15 is positive number\n"
     ]
    }
   ],
   "source": [
    "# 10. WAP to check whether a number is negative, positive or zero.\n",
    "num=int(input(\"Enter number= \"))\n",
    "if num>0:\n",
    "    print(f\"{num} is positive number\")\n",
    "elif num==0:\n",
    "    print(f\"{num} is Zero\")\n",
    "else:\n",
    "    print(f\"{num} is negativev number\")"
   ]
  },
  {
   "cell_type": "code",
   "execution_count": 15,
   "id": "e9d1f508",
   "metadata": {},
   "outputs": [
    {
     "name": "stdout",
     "output_type": "stream",
     "text": [
      "15 is Odd Number\n"
     ]
    }
   ],
   "source": [
    "# 11. WAP to find number is even or odd using ternary operator\n",
    "\n",
    "num=int(input(\"Enter Number= \"))\n",
    "value=\"Even Number\" if num%2==0 else \"Odd Number\"\n",
    "print(f\"{num} is {value}\")"
   ]
  },
  {
   "cell_type": "code",
   "execution_count": 16,
   "id": "75f66057",
   "metadata": {},
   "outputs": [
    {
     "name": "stdout",
     "output_type": "stream",
     "text": [
      "Maximum number is =36\n"
     ]
    }
   ],
   "source": [
    "# 12. WAP to find maximum number among 3 numbers using ternary operator\n",
    "num1=int(input(\"Enter Number 1= \"))\n",
    "num2=int(input(\"Enter Number 2= \"))\n",
    "num3=int(input(\"Enter Number 3= \"))\n",
    "\n",
    "result=num1 if(num1>num2 and num1>num3) else (num2 if num2>num3 else num3)\n",
    "print(f\"Maximum number is ={result}\")\n"
   ]
  },
  {
   "cell_type": "code",
   "execution_count": 20,
   "id": "7da2dc65",
   "metadata": {},
   "outputs": [
    {
     "name": "stdout",
     "output_type": "stream",
     "text": [
      "10 is minimum number \n"
     ]
    }
   ],
   "source": [
    "# 13. WAP to find minimum number among 3 numbers using ternary operator\n",
    "num1=int(input(\"Enter number 1= \"))\n",
    "num2=int(input(\"Enter number 2= \"))\n",
    "num3=int(input(\"Enter number 3= \"))\n",
    "\n",
    "result=num1 if(num1<num2 and num1<num3) else (num2 if num2<num3 else num3)\n",
    "print(f\"{result} is minimum number \")"
   ]
  },
  {
   "cell_type": "code",
   "execution_count": 21,
   "id": "29331cea",
   "metadata": {},
   "outputs": [
    {
     "name": "stdout",
     "output_type": "stream",
     "text": [
      "63 is largest number\n"
     ]
    }
   ],
   "source": [
    "# 14. WAP to find the largest of three numbers\n",
    "num1=int(input(\"Enter Number1 =\"))\n",
    "num2=int(input(\"Enter number 2= \"))\n",
    "num3=int(input(\"Enter Number 3= \"))\n",
    "\n",
    "if num1>num2:\n",
    "    if num1>num3:\n",
    "        print(f\"{num1} is largest number\")\n",
    "    else:\n",
    "        print(f\"{num3} is largest number\") \n",
    "else:\n",
    "    if num2>num3:\n",
    "        print(f\"{num2} is largest number\")\n",
    "    else:\n",
    "        print(f\"{num3} is largest number\") \n",
    "    "
   ]
  },
  {
   "cell_type": "code",
   "execution_count": 24,
   "id": "01c08e0d",
   "metadata": {},
   "outputs": [
    {
     "name": "stdout",
     "output_type": "stream",
     "text": [
      "Candidate Is not Eligible because its total marks=188.0 and marks in math and physics=137.0\n"
     ]
    }
   ],
   "source": [
    "\"\"\"\n",
    "15. Write a C program to determine eligibility for admission to a professional \n",
    "course based on the following criteria  \n",
    "Eligibility Criteria : Marks in Maths >=65 and Marks in Phy >=55 and Marks \n",
    "in Chem>=50 and Total in all three subject >=190 or Total in Maths and \n",
    "Physics >=140 ------------------------------------- Input the marks obtained in \n",
    "Physics :65 Input the marks obtained in Chemistry :51 Input the marks \n",
    "obtained in Mathematics :72 Total marks of Maths, Physics and Chemistry : \n",
    "188 Total marks of Maths and Physics : 137 The candidate is not eligible.\n",
    "\"\"\"\n",
    "\n",
    "mark_physics=float(input(\"Enter Your Marks In Physics= \"))\n",
    "mark_math=float(input(\"Enter Your Marks In math = \"))\n",
    "mark_chem=float(input(\"Entre Your Marks in Chemistry= \"))\n",
    "total=mark_chem+mark_math+mark_physics\n",
    "total_m_p=mark_math+mark_physics\n",
    "\n",
    "if total>=190 or total_m_p>=140:\n",
    "    if mark_math>=65 and mark_physics>=55:\n",
    "        print(\"Candidate is Eligible for Addmission\")\n",
    "    else:\n",
    "        if mark_chem>=50:\n",
    "            print(\"Candidate is Eligible for Addmission\")\n",
    "            \n",
    "        else:\n",
    "            print(f\"Candidate Is not Eligible because its total marks={total} and marks in math and physics={total_m_p}\")      \n",
    "else:\n",
    "    print(f\"Candidate Is not Eligible because its total marks={total} and marks in math and physics={total_m_p}\")\n",
    "\n",
    "\n"
   ]
  },
  {
   "cell_type": "code",
   "execution_count": null,
   "id": "bf29e2e3",
   "metadata": {},
   "outputs": [],
   "source": []
  }
 ],
 "metadata": {
  "kernelspec": {
   "display_name": "Python 3",
   "language": "python",
   "name": "python3"
  },
  "language_info": {
   "codemirror_mode": {
    "name": "ipython",
    "version": 3
   },
   "file_extension": ".py",
   "mimetype": "text/x-python",
   "name": "python",
   "nbconvert_exporter": "python",
   "pygments_lexer": "ipython3",
   "version": "3.12.4"
  }
 },
 "nbformat": 4,
 "nbformat_minor": 5
}
