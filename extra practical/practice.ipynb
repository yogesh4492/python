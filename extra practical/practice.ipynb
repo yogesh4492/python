{
 "cells": [
  {
   "cell_type": "code",
   "execution_count": 5,
   "id": "15028d15",
   "metadata": {},
   "outputs": [
    {
     "name": "stdout",
     "output_type": "stream",
     "text": [
      "Name:Yogesh Patel\n",
      "DOB: 26-04-2005\n",
      "Age: 20\n",
      "Address:Modasa,Gujarat\n"
     ]
    }
   ],
   "source": [
    "# Basic Logic Program\n",
    "\n",
    "\"\"\"1. Display This Information using printf\n",
    "a. Your Name\n",
    "b. Your Birth date\n",
    "c. Your Age\n",
    "d. Your Address\n",
    "\"\"\"\n",
    "Name=input(\"Enter Your Name= \")\n",
    "Dob=input(\"Enter Date= \")\n",
    "age=input(\"Enter Age= \")\n",
    "address=input(\"Enter Your Address= \")\n",
    "\n",
    "print(f\"Name:{Name}\")\n",
    "print(f\"DOB: {Dob}\")\n",
    "print(f\"Age: {age}\")\n",
    "print(f\"Address:{address}\")\n"
   ]
  },
  {
   "cell_type": "code",
   "execution_count": 7,
   "id": "8e7fb133",
   "metadata": {},
   "outputs": [
    {
     "name": "stdout",
     "output_type": "stream",
     "text": [
      "1.Addition\n",
      "2.Subtraction\n",
      "3.Multiplication\n",
      "4.Division\n",
      "5.Modulo\n",
      " 15 * 2= 30\n"
     ]
    }
   ],
   "source": [
    "# Write a program to make Simple calculator (to make addition, subtraction, \n",
    "# multiplication, division and modulo)\n",
    "num1=int(input(\"Enter Number 1= \"))\n",
    "num2=int(input(\"Enter Number 2= \"))\n",
    "print(\"1.Addition\")\n",
    "print(\"2.Subtraction\")\n",
    "print(\"3.Multiplication\")\n",
    "print(\"4.Division\")\n",
    "print(\"5.Modulo\")\n",
    "\n",
    "ch=int(input(\"Enter Your Choice= \"))\n",
    "\n",
    "if ch==1:\n",
    "    print(f\" {num1} + {num2}= {num1+num3}\")\n",
    "elif ch==2:\n",
    "    print(f\" {num1} - {num2}= {num1-num2}\")\n",
    "elif ch==3:\n",
    "    print(f\" {num1} * {num2}= {num1*num2}\") \n",
    "elif ch==4:\n",
    "    print(f\" {num1} - {num2}= {num1-num2}\")\n",
    "elif ch==5:\n",
    "    print(f\" {num1} % {num2} ={num1%num2}\")\n",
    "else:\n",
    "    print(f\"Enter valid input\")"
   ]
  },
  {
   "cell_type": "code",
   "execution_count": 11,
   "id": "5c35688d",
   "metadata": {},
   "outputs": [
    {
     "name": "stdout",
     "output_type": "stream",
     "text": [
      "Area of circle = 153.86\n",
      "Circumference of circle= 43.96\n"
     ]
    }
   ],
   "source": [
    "# WAP to Find Area And Circumference of Circle\n",
    "\n",
    "# formula: \n",
    "# area= pi*radius*radius\n",
    "# circumference= 2*pi*radius\n",
    "\n",
    "import math\n",
    "radius=float(input(\"Enter radius= \"))\n",
    "area=3.14*radius**2\n",
    "circumference= 2*3.14*radius\n",
    "print(f\"Area of circle = {area:.2f}\")\n",
    "print(f\"Circumference of circle= {circumference:.2f}\")"
   ]
  },
  {
   "cell_type": "code",
   "execution_count": null,
   "id": "0ac830e9",
   "metadata": {},
   "outputs": [],
   "source": []
  }
 ],
 "metadata": {
  "kernelspec": {
   "display_name": "Python 3",
   "language": "python",
   "name": "python3"
  },
  "language_info": {
   "codemirror_mode": {
    "name": "ipython",
    "version": 3
   },
   "file_extension": ".py",
   "mimetype": "text/x-python",
   "name": "python",
   "nbconvert_exporter": "python",
   "pygments_lexer": "ipython3",
   "version": "3.12.4"
  }
 },
 "nbformat": 4,
 "nbformat_minor": 5
}
