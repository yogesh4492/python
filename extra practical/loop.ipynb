{
 "cells": [
  {
   "cell_type": "code",
   "execution_count": 2,
   "id": "6f300323",
   "metadata": {},
   "outputs": [
    {
     "name": "stdout",
     "output_type": "stream",
     "text": [
      "972\n",
      "971\n",
      "970\n",
      "969\n",
      "968\n",
      "967\n",
      "966\n",
      "965\n",
      "964\n",
      "963\n",
      "962\n",
      "961\n",
      "960\n",
      "959\n",
      "958\n",
      "957\n",
      "956\n",
      "955\n",
      "954\n",
      "953\n",
      "952\n",
      "951\n",
      "950\n",
      "949\n",
      "948\n",
      "947\n",
      "946\n",
      "945\n",
      "944\n",
      "943\n",
      "942\n",
      "941\n",
      "940\n",
      "939\n",
      "938\n",
      "937\n",
      "936\n",
      "935\n",
      "934\n",
      "933\n",
      "932\n",
      "931\n",
      "930\n",
      "929\n",
      "928\n",
      "927\n",
      "926\n",
      "925\n",
      "924\n",
      "923\n",
      "922\n",
      "921\n",
      "920\n",
      "919\n",
      "918\n",
      "917\n",
      "916\n",
      "915\n",
      "914\n",
      "913\n",
      "912\n",
      "911\n",
      "910\n",
      "909\n",
      "908\n",
      "907\n",
      "906\n",
      "905\n",
      "904\n",
      "903\n",
      "902\n",
      "901\n",
      "900\n",
      "899\n",
      "898\n",
      "897\n"
     ]
    }
   ],
   "source": [
    "# 1.  WAP to print 972 to 897 using for loop\n",
    "\n",
    "for i in range(972,896,-1):\n",
    "    print(i)"
   ]
  },
  {
   "cell_type": "code",
   "execution_count": 3,
   "id": "eb3dc4da",
   "metadata": {},
   "outputs": [
    {
     "name": "stdout",
     "output_type": "stream",
     "text": [
      "10\n",
      "20\n",
      "30\n",
      "40\n",
      "50\n"
     ]
    }
   ],
   "source": [
    "# 2.  WAP to accept 5 numbers from user and display all numbers\n",
    "\n",
    "for i in range(1,6):\n",
    "    num=int(input(\"Enter Number= \"))\n",
    "    print(num)\n"
   ]
  },
  {
   "cell_type": "code",
   "execution_count": 5,
   "id": "0ba362ec",
   "metadata": {},
   "outputs": [
    {
     "name": "stdout",
     "output_type": "stream",
     "text": [
      "Num 1= 10\n",
      "Num 2= 25\n",
      "Num 3= 36\n",
      "Num 4= 75\n",
      "Num 5= 96\n",
      "Num 6= 45\n",
      "Num 7= 75\n",
      "Num 8= 73\n",
      "Num 9= 15\n",
      "Num 10= 36\n",
      "Total Even Number= 4\n",
      "Total Odd Number= 6\n",
      "Sum Of All Even Number = 178\n",
      "Sum Of All Odd Number = 308\n"
     ]
    }
   ],
   "source": [
    "\"\"\"\n",
    "3.  WAP to take 10 no. Input from user find out below values \n",
    "a.  How many Even numbers are there \n",
    "b.  How many odd numbers are there \n",
    "c.  Sum of even numbers \n",
    "d.  Sum of odd numbers\n",
    "\"\"\"\n",
    "even_count=0\n",
    "even_sum=0\n",
    "odd_count=0\n",
    "odd_sum=0\n",
    "for i in range(1,11):\n",
    "    num=int(input(f\"Enter Number {i}= \"))\n",
    "    print(f\"Num {i}= {num}\")\n",
    "    if num%2==0:\n",
    "        even_count+=1\n",
    "        even_sum+=num\n",
    "    else:\n",
    "        odd_count+=1\n",
    "        odd_sum+=num\n",
    "\n",
    "print(f\"Total Even Number= {even_count}\")\n",
    "print(f\"Total Odd Number= {odd_count}\")\n",
    "print(f\"Sum Of All Even Number = {even_sum}\")\n",
    "print(f\"Sum Of All Odd Number = {odd_sum}\")\n"
   ]
  },
  {
   "cell_type": "code",
   "execution_count": 7,
   "id": "3c496cd3",
   "metadata": {},
   "outputs": [
    {
     "name": "stdout",
     "output_type": "stream",
     "text": [
      "5  1  = 5\n",
      "5  2  = 10\n",
      "5  3  = 15\n",
      "5  4  = 20\n",
      "5  5  = 25\n",
      "5  6  = 30\n",
      "5  7  = 35\n",
      "5  8  = 40\n",
      "5  9  = 45\n",
      "5  10  = 50\n"
     ]
    }
   ],
   "source": [
    "# 4.WAP to print table up to given numbers \n",
    "\n",
    "num=int(input(f\"Enter Number = \"))\n",
    "for i in range(1,11):\n",
    "    print(f\"{num}  {i}  = {num*i}\")"
   ]
  },
  {
   "cell_type": "code",
   "execution_count": 8,
   "id": "351e54ae",
   "metadata": {},
   "outputs": [
    {
     "name": "stdout",
     "output_type": "stream",
     "text": [
      "Factorial of 5 =120\n"
     ]
    }
   ],
   "source": [
    "#5. WAP to print factorial of given number\n",
    "\n",
    "num=int(input(\"Enter Number= \"))\n",
    "fact=1\n",
    "for i in range(1,num+1):\n",
    "    fact*=i\n",
    "print(f\"Factorial of {num} ={fact}\")"
   ]
  },
  {
   "cell_type": "code",
   "execution_count": null,
   "id": "b2b807fb",
   "metadata": {},
   "outputs": [
    {
     "name": "stdout",
     "output_type": "stream",
     "text": [
      "Fibonacci series of 5 terms= 0 1 1 2 3 "
     ]
    }
   ],
   "source": [
    "# 6.  WAP to print Fibonacci series up to given numbers\n",
    "\n",
    "terms=int(input(\"Enter Fibonacci series terms= \"))\n",
    "n1=0\n",
    "n2=1\n",
    "print(f\"Fibonacci series of {terms} terms= {n1} {n2}\",end=\" \")\n",
    "for i in range(1,terms-1):\n",
    "    n3=n1+n2\n",
    "    print(f\"{n3}\",end=\" \")\n",
    "    n1=n2\n",
    "    n2=n3\n",
    "\n",
    "\n"
   ]
  },
  {
   "cell_type": "code",
   "execution_count": null,
   "id": "b278bf0b",
   "metadata": {},
   "outputs": [
    {
     "name": "stdout",
     "output_type": "stream",
     "text": [
      "reverse=251\n"
     ]
    }
   ],
   "source": [
    "# 7.  WAP to print number in reverse order e.g.: number = 64728 ---> reverse = \n",
    "# 82746 \n",
    "\n",
    "num=int(input(\"Enter Number= \"))\n",
    "rev=0\n",
    "while num!=0:\n",
    "    rem=num%10\n",
    "    rev=(rev*10)+rem\n",
    "    num=num//10\n",
    "print(f\"reverse={rev}\")\n"
   ]
  },
  {
   "cell_type": "code",
   "execution_count": 17,
   "id": "8209cb25",
   "metadata": {},
   "outputs": [
    {
     "name": "stdout",
     "output_type": "stream",
     "text": [
      "maximum number is= 6\n"
     ]
    }
   ],
   "source": [
    "# 8.  Write a program to find out the max from given number (E.g., No: -1562 \n",
    "# Max number is 6)\n",
    "\n",
    "num=int(input(\"Enter Number= \"))\n",
    "num=abs(num)\n",
    "max=0\n",
    "while num!=0:\n",
    "    dig=num%10\n",
    "    if dig>max:\n",
    "        max=dig\n",
    "    num//=10\n",
    "print(f\"maximum number is= {max}\")"
   ]
  },
  {
   "cell_type": "code",
   "execution_count": null,
   "id": "c6e78195",
   "metadata": {},
   "outputs": [],
   "source": []
  }
 ],
 "metadata": {
  "kernelspec": {
   "display_name": "Python 3",
   "language": "python",
   "name": "python3"
  },
  "language_info": {
   "codemirror_mode": {
    "name": "ipython",
    "version": 3
   },
   "file_extension": ".py",
   "mimetype": "text/x-python",
   "name": "python",
   "nbconvert_exporter": "python",
   "pygments_lexer": "ipython3",
   "version": "3.12.4"
  }
 },
 "nbformat": 4,
 "nbformat_minor": 5
}
