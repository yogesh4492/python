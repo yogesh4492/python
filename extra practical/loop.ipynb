{
 "cells": [
  {
   "cell_type": "code",
   "execution_count": null,
   "id": "6f300323",
   "metadata": {},
   "outputs": [
    {
     "name": "stdout",
     "output_type": "stream",
     "text": [
      "972\n",
      "971\n",
      "970\n",
      "969\n",
      "968\n",
      "967\n",
      "966\n",
      "965\n",
      "964\n",
      "963\n",
      "962\n",
      "961\n",
      "960\n",
      "959\n",
      "958\n",
      "957\n",
      "956\n",
      "955\n",
      "954\n",
      "953\n",
      "952\n",
      "951\n",
      "950\n",
      "949\n",
      "948\n",
      "947\n",
      "946\n",
      "945\n",
      "944\n",
      "943\n",
      "942\n",
      "941\n",
      "940\n",
      "939\n",
      "938\n",
      "937\n",
      "936\n",
      "935\n",
      "934\n",
      "933\n",
      "932\n",
      "931\n",
      "930\n",
      "929\n",
      "928\n",
      "927\n",
      "926\n",
      "925\n",
      "924\n",
      "923\n",
      "922\n",
      "921\n",
      "920\n",
      "919\n",
      "918\n",
      "917\n",
      "916\n",
      "915\n",
      "914\n",
      "913\n",
      "912\n",
      "911\n",
      "910\n",
      "909\n",
      "908\n",
      "907\n",
      "906\n",
      "905\n",
      "904\n",
      "903\n",
      "902\n",
      "901\n",
      "900\n",
      "899\n",
      "898\n",
      "897\n"
     ]
    }
   ],
   "source": [
    "# 1.  WAP to print 972 to 897 using for loop\n",
    "\n",
    "for i in range(972,896,-1):\n",
    "    print(i)"
   ]
  },
  {
   "cell_type": "code",
   "execution_count": null,
   "id": "eb3dc4da",
   "metadata": {},
   "outputs": [
    {
     "name": "stdout",
     "output_type": "stream",
     "text": [
      "10\n",
      "20\n",
      "30\n",
      "40\n",
      "50\n"
     ]
    }
   ],
   "source": [
    "# 2.  WAP to accept 5 numbers from user and display all numbers\n",
    "\n",
    "for i in range(1,6):\n",
    "    num=int(input(\"Enter Number= \"))\n",
    "    print(num)\n"
   ]
  },
  {
   "cell_type": "code",
   "execution_count": null,
   "id": "0ba362ec",
   "metadata": {},
   "outputs": [
    {
     "name": "stdout",
     "output_type": "stream",
     "text": [
      "Num 1= 10\n",
      "Num 2= 25\n",
      "Num 3= 36\n",
      "Num 4= 75\n",
      "Num 5= 96\n",
      "Num 6= 45\n",
      "Num 7= 75\n",
      "Num 8= 73\n",
      "Num 9= 15\n",
      "Num 10= 36\n",
      "Total Even Number= 4\n",
      "Total Odd Number= 6\n",
      "Sum Of All Even Number = 178\n",
      "Sum Of All Odd Number = 308\n"
     ]
    }
   ],
   "source": [
    "\"\"\"\n",
    "3.  WAP to take 10 no. Input from user find out below values \n",
    "a.  How many Even numbers are there \n",
    "b.  How many odd numbers are there \n",
    "c.  Sum of even numbers \n",
    "d.  Sum of odd numbers\n",
    "\"\"\"\n",
    "even_count=0\n",
    "even_sum=0\n",
    "odd_count=0\n",
    "odd_sum=0\n",
    "for i in range(1,11):\n",
    "    num=int(input(f\"Enter Number {i}= \"))\n",
    "    print(f\"Num {i}= {num}\")\n",
    "    if num%2==0:\n",
    "        even_count+=1\n",
    "        even_sum+=num\n",
    "    else:\n",
    "        odd_count+=1\n",
    "        odd_sum+=num\n",
    "\n",
    "print(f\"Total Even Number= {even_count}\")\n",
    "print(f\"Total Odd Number= {odd_count}\")\n",
    "print(f\"Sum Of All Even Number = {even_sum}\")\n",
    "print(f\"Sum Of All Odd Number = {odd_sum}\")\n"
   ]
  },
  {
   "cell_type": "code",
   "execution_count": null,
   "id": "3c496cd3",
   "metadata": {},
   "outputs": [
    {
     "name": "stdout",
     "output_type": "stream",
     "text": [
      "5  1  = 5\n",
      "5  2  = 10\n",
      "5  3  = 15\n",
      "5  4  = 20\n",
      "5  5  = 25\n",
      "5  6  = 30\n",
      "5  7  = 35\n",
      "5  8  = 40\n",
      "5  9  = 45\n",
      "5  10  = 50\n"
     ]
    }
   ],
   "source": [
    "# 4.WAP to print table up to given numbers \n",
    "\n",
    "num=int(input(f\"Enter Number = \"))\n",
    "for i in range(1,11):\n",
    "    print(f\"{num}  {i}  = {num*i}\")"
   ]
  },
  {
   "cell_type": "code",
   "execution_count": null,
   "id": "351e54ae",
   "metadata": {},
   "outputs": [
    {
     "name": "stdout",
     "output_type": "stream",
     "text": [
      "Factorial of 5 =120\n"
     ]
    }
   ],
   "source": [
    "#5. WAP to print factorial of given number\n",
    "\n",
    "num=int(input(\"Enter Number= \"))\n",
    "fact=1\n",
    "for i in range(1,num+1):\n",
    "    fact*=i\n",
    "print(f\"Factorial of {num} ={fact}\")"
   ]
  },
  {
   "cell_type": "code",
   "execution_count": null,
   "id": "b2b807fb",
   "metadata": {},
   "outputs": [
    {
     "name": "stdout",
     "output_type": "stream",
     "text": [
      "Fibonacci series of 5 terms= 0 1 1 2 3 "
     ]
    }
   ],
   "source": [
    "# 6.  WAP to print Fibonacci series up to given numbers\n",
    "\n",
    "terms=int(input(\"Enter Fibonacci series terms= \"))\n",
    "n1=0\n",
    "n2=1\n",
    "print(f\"Fibonacci series of {terms} terms= {n1} {n2}\",end=\" \")\n",
    "for i in range(1,terms-1):\n",
    "    n3=n1+n2\n",
    "    print(f\"{n3}\",end=\" \")\n",
    "    n1=n2\n",
    "    n2=n3\n",
    "\n",
    "\n"
   ]
  },
  {
   "cell_type": "code",
   "execution_count": null,
   "id": "b278bf0b",
   "metadata": {},
   "outputs": [
    {
     "name": "stdout",
     "output_type": "stream",
     "text": [
      "reverse=251\n"
     ]
    }
   ],
   "source": [
    "# 7.  WAP to print number in reverse order e.g.: number = 64728 ---> reverse = \n",
    "# 82746 \n",
    "\n",
    "num=int(input(\"Enter Number= \"))\n",
    "rev=0\n",
    "while num!=0:\n",
    "    rem=num%10\n",
    "    rev=(rev*10)+rem\n",
    "    num=num//10\n",
    "print(f\"reverse={rev}\")\n"
   ]
  },
  {
   "cell_type": "code",
   "execution_count": null,
   "id": "8209cb25",
   "metadata": {},
   "outputs": [
    {
     "name": "stdout",
     "output_type": "stream",
     "text": [
      "maximum number is= 6\n"
     ]
    }
   ],
   "source": [
    "# 8.  Write a program to find out the max from given number (E.g., No: -1562 \n",
    "# Max number is 6)\n",
    "\n",
    "num=int(input(\"Enter Number= \"))\n",
    "num=abs(num)\n",
    "max=0\n",
    "while num!=0:\n",
    "    dig=num%10\n",
    "    if dig>max:\n",
    "        max=dig\n",
    "    num//=10\n",
    "print(f\"maximum number is= {max}\")"
   ]
  },
  {
   "cell_type": "code",
   "execution_count": null,
   "id": "c6e78195",
   "metadata": {},
   "outputs": [
    {
     "name": "stdout",
     "output_type": "stream",
     "text": [
      "Summation of num= -11\n"
     ]
    }
   ],
   "source": [
    "# 9. Write a program to make a summation of given number\n",
    "# Example: 1523 -> -11\n",
    "\n",
    "num=int(input(\"Enter Number= \"))\n",
    "num=abs(num)\n",
    "sum=0\n",
    "\n",
    "while num!=0:\n",
    "    dig=num%10\n",
    "    sum+=dig\n",
    "    num//=10\n",
    "\n",
    "sum=-sum\n",
    "\n",
    "print(f\"Summation of num= {sum}\")\n"
   ]
  },
  {
   "cell_type": "code",
   "execution_count": null,
   "id": "3f78d81c",
   "metadata": {},
   "outputs": [
    {
     "name": "stdout",
     "output_type": "stream",
     "text": [
      "-5\n"
     ]
    }
   ],
   "source": [
    "# 10. Write a program you have to make a summation of first and last Digit. (E.g., \n",
    "# 1234 Ans: -5)\n",
    "\n",
    "num=int(input(\"Enter number= \"))\n",
    "num=abs(num)\n",
    "rev=0\n",
    "last=num%10\n",
    "while num>10:\n",
    "    num//=10\n",
    "\n",
    "sum=num+last\n",
    "sum=-sum\n",
    "\n",
    "print(sum)"
   ]
  },
  {
   "cell_type": "code",
   "execution_count": null,
   "id": "8e114ba1",
   "metadata": {},
   "outputs": [
    {
     "name": "stdout",
     "output_type": "stream",
     "text": [
      "yogesh\n",
      "Bharat\n",
      "Ram\n",
      "rahul\n",
      "rohit\n"
     ]
    }
   ],
   "source": [
    "# 11. Accept 5 names from user at run time.\n",
    "\n",
    "for i in range(1,6):\n",
    "    name=input(f\"Enter Name {i}= \")\n",
    "    print(name)\n"
   ]
  },
  {
   "cell_type": "code",
   "execution_count": null,
   "id": "821a3d3f",
   "metadata": {},
   "outputs": [
    {
     "name": "stdout",
     "output_type": "stream",
     "text": [
      "153 Armstrong number\n"
     ]
    }
   ],
   "source": [
    "# 12. Program of Armstrong Number in C Using For Loop & While Loop\n",
    "\n",
    "num=int(input(\"Enter number= \"))\n",
    "num=abs(num)\n",
    "digit=0\n",
    "tmp=num\n",
    "sum=0\n",
    "while tmp!=0:\n",
    "    tmp//=10\n",
    "    digit+=1\n",
    "tmp=num\n",
    "for i in range(1,digit+1):\n",
    "    rem=tmp%10\n",
    "    power=rem**digit\n",
    "    sum+=power\n",
    "    tmp//=10\n",
    "\n",
    "if sum==num:\n",
    "    print(f\"{num} Armstrong number\")\n",
    "else:\n",
    "    print(\"Not Armstrong number\")\n"
   ]
  },
  {
   "cell_type": "code",
   "execution_count": null,
   "id": "c2b57632",
   "metadata": {},
   "outputs": [
    {
     "name": "stdout",
     "output_type": "stream",
     "text": [
      "120\n"
     ]
    }
   ],
   "source": [
    "# 13. calculate the Factorial of a Given Number using while loop\n",
    "\n",
    "num=int(input(\"Enter Number= \"))\n",
    "fact=1\n",
    "i=1\n",
    "while i<=num:\n",
    "    fact*=i\n",
    "    i+=1\n",
    "print(fact)"
   ]
  },
  {
   "cell_type": "code",
   "execution_count": null,
   "id": "f6d04c48",
   "metadata": {},
   "outputs": [
    {
     "name": "stdout",
     "output_type": "stream",
     "text": [
      "Number 1 =5 \n",
      "Number 1 Factorial is =120\n",
      "Number 2 =4 \n",
      "Number 2 Factorial is =24\n",
      "Number 3 =6 \n",
      "Number 3 Factorial is =720\n",
      "Number 4 =7 \n",
      "Number 4 Factorial is =5040\n",
      "Number 5 =2 \n",
      "Number 5 Factorial is =2\n"
     ]
    }
   ],
   "source": [
    "# 14. Accept 5 numbers from user and find those numbers factorials\n",
    "\n",
    "for i in range(1,6):\n",
    "    num=int(input(f\"Enter Number {i}= \"))\n",
    "    fact=1\n",
    "    j=1\n",
    "    print(f\"Number {i} ={num} \")\n",
    "    # while j<=num:\n",
    "    #     fact*=j\n",
    "    #     j+=1\n",
    "    for j in range(1,num+1):\n",
    "        fact*=j\n",
    "    print(f\"Number {i} Factorial is ={fact}\")\n",
    "\n"
   ]
  },
  {
   "cell_type": "code",
   "execution_count": null,
   "id": "ee8352fa",
   "metadata": {},
   "outputs": [
    {
     "name": "stdout",
     "output_type": "stream",
     "text": [
      "Num 1= 15\n",
      "Num 2= 20\n",
      "Num 3= 30\n",
      "Num 4= 25\n",
      "Num 5= 35\n",
      "Num 6= 40\n",
      "Num 7= 45\n",
      "Num 8= 50\n",
      "Num 9= 55\n",
      "Num 10= 60\n",
      "Sum of 10 number is = 375\n"
     ]
    }
   ],
   "source": [
    "# 15. Calculate sum of 10 numbers using of while loop\n",
    "sum=0\n",
    "i=1\n",
    "while i<=10:\n",
    "    num=int(input(\"Enter Number= \"))\n",
    "    print(f\"Num {i}= {num}\")\n",
    "    sum+=num\n",
    "    i+=1\n",
    "print(f\"Sum of 10 number is = {sum}\")"
   ]
  },
  {
   "cell_type": "code",
   "execution_count": null,
   "id": "2f3b1dc9",
   "metadata": {},
   "outputs": [
    {
     "name": "stdout",
     "output_type": "stream",
     "text": [
      "Sum of Natural Number is =55 \n"
     ]
    }
   ],
   "source": [
    "# 16. Calculate the Sum of Natural Numbers Using the While Loop\n",
    "\n",
    "num=int(input(\"ENnter Number= \"))\n",
    "num=abs(num)\n",
    "i=1\n",
    "sum=0\n",
    "while i<=num:\n",
    "    sum+=i\n",
    "    i+=1\n",
    "print(f\"Sum of Natural Number is ={sum} \")"
   ]
  },
  {
   "cell_type": "code",
   "execution_count": null,
   "id": "13463865",
   "metadata": {},
   "outputs": [
    {
     "name": "stdout",
     "output_type": "stream",
     "text": [
      "Total Odd Number=  2\n",
      "Total Even Number=  3\n"
     ]
    }
   ],
   "source": [
    "# 17. Calculate 5 numbers from user and calculate number of even and odd using \n",
    "# of while loop\n",
    "\n",
    "i=1\n",
    "even_count=0\n",
    "odd_count=0\n",
    "while i<=5:\n",
    "    num=int(input(\"Enter Number= \"))\n",
    "    if num%2==0:\n",
    "        even_count+=1\n",
    "    else:\n",
    "        odd_count+=1\n",
    "    i+=1\n",
    "    \n",
    "print(\"Total Odd Number= \",odd_count)\n",
    "print(f\"Total Even Number= \",even_count)"
   ]
  },
  {
   "cell_type": "code",
   "execution_count": 9,
   "id": "1b2140b1",
   "metadata": {},
   "outputs": [
    {
     "name": "stdout",
     "output_type": "stream",
     "text": [
      "5 * 1 = 5\n",
      "5 * 2 = 10\n",
      "5 * 3 = 15\n",
      "5 * 4 = 20\n",
      "5 * 5 = 25\n",
      "5 * 6 = 30\n",
      "5 * 7 = 35\n",
      "5 * 8 = 40\n",
      "5 * 9 = 45\n",
      "5 * 10 = 50\n"
     ]
    }
   ],
   "source": [
    "# 18. Write a C Program to Print the Multiplication Table of N\n",
    "\n",
    "num=int(input(\"Enter Number= \"))\n",
    "for i in range(1,11):\n",
    "    print(f\"{num} * {i} = {num*i}\")"
   ]
  },
  {
   "cell_type": "code",
   "execution_count": 18,
   "id": "30994b80",
   "metadata": {},
   "outputs": [
    {
     "name": "stdout",
     "output_type": "stream",
     "text": [
      "1\n",
      "10\n",
      "101\n",
      "1010\n",
      "10101\n"
     ]
    }
   ],
   "source": [
    "#19.pattens\n",
    "\"\"\"\n",
    "One \n",
    "\"\"\"\n",
    "# 1\n",
    "# 1 0\n",
    "# 1 0 1\n",
    "# 1 0 1 0\n",
    "# 1 0 1 0 1\n",
    "\n",
    "\n",
    "row=int(input(\"Enter Row= \"))\n",
    "for i in range(1,row+1):\n",
    "    for j in range(1,i+1):\n",
    "        print(j%2,end=\"\")\n",
    "    print()"
   ]
  },
  {
   "cell_type": "code",
   "execution_count": null,
   "id": "e6dc7cc2",
   "metadata": {},
   "outputs": [
    {
     "name": "stdout",
     "output_type": "stream",
     "text": [
      "A \n",
      "B C \n",
      "C D E \n",
      "D E F G \n",
      "E F G H I \n",
      "F G H I J K \n"
     ]
    }
   ],
   "source": [
    "\"\"\" \n",
    "A\n",
    "B C \n",
    "C D E\n",
    "D E F G\n",
    "E F G H I\n",
    "F G H I J K \n",
    "\"\"\"\n",
    "\n",
    "row=int(input(\"Enter Row= \"))\n",
    "k=65\n",
    "for i in range(1,row+1):\n",
    "    tmp=k\n",
    "    for j in range(1,i+1):\n",
    "        print(chr(tmp),end=\" \")\n",
    "        tmp+=1\n",
    "    print()\n",
    "    k+=1\n",
    "    "
   ]
  },
  {
   "cell_type": "code",
   "execution_count": null,
   "id": "f0444c39",
   "metadata": {},
   "outputs": [
    {
     "name": "stdout",
     "output_type": "stream",
     "text": [
      "        * \n",
      "      * * * \n",
      "    * * * * * \n",
      "  * * * * * * * \n",
      "* * * * * * * * * \n"
     ]
    }
   ],
   "source": [
    "\"\"\"           *           \n",
    "          *   *   *\n",
    "        *  *  *  *   *\n",
    "     *  *  *  *  *  *  *\n",
    "\"\"\"\n",
    "\n",
    "\n",
    "row=int(input(\"Enter Row= \"))\n",
    "spc=row-1\n",
    "for i in range(1,row+1):\n",
    "     for k in range(1,spc*2+1):\n",
    "          print(end=\" \")\n",
    "     for j  in range(1,i+1):\n",
    "          print(\"*\",end=\" \")\n",
    "     for l in range(1,i):\n",
    "          print(\"*\",end=\" \")\n",
    "\n",
    "     print()\n",
    "     spc-=1   "
   ]
  },
  {
   "cell_type": "code",
   "execution_count": 2,
   "id": "05276d63",
   "metadata": {},
   "outputs": [
    {
     "name": "stdout",
     "output_type": "stream",
     "text": [
      "* \n",
      "* * \n",
      "* * * \n",
      "* * * * \n",
      "* * * * * \n",
      "* * * * * * \n",
      "* * * * * \n",
      "* * * * \n",
      "* * * \n",
      "* * \n",
      "* \n"
     ]
    }
   ],
   "source": [
    "\"\"\" \n",
    "*\n",
    "* *\n",
    "* * *\n",
    "* * * *\n",
    "* * * * * \n",
    "* * * * * *\n",
    "* * * * *\n",
    "* * * *\n",
    "* * * \n",
    "* * \n",
    "*\n",
    "\"\"\"\n",
    "row=int(input(\"Enter Row= \"))\n",
    "for i in range(1,row+1):\n",
    "    for j in range(1,i+1):\n",
    "      print(\"* \",end=\"\")\n",
    "    print()\n",
    "for k in range(1,row):\n",
    "    for l in range(row,k,-1):\n",
    "        print(\"* \",end=\"\")\n",
    "    print()"
   ]
  },
  {
   "cell_type": "code",
   "execution_count": 13,
   "id": "86904a3c",
   "metadata": {},
   "outputs": [
    {
     "name": "stdout",
     "output_type": "stream",
     "text": [
      "01 \n",
      "02 03 \n",
      "04 05 06 \n",
      "07 08 09 10 \n",
      "11 12 13 14 15 \n"
     ]
    }
   ],
   "source": [
    "\"\"\" \n",
    "1\n",
    "2 3\n",
    "4 5 6 \n",
    "7 8 9 10\n",
    "11 12 13 14 15\n",
    "\"\"\"\n",
    "\n",
    "row=int(input(\"Enter row= \"))\n",
    "k=1\n",
    "for i in range(1,row+1):\n",
    "    for j in range(1,i+1):\n",
    "        print(f\"{k:02}\",end=\" \")\n",
    "        k+=1\n",
    "    print()\n",
    "    "
   ]
  },
  {
   "cell_type": "code",
   "execution_count": 9,
   "id": "213516ca",
   "metadata": {},
   "outputs": [
    {
     "name": "stdout",
     "output_type": "stream",
     "text": [
      "A \n",
      "B B \n",
      "C C C \n",
      "D D D D \n",
      "E E E E E \n"
     ]
    }
   ],
   "source": [
    "\"\"\"\n",
    "A\n",
    "A B\n",
    "A B C\n",
    "A B C D\n",
    "A B C D E\n",
    "\n",
    "\"\"\"\n",
    "\n",
    "row=int(input(\"Enter Row= \"))\n",
    "k=65\n",
    "for i in range(1,row+1):\n",
    "    \n",
    "    for j in range(1,i+1):\n",
    "      print(chr(k),end=\" \")\n",
    "      \n",
    "    print()\n",
    "    k+=1\n"
   ]
  },
  {
   "cell_type": "code",
   "execution_count": 16,
   "id": "677838c1",
   "metadata": {},
   "outputs": [
    {
     "name": "stdout",
     "output_type": "stream",
     "text": [
      "01 02 03 04 05 06 07 08 09 10 \n",
      "11 12 13 14 15 16 17 18 19 20 \n"
     ]
    }
   ],
   "source": [
    "\"\"\" \n",
    "20. WAP program to print below output using for loop  \n",
    "01 02 03 04 05 06 07 08 09 10 \n",
    "11   12 13 14 15 16 17 18 19 20 \n",
    ". \n",
    ". \n",
    "21.  42 43 44 45 46 47 48 49 50\n",
    "\"\"\"\n",
    "\n",
    "row=int(input(\"Enter Number 1= \")) # one row take ten numbers\n",
    "k=1\n",
    "for i in range(1,row+1):\n",
    "\n",
    "    for j in range(10):\n",
    "      print(f\"{k:02}\",end=\" \")\n",
    "      k+=1\n",
    "    print()"
   ]
  },
  {
   "cell_type": "code",
   "execution_count": null,
   "id": "4cfa2729",
   "metadata": {},
   "outputs": [
    {
     "name": "stdout",
     "output_type": "stream",
     "text": [
      "number 1= 121\n",
      "121 is palindrome number\n",
      "number 2= 145\n",
      "145 is not a palindrome number\n",
      "number 3= 151\n",
      "151 is palindrome number\n"
     ]
    }
   ],
   "source": [
    "# 22. Accept 3 numbers from user using while loop and check each numbers \n",
    "# palindrome\n",
    "\n",
    "i=1\n",
    "while i<=3:\n",
    "    num=int(input(\"Enter Number= \"))\n",
    "    print(f\"number {i}= {num}\")\n",
    "    tmp=num\n",
    "    rev=0\n",
    "    while num!=0:\n",
    "        dig=num%10\n",
    "        rev=(rev*10)+dig\n",
    "        num//=10\n",
    "    if tmp==rev:\n",
    "      print(f\"{tmp} is palindrome number\")\n",
    "    else:\n",
    "       print(f\"{tmp} is not a palindrome number\")\n",
    "    i+=1\n"
   ]
  },
  {
   "cell_type": "code",
   "execution_count": 18,
   "id": "bcb187e0",
   "metadata": {},
   "outputs": [
    {
     "name": "stdout",
     "output_type": "stream",
     "text": [
      "5\n",
      "4\n",
      "3\n",
      "2\n",
      "1\n"
     ]
    }
   ],
   "source": [
    "# 23.  C Program to Reverse a Number Using FOR Loop \n",
    "num=int(input(\"ENter Number= \"))\n",
    "for i in range(num,0,-1):\n",
    "    print(i)"
   ]
  },
  {
   "cell_type": "code",
   "execution_count": 19,
   "id": "797de80f",
   "metadata": {},
   "outputs": [
    {
     "name": "stdout",
     "output_type": "stream",
     "text": [
      "Sum OF Nth terms=  15\n"
     ]
    }
   ],
   "source": [
    "# 24. 1 + 2 + 3 + 4 + 5 + ... + n\n",
    "\n",
    "n=int(input(\"Enter 'n'th Num= \"))\n",
    "sum=0\n",
    "for i in range(1,n+1):\n",
    "    sum+=i\n",
    "print(\"Sum OF Nth terms= \",sum)"
   ]
  },
  {
   "cell_type": "code",
   "execution_count": null,
   "id": "94c941a5",
   "metadata": {},
   "outputs": [
    {
     "name": "stdout",
     "output_type": "stream",
     "text": [
      "Sum Of all Multiplication=  14\n"
     ]
    }
   ],
   "source": [
    "# 25. (1*1) + (2*2) + (3*3) + (4*4) + (5*5) + ... + (n*n)\n",
    "\n",
    "num=int(input(\"Enter Nth Num= \"))\n",
    "sum=0\n",
    "\n",
    "for i in range(1,num+1):\n",
    "    mul=i*i\n",
    "    sum+=mul\n",
    "print(\"Sum Of all Multiplication= \",sum)"
   ]
  },
  {
   "cell_type": "code",
   "execution_count": null,
   "id": "82c9ed0c",
   "metadata": {},
   "outputs": [
    {
     "name": "stdout",
     "output_type": "stream",
     "text": [
      "1\n",
      "1\n",
      "1\n",
      "3\n",
      "4\n",
      "Total Sum is =  4\n"
     ]
    }
   ],
   "source": [
    "# 26.  (1)+ (1+2) + (1+2+3) + (1+2+3+4) + ... + (1+2+3+4+...+n\n",
    "\n",
    "num=int(input(\"Enter Nth Num= \"))\n",
    "\n",
    "total=0\n",
    "for i in range(1,num+1):\n",
    "    tmp_sum=0\n",
    "    for j in range(1,i+1):\n",
    "        tmp_sum+=j\n",
    "    total+=tmp_sum\n",
    "    \n",
    "print(\"Total Sum is = \",total)"
   ]
  },
  {
   "cell_type": "code",
   "execution_count": null,
   "id": "1849bb39",
   "metadata": {},
   "outputs": [],
   "source": [
    "# 27.1/2-2/3+ 3/4-4/5+ 5/6-...n\n"
   ]
  },
  {
   "cell_type": "code",
   "execution_count": null,
   "id": "d9119917",
   "metadata": {},
   "outputs": [
    {
     "name": "stdout",
     "output_type": "stream",
     "text": [
      "1 2  3 5 8 "
     ]
    }
   ],
   "source": [
    "# 28.   1 2 3 6 9 18 27 54\n"
   ]
  },
  {
   "cell_type": "code",
   "execution_count": null,
   "id": "72d99416",
   "metadata": {},
   "outputs": [],
   "source": []
  }
 ],
 "metadata": {
  "kernelspec": {
   "display_name": "Python 3",
   "language": "python",
   "name": "python3"
  },
  "language_info": {
   "codemirror_mode": {
    "name": "ipython",
    "version": 3
   },
   "file_extension": ".py",
   "mimetype": "text/x-python",
   "name": "python",
   "nbconvert_exporter": "python",
   "pygments_lexer": "ipython3",
   "version": "3.12.4"
  }
 },
 "nbformat": 4,
 "nbformat_minor": 5
}
