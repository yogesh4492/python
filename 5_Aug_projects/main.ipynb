{
 "cells": [
  {
   "cell_type": "code",
   "execution_count": null,
   "id": "45205cbf",
   "metadata": {},
   "outputs": [
    {
     "name": "stdout",
     "output_type": "stream",
     "text": [
      "num2 is greter than num1\n"
     ]
    }
   ],
   "source": [
    "# TASK 1 : accept two numbers from user and check which number is greater\n",
    "\n",
    "num1=int(input(\"Enter Number 1= \"))\n",
    "num2=int(input(\"Enter Number 2= \"))\n",
    "print(f\"number 1= {num1}\")\n",
    "print(f\"number 2= {num2}\")\n",
    "if num1>num2:\n",
    "    print(f\"num1 is greater than num2 \")\n",
    "else:\n",
    "    print(f\"num2 is greter than num1\")"
   ]
  },
  {
   "cell_type": "code",
   "execution_count": 12,
   "id": "2a5d1738",
   "metadata": {},
   "outputs": [
    {
     "name": "stdout",
     "output_type": "stream",
     "text": [
      "num1 = 10\n",
      "num2 = -5\n",
      "Num1 is positive number \n",
      "num2 is negative number \n"
     ]
    }
   ],
   "source": [
    "# TASK 2 : accept two numbers and check entered number is positive or negative \n",
    "\n",
    "num1=int(input(\"Enter Number 1= \"))\n",
    "num2=int(input(\"Enter Number 2= \"))\n",
    "print(f\"num1 = {num1}\")\n",
    "print(f\"num2 = {num2}\")\n",
    "if num1>=0:\n",
    "    print(f\"Num1 is positive number \")\n",
    "else:\n",
    "    print(f\"num1 is negative number \")\n",
    "if num2>=0:\n",
    "    print(f\"num2 is positive number \")\n",
    "else:\n",
    "    print(f\"num2 is negative number \")\n",
    "    "
   ]
  },
  {
   "cell_type": "code",
   "execution_count": null,
   "id": "6caf76b3",
   "metadata": {},
   "outputs": [
    {
     "name": "stdout",
     "output_type": "stream",
     "text": [
      "num1 = 10\n",
      "num2 = 15\n",
      "Both Number is Positive\n"
     ]
    }
   ],
   "source": [
    "# TASK 2 : accept two numbers and check entered number is positive or negative \n",
    "\n",
    "num1=int(input(\"Enter Number 1= \"))\n",
    "num2=int(input(\"Enter Number 2= \"))\n",
    "print(f\"num1 = {num1}\")\n",
    "print(f\"num2 = {num2}\")\n",
    "if num1>=0 and num2>=0:\n",
    "    print(\"Both Number is Positive\")\n",
    "elif num1>=0 or num2>=0:\n",
    "    print(\"One out of Two Is Positive\")\n",
    "else:\n",
    "    print(\"Both Number is negative\")"
   ]
  },
  {
   "cell_type": "code",
   "execution_count": 16,
   "id": "ffd7a590",
   "metadata": {},
   "outputs": [
    {
     "name": "stdout",
     "output_type": "stream",
     "text": [
      "num1 = 10\n",
      "num2 = 20\n",
      "num1 is positive number \n",
      "Num2 is Positive number\n"
     ]
    }
   ],
   "source": [
    "# TASK 2 : accept two numbers and check entered number is positive or negative \n",
    "num1=int(input(\"Enter Number 1= \"))\n",
    "num2=int(input(\"Enter Number 2= \"))\n",
    "print(f\"num1 = {num1}\")\n",
    "print(f\"num2 = {num2}\")\n",
    "if num1>=0 :\n",
    "    print(\"num1 is positive number \")\n",
    "    if num2>=0:\n",
    "        print(\"Num2 is Positive number\")\n",
    "    else:\n",
    "        print(\"num2 is negative number\")\n",
    "else:\n",
    "    print(\"Num1 is negative number\")\n",
    "    if num2>=0:\n",
    "        print(\"Num2 is Positive number\")\n",
    "    else:\n",
    "        print(\"num2 is negative number\")\n",
    "\n",
    "\n",
    "\n"
   ]
  },
  {
   "cell_type": "code",
   "execution_count": 15,
   "id": "d55d257a",
   "metadata": {},
   "outputs": [
    {
     "name": "stdout",
     "output_type": "stream",
     "text": [
      "Num1= 10\n",
      "num2 = 13\n",
      "Num 1 is Even Number \n",
      "Num 2 Is Odd Number \n"
     ]
    }
   ],
   "source": [
    "# accept two numbers and check entered number is even and odd\n",
    "\n",
    "num1=int(input(\"Enter Number 1= \"))\n",
    "num2=int(input(\"Enter number 2= \"))\n",
    "print(f\"Num1= {num1}\")\n",
    "print(f\"num2 = {num2}\")\n",
    "if num1%2==0:\n",
    "    print(\"Num 1 is Even Number \")\n",
    "else:\n",
    "    print(\"Num 1 is Odd Number \")\n",
    "if num2%2==0:\n",
    "    print(\"Num 2 is Even Number \")\n",
    "else:\n",
    "    print(\"Num 2 Is Odd Number \")"
   ]
  },
  {
   "cell_type": "code",
   "execution_count": null,
   "id": "f782f225",
   "metadata": {},
   "outputs": [
    {
     "name": "stdout",
     "output_type": "stream",
     "text": [
      "Num1= 10\n",
      "num2 = 15\n",
      "One out of two IS even \n"
     ]
    }
   ],
   "source": [
    "# accept two numbers and check entered number is even and odd\n",
    "\n",
    "\n",
    "num1=int(input(\"Enter Number 1= \"))\n",
    "num2=int(input(\"Enter number 2= \"))\n",
    "print(f\"Num1= {num1}\")\n",
    "print(f\"num2 = {num2}\")\n",
    "\n",
    "if num1%2==0 and num2%2==0:\n",
    "    print(\"Both Number Is Even\")\n",
    "elif num1%2==0 or num2%2==0:\n",
    "    print(\"One out of two IS even \")\n",
    "else:\n",
    "    print(\"Both Number is odd\")\n",
    "    "
   ]
  },
  {
   "cell_type": "code",
   "execution_count": 18,
   "id": "c45b4ad2",
   "metadata": {},
   "outputs": [
    {
     "name": "stdout",
     "output_type": "stream",
     "text": [
      "Num1= 10\n",
      "num2 = 15\n",
      "Num1 is Even Number\n",
      "Num2 is Odd number\n"
     ]
    }
   ],
   "source": [
    "#accept two numbers and check entered number is even and odd\n",
    "\n",
    "num1=int(input(\"Enter Number 1= \"))\n",
    "num2=int(input(\"Enter number 2= \"))\n",
    "print(f\"Num1= {num1}\")\n",
    "print(f\"num2 = {num2}\")\n",
    "if num1%2==0:\n",
    "    print(\"Num1 is Even Number\")\n",
    "    if num2%2==0:\n",
    "       print(\"Num2 is Even Number\")\n",
    "    else:\n",
    "        print(\"Num2 is Odd number\")\n",
    "else:\n",
    "    print(\"num1 is Odd Number \")\n",
    "    if num2%2==0:\n",
    "       print(\"Num2 is Even Number\")\n",
    "    else:\n",
    "        print(\"Num2 is Odd number\")\n",
    "    "
   ]
  },
  {
   "cell_type": "code",
   "execution_count": null,
   "id": "5a5b4ec3",
   "metadata": {},
   "outputs": [],
   "source": []
  }
 ],
 "metadata": {
  "kernelspec": {
   "display_name": "Python 3",
   "language": "python",
   "name": "python3"
  },
  "language_info": {
   "codemirror_mode": {
    "name": "ipython",
    "version": 3
   },
   "file_extension": ".py",
   "mimetype": "text/x-python",
   "name": "python",
   "nbconvert_exporter": "python",
   "pygments_lexer": "ipython3",
   "version": "3.12.4"
  }
 },
 "nbformat": 4,
 "nbformat_minor": 5
}
