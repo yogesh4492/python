{
 "cells": [
  {
   "cell_type": "code",
   "execution_count": 1,
   "id": "b1ed5a06",
   "metadata": {},
   "outputs": [
    {
     "name": "stdout",
     "output_type": "stream",
     "text": [
      "hello world\n"
     ]
    }
   ],
   "source": [
    "print(\"hello world\")"
   ]
  },
  {
   "cell_type": "code",
   "execution_count": null,
   "id": "a2fc21b9",
   "metadata": {},
   "outputs": [
    {
     "name": "stdout",
     "output_type": "stream",
     "text": [
      "30\n",
      "10\n",
      "200\n",
      "2.0\n",
      "2\n",
      "32\n",
      "2\n"
     ]
    }
   ],
   "source": [
    "\"\"\"\n",
    "operator: to petrform some specific operation at that time we use some symbols\n",
    "\n",
    "a+b here, a and b is operands\n",
    "      and + is an operator\n",
    "\n",
    "\n",
    "1)arithmetic operator\n",
    "\n",
    "+ - * / // **\n",
    "\n",
    "2)Assignment operator \n",
    "\n",
    "=  to assign something\n",
    "\n",
    "a=10 here ,a is my variable ,10 value assign to a variable\n",
    "\n",
    "\n",
    "shorthand operator= combination of arithmetic and assignment operator\n",
    "\n",
    "ex:normaly\n",
    "a=10\n",
    "b=20\n",
    "a=a+b\n",
    "//that perform two memory operation\n",
    "\n",
    "so we can also use\n",
    "a+=b//shorthand operator\n",
    "\n",
    "\n",
    "3)relational operator:\n",
    "\n",
    "> < >= <= == !=\n",
    "\n",
    "4)logical operator\n",
    "\n",
    "and\n",
    "or\n",
    "not\n",
    "\n",
    "5)membership operator\n",
    "\n",
    "in\n",
    "not in\n",
    "\n",
    "6)identity operator\n",
    " \n",
    "is \n",
    "is not\n",
    "\n",
    "\"\"\"\n",
    "#arithmetic operator\n",
    "a=20\n",
    "b=10\n",
    "\n",
    "print(a+b)\n",
    "print(a-b)\n",
    "print(a*b)\n",
    "print(a/b)\n",
    "print(a//b)\n",
    "print(2**5) \n",
    "print(12%5)"
   ]
  },
  {
   "cell_type": "code",
   "execution_count": 4,
   "id": "87377914",
   "metadata": {},
   "outputs": [
    {
     "name": "stdout",
     "output_type": "stream",
     "text": [
      "15\n",
      "20\n"
     ]
    }
   ],
   "source": [
    "#assignment operator\n",
    "a=10\n",
    "b=5\n",
    "\n",
    "a=a+b\n",
    "print(a)\n",
    "\n",
    "#shorthand operator\n",
    "a+=b\n",
    "print(a)"
   ]
  },
  {
   "cell_type": "code",
   "execution_count": null,
   "id": "110a14da",
   "metadata": {},
   "outputs": [],
   "source": [
    "\"\"\"\n",
    "#control statement \n",
    "there are three type of statement \n",
    "1)control statement \n",
    "2)loop statement\n",
    "3)jumping statement\n",
    "-----------------------------------------------------------------\n",
    "#conditional statement\n",
    "1)if statement\n",
    "2)if ...else statement\n",
    "3)elif statement\n",
    "4)nested if statement\"\"\""
   ]
  },
  {
   "cell_type": "code",
   "execution_count": 7,
   "id": "73cb04da",
   "metadata": {},
   "outputs": [
    {
     "name": "stdout",
     "output_type": "stream",
     "text": [
      "True\n",
      "number is above 50\n"
     ]
    }
   ],
   "source": [
    "\"\"\"\n",
    "if statement\n",
    "\n",
    "syntax:\n",
    "if condition:\n",
    "   block of code\n",
    "\n",
    "\n",
    "\"\"\"\n",
    "num=int(input(\"Enter the number= \"))\n",
    "print(num>50)\n",
    "\n",
    "if num>50:\n",
    "    print(\"number is above 50\")\n",
    "\n"
   ]
  },
  {
   "cell_type": "code",
   "execution_count": 2,
   "id": "cda919bf",
   "metadata": {},
   "outputs": [
    {
     "name": "stdout",
     "output_type": "stream",
     "text": [
      "You are not eligible for voting!!\n"
     ]
    }
   ],
   "source": [
    "\"\"\"#if ..else\n",
    "\n",
    "syntax:\n",
    "\n",
    "if condition:\n",
    "   block of code\n",
    "else:\n",
    "  block of code\n",
    "  \n",
    "    \"\"\"\n",
    "age=int(input(\"ENter your age= \"))\n",
    "if age>=18:\n",
    "    print(\"you are eligible for voting!!\")\n",
    "else:\n",
    "    print(\"You are not eligible for voting!!\")\n",
    "    "
   ]
  },
  {
   "cell_type": "code",
   "execution_count": 7,
   "id": "2ab564a8",
   "metadata": {},
   "outputs": [
    {
     "name": "stdout",
     "output_type": "stream",
     "text": [
      "number is Zero\n"
     ]
    }
   ],
   "source": [
    "#exampe 2:\n",
    "num=int(input(\"Enter number= \"))\n",
    "if num>0:\n",
    "    print(\"Number is positive\")\n",
    "elif num==0:\n",
    "    print(\"number is Zero\")\n",
    "else:\n",
    "    print(\"number is negative\")"
   ]
  },
  {
   "cell_type": "code",
   "execution_count": null,
   "id": "bcdb3528",
   "metadata": {},
   "outputs": [],
   "source": []
  }
 ],
 "metadata": {
  "kernelspec": {
   "display_name": "Python 3",
   "language": "python",
   "name": "python3"
  },
  "language_info": {
   "codemirror_mode": {
    "name": "ipython",
    "version": 3
   },
   "file_extension": ".py",
   "mimetype": "text/x-python",
   "name": "python",
   "nbconvert_exporter": "python",
   "pygments_lexer": "ipython3",
   "version": "3.12.4"
  }
 },
 "nbformat": 4,
 "nbformat_minor": 5
}
