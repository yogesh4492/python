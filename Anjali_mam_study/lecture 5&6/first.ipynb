{
 "cells": [
  {
   "cell_type": "code",
   "execution_count": 1,
   "id": "a0afd911",
   "metadata": {},
   "outputs": [
    {
     "name": "stdout",
     "output_type": "stream",
     "text": [
      "hello world\n"
     ]
    }
   ],
   "source": [
    "print(\"hello world\")"
   ]
  },
  {
   "cell_type": "code",
   "execution_count": 1,
   "id": "dd231116",
   "metadata": {},
   "outputs": [
    {
     "name": "stdout",
     "output_type": "stream",
     "text": [
      "1\n",
      "2\n",
      "3\n",
      "4\n",
      "5\n"
     ]
    }
   ],
   "source": [
    "\"\"\"\n",
    "Date -19-08-2025\n",
    "\"\"\"\n",
    "\n",
    "\"\"\" \n",
    "lopping sttement:\n",
    " there are two type of loop:\n",
    "\n",
    " 1)For loop\n",
    "\n",
    " 2)While loop\n",
    "\n",
    " --------------------------------------------------------\n",
    "\n",
    " for loop: for loop is sequance controlled loop\n",
    "\n",
    " syntax: \n",
    "\n",
    " for var in  sequance:\n",
    " \n",
    " statement\n",
    "\n",
    "\"\"\"\n",
    "\n",
    "for a in range(1,6):\n",
    "    print(a)"
   ]
  },
  {
   "cell_type": "code",
   "execution_count": 2,
   "id": "9a8be02d",
   "metadata": {},
   "outputs": [
    {
     "name": "stdout",
     "output_type": "stream",
     "text": [
      "0\n",
      "1\n",
      "2\n",
      "3\n",
      "4\n"
     ]
    }
   ],
   "source": [
    "\"\"\"\n",
    "\n",
    "#by default loop start from 0\n",
    "\n",
    "range(start,stop,step)\n",
    "range(5):start  from 0-4 \n",
    "range(3,8):3-7 syntax(start,stop)\n",
    "\n",
    "\"\"\"\n",
    "for i in range(5):\n",
    "    print(i)"
   ]
  },
  {
   "cell_type": "code",
   "execution_count": null,
   "id": "c2bade30",
   "metadata": {},
   "outputs": [],
   "source": []
  }
 ],
 "metadata": {
  "kernelspec": {
   "display_name": "Python 3",
   "language": "python",
   "name": "python3"
  },
  "language_info": {
   "codemirror_mode": {
    "name": "ipython",
    "version": 3
   },
   "file_extension": ".py",
   "mimetype": "text/x-python",
   "name": "python",
   "nbconvert_exporter": "python",
   "pygments_lexer": "ipython3",
   "version": "3.12.4"
  }
 },
 "nbformat": 4,
 "nbformat_minor": 5
}
