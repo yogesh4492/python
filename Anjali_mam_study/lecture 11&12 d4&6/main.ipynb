{
 "cells": [
  {
   "cell_type": "code",
   "execution_count": 1,
   "id": "9ebf71a9",
   "metadata": {},
   "outputs": [
    {
     "name": "stdout",
     "output_type": "stream",
     "text": [
      "[1, 2, 3, 54]\n",
      "[1, 2, 3, 54, 1001]\n",
      "[1, 2, 3, 54, 1001, 1002]\n"
     ]
    }
   ],
   "source": [
    "\"\"\" List method  \"\"\"\n",
    "\n",
    "list=[1,2,3,54]\n",
    "print(list)\n",
    "list.append(1001)\n",
    "print(list)\n",
    "list.append(1002)\n",
    "print(list)"
   ]
  },
  {
   "cell_type": "code",
   "execution_count": 2,
   "id": "f8e0aa99",
   "metadata": {},
   "outputs": [
    {
     "name": "stdout",
     "output_type": "stream",
     "text": [
      "[]\n",
      "[1, 2, 3, 54]\n"
     ]
    }
   ],
   "source": [
    "l1=[]\n",
    "print(l1)\n",
    "l1.extend([1,2,3,54])\n",
    "print(l1)"
   ]
  },
  {
   "cell_type": "code",
   "execution_count": 5,
   "id": "2d27dbef",
   "metadata": {},
   "outputs": [
    {
     "name": "stdout",
     "output_type": "stream",
     "text": [
      "[1, 2, 3, 4, 5]\n"
     ]
    }
   ],
   "source": [
    "list5=[]\n",
    "for i in range(1,6):\n",
    "    num=int(input(\"Enter Number= \"))\n",
    "    list5.append(num)\n",
    "print(list5)"
   ]
  },
  {
   "cell_type": "code",
   "execution_count": 6,
   "id": "d511bbfe",
   "metadata": {},
   "outputs": [
    {
     "name": "stdout",
     "output_type": "stream",
     "text": [
      "[1, 22, 3, 4, 111, 33, 55]\n",
      "[111, 33, 55]\n"
     ]
    }
   ],
   "source": [
    "list1=[1,22,3,4]\n",
    "list2=[111,33,55]\n",
    "list1.extend(list2)\n",
    "print(list1)\n",
    "print(list2)"
   ]
  },
  {
   "cell_type": "code",
   "execution_count": 7,
   "id": "8dcec111",
   "metadata": {},
   "outputs": [
    {
     "name": "stdout",
     "output_type": "stream",
     "text": [
      "[244, 986]\n"
     ]
    }
   ],
   "source": [
    "list=[1,244,667,887,986]\n",
    "e_list=[]\n",
    "for i in list:\n",
    "    if i%2==0:\n",
    "        e_list.append(i)\n",
    "print(e_list)"
   ]
  },
  {
   "cell_type": "code",
   "execution_count": 8,
   "id": "27322dca",
   "metadata": {},
   "outputs": [
    {
     "name": "stdout",
     "output_type": "stream",
     "text": [
      "[1, 2, 3, 10, 20, 30]\n"
     ]
    }
   ],
   "source": [
    "l1=[1,2,3]\n",
    "l2=[10,20,30]\n",
    "for i in l2:\n",
    "    l1.append(i)\n",
    "print(l1)\n"
   ]
  },
  {
   "cell_type": "code",
   "execution_count": 1,
   "id": "302486b4",
   "metadata": {},
   "outputs": [
    {
     "name": "stdout",
     "output_type": "stream",
     "text": [
      "[2, 4, 6, 8]\n"
     ]
    }
   ],
   "source": [
    "\"\"\"  \n",
    "remove duplicate elements from the list\n",
    "\"\"\"\n",
    "\n",
    "\n",
    "l1=[2,4,2,6,8,4]\n",
    "\n",
    "l2=[]\n",
    "\n",
    "for i in l1:\n",
    "    if i not in l2:\n",
    "        l2.append(i)\n",
    "print(l2)\n"
   ]
  },
  {
   "cell_type": "code",
   "execution_count": null,
   "id": "9e556045",
   "metadata": {},
   "outputs": [
    {
     "name": "stdout",
     "output_type": "stream",
     "text": [
      "23\n",
      "46\n"
     ]
    }
   ],
   "source": [
    "\"\"\" Date-06-09-2025 \"\"\"\n",
    "\n",
    "\"\"\" \n",
    "list indexing and slicing \n",
    "\n",
    "\"\"\"\n",
    "\n",
    "list=[23,43,56,76,87,546,46]\n",
    "print(list[0])\n",
    "print(list[len(list)-1])\n",
    "\n"
   ]
  },
  {
   "cell_type": "code",
   "execution_count": null,
   "id": "08c36bcf",
   "metadata": {},
   "outputs": [
    {
     "name": "stdout",
     "output_type": "stream",
     "text": [
      "[76, 87, 546]\n",
      "76\n",
      "<class 'list'>\n",
      "[1, 2, 3]\n"
     ]
    },
    {
     "ename": "TypeError",
     "evalue": "'list' object is not callable",
     "output_type": "error",
     "traceback": [
      "\u001b[31m---------------------------------------------------------------------------\u001b[39m",
      "\u001b[31mTypeError\u001b[39m                                 Traceback (most recent call last)",
      "\u001b[36mCell\u001b[39m\u001b[36m \u001b[39m\u001b[32mIn[3]\u001b[39m\u001b[32m, line 14\u001b[39m\n\u001b[32m     11\u001b[39m \u001b[38;5;28mprint\u001b[39m(list1)\n\u001b[32m     12\u001b[39m \u001b[38;5;66;03m# create list using list constructor\u001b[39;00m\n\u001b[32m---> \u001b[39m\u001b[32m14\u001b[39m list1=\u001b[38;5;28;43mlist\u001b[39;49m\u001b[43m(\u001b[49m\u001b[43m[\u001b[49m\u001b[32;43m12\u001b[39;49m\u001b[43m,\u001b[49m\u001b[32;43m13\u001b[39;49m\u001b[43m,\u001b[49m\u001b[32;43m45\u001b[39;49m\u001b[43m,\u001b[49m\u001b[32;43m65\u001b[39;49m\u001b[43m]\u001b[49m\u001b[43m)\u001b[49m\n\u001b[32m     15\u001b[39m \u001b[38;5;28mprint\u001b[39m(\u001b[38;5;28mtype\u001b[39m(list1))\n\u001b[32m     16\u001b[39m \u001b[38;5;28mprint\u001b[39m(list1)\n",
      "\u001b[31mTypeError\u001b[39m: 'list' object is not callable"
     ]
    }
   ],
   "source": [
    "\"\"\"  \"\"\"\n",
    "l1=[10,20,30,40,50,60,70]\n",
    "\n",
    "print(list[-4:-1])\n",
    "print(list[-4])\n",
    "\n",
    "# 3create list using square braces\n",
    "\n",
    "list1=[1,2,3]\n",
    "print(type(list1))\n",
    "print(list1)\n",
    "# create list using list constructor\n",
    "\n",
    "list1=list([12,13,45,65])\n",
    "print(type(list1))\n",
    "print(list1)"
   ]
  },
  {
   "cell_type": "code",
   "execution_count": 4,
   "id": "3062e86f",
   "metadata": {},
   "outputs": [
    {
     "data": {
      "text/plain": [
       "'\\nremove element from list\\n1) remove(): to remove specific elements from the list\\n\\n    syntax:\\n    l1.remove()\\n2) clear():clear list\\n   syntax:\\n    l1.clear()\\n3)pop:\\n   remove last ewlement of list\\n   syntax:\\n   l1.pop()\\n\\n4)pop(index):\\nsyntax:\\nl1.pop(index)\\n'"
      ]
     },
     "execution_count": 4,
     "metadata": {},
     "output_type": "execute_result"
    }
   ],
   "source": [
    "\"\"\"\n",
    "remove element from list\n",
    "1) remove(): to remove specific elements from the list\n",
    "\n",
    "    syntax:\n",
    "    l1.remove()\n",
    "2) clear():clear list\n",
    "   syntax:\n",
    "    l1.clear()\n",
    "3)pop:\n",
    "   remove last ewlement of list\n",
    "   syntax:\n",
    "   l1.pop()\n",
    "\n",
    "4)pop(index):\n",
    "syntax:\n",
    "l1.pop(index)\n",
    "\"\"\"\n"
   ]
  },
  {
   "cell_type": "code",
   "execution_count": null,
   "id": "f91358f9",
   "metadata": {},
   "outputs": [],
   "source": [
    "\"\"\" \n",
    "5)del : del is keyword delete list from memory\n",
    "\n",
    "\"\"\"\n",
    "\n",
    "l1=[1,22,3]\n",
    "del l1\n",
    "# print(l1)\n",
    "# #nameerroe"
   ]
  },
  {
   "cell_type": "code",
   "execution_count": null,
   "id": "8a245042",
   "metadata": {},
   "outputs": [],
   "source": []
  }
 ],
 "metadata": {
  "kernelspec": {
   "display_name": "Python 3",
   "language": "python",
   "name": "python3"
  },
  "language_info": {
   "codemirror_mode": {
    "name": "ipython",
    "version": 3
   },
   "file_extension": ".py",
   "mimetype": "text/x-python",
   "name": "python",
   "nbconvert_exporter": "python",
   "pygments_lexer": "ipython3",
   "version": "3.12.4"
  }
 },
 "nbformat": 4,
 "nbformat_minor": 5
}
