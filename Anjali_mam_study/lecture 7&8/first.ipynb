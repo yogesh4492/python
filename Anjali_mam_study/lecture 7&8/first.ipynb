{
 "cells": [
  {
   "cell_type": "code",
   "execution_count": null,
   "id": "14eef2b0",
   "metadata": {},
   "outputs": [
    {
     "name": "stdout",
     "output_type": "stream",
     "text": [
      "Total sum= 54\n"
     ]
    }
   ],
   "source": [
    "# date -23-08-2025\n",
    "\n",
    "\"\"\"  \n",
    "#accept number and perform addition operation using while loop\n",
    "\n",
    "\"\"\"\n",
    "sum=0\n",
    "status=True\n",
    "while status==True:\n",
    "    num=int(input(\"Enter Number= \"))\n",
    "    sum+=num\n",
    "    choice=input(\"Do you want to continue press 'y' for yes and 'n' for no\").lower\n",
    "    if choice=='y' or choice=='yes':\n",
    "        status=True\n",
    "    else:\n",
    "        status=False\n",
    "\n",
    "print(f\"Total sum= {sum}\")"
   ]
  },
  {
   "cell_type": "code",
   "execution_count": 9,
   "id": "cdd1c204",
   "metadata": {},
   "outputs": [
    {
     "name": "stdout",
     "output_type": "stream",
     "text": [
      "Hint: Guess Upeer Number\n",
      "Hint: Guess Upeer Number\n",
      "hint : guess lower number\n",
      "hint : guess lower number\n",
      "hint : guess lower number\n",
      "You win\n"
     ]
    }
   ],
   "source": [
    "\"\"\"   \n",
    "\"\"\"\n",
    "import random\n",
    "computer =random.randint(1,100)\n",
    "\n",
    "status=True\n",
    "while status:\n",
    "    user=int(input(\"Enter Number= \"))\n",
    "    if user>computer:\n",
    "        print(\"hint : guess lower number\")\n",
    "    elif user<computer:\n",
    "        print(\"Hint: Guess Upeer Number\")\n",
    "    else:\n",
    "        print(\"You win\")\n",
    "        status=False\n",
    "\n",
    "\n"
   ]
  },
  {
   "cell_type": "code",
   "execution_count": null,
   "id": "703a2c14",
   "metadata": {},
   "outputs": [],
   "source": []
  }
 ],
 "metadata": {
  "kernelspec": {
   "display_name": "Python 3",
   "language": "python",
   "name": "python3"
  },
  "language_info": {
   "codemirror_mode": {
    "name": "ipython",
    "version": 3
   },
   "file_extension": ".py",
   "mimetype": "text/x-python",
   "name": "python",
   "nbconvert_exporter": "python",
   "pygments_lexer": "ipython3",
   "version": "3.12.4"
  }
 },
 "nbformat": 4,
 "nbformat_minor": 5
}
