{
 "cells": [
  {
   "cell_type": "code",
   "execution_count": 11,
   "id": "d0963e72",
   "metadata": {},
   "outputs": [
    {
     "name": "stdout",
     "output_type": "stream",
     "text": [
      "101 12 yogesh 89.98 100000\n",
      "<class 'int'> <class 'int'> <class 'str'> <class 'float'> <class 'int'>\n"
     ]
    }
   ],
   "source": [
    "roll=101;std=12;name='yogesh';percentage=89.98;fees=100000\n",
    "\n",
    "print(roll,std,name,percentage,fees)\n",
    "print(type(roll),type(std),type(name),type(percentage),type(fees))\n",
    "\n"
   ]
  },
  {
   "cell_type": "code",
   "execution_count": 12,
   "id": "f0c732fa",
   "metadata": {},
   "outputs": [
    {
     "name": "stdout",
     "output_type": "stream",
     "text": [
      "hello world\n"
     ]
    }
   ],
   "source": [
    "print(\"hello world\")"
   ]
  },
  {
   "cell_type": "code",
   "execution_count": null,
   "id": "ba94b4bd",
   "metadata": {},
   "outputs": [],
   "source": [
    "roll=101\n"
   ]
  },
  {
   "cell_type": "code",
   "execution_count": null,
   "id": "2321f12e",
   "metadata": {},
   "outputs": [],
   "source": []
  }
 ],
 "metadata": {
  "kernelspec": {
   "display_name": "Python 3",
   "language": "python",
   "name": "python3"
  },
  "language_info": {
   "codemirror_mode": {
    "name": "ipython",
    "version": 3
   },
   "file_extension": ".py",
   "mimetype": "text/x-python",
   "name": "python",
   "nbconvert_exporter": "python",
   "pygments_lexer": "ipython3",
   "version": "3.12.4"
  }
 },
 "nbformat": 4,
 "nbformat_minor": 5
}
