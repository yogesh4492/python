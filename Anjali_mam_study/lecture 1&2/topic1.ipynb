{
 "cells": [
  {
   "cell_type": "code",
   "execution_count": 8,
   "id": "62cc75fc",
   "metadata": {},
   "outputs": [
    {
     "data": {
      "text/plain": [
       "'\\nprint(): print is a function which is inbuilt function in python\\nwhich is used to display appropriate message on console screen.\\n\\nsyntax:\\nprint(\"message\")\\n\\n\\nin python 2 print was a statement\\n syntax:\\n print \"hello\";\\n\\n in pyton 3 print is function \\n syntax:\\n print(\"hello\")\\n\\n\\n\\n'"
      ]
     },
     "execution_count": 8,
     "metadata": {},
     "output_type": "execute_result"
    }
   ],
   "source": [
    "\"\"\"\n",
    "print(): print is a function which is inbuilt function in python\n",
    "which is used to display appropriate message on console screen.\n",
    "\n",
    "syntax:\n",
    "print(\"message\")\n",
    "\n",
    "\n",
    "in python 2 print was a statement\n",
    " syntax:\n",
    " print \"hello\";\n",
    "\n",
    " in pyton 3 print is function \n",
    " syntax:\n",
    " print(\"hello\")\n",
    "\n",
    "\n",
    " \n",
    "\"\"\""
   ]
  },
  {
   "cell_type": "code",
   "execution_count": 4,
   "id": "617c1f96",
   "metadata": {},
   "outputs": [
    {
     "name": "stdout",
     "output_type": "stream",
     "text": [
      "hello welcome to python\n"
     ]
    }
   ],
   "source": [
    "print(\"hello welcome to python\")"
   ]
  },
  {
   "cell_type": "code",
   "execution_count": null,
   "id": "03c2ce1f",
   "metadata": {},
   "outputs": [],
   "source": [
    "print(\"My first program\")\n"
   ]
  },
  {
   "cell_type": "code",
   "execution_count": 5,
   "id": "e62b5871",
   "metadata": {},
   "outputs": [
    {
     "name": "stdout",
     "output_type": "stream",
     "text": [
      "hello welcome to python | My score is 89\n"
     ]
    }
   ],
   "source": [
    "\"\"\"\n",
    "end: end parameter\n",
    "\"\"\"\n",
    "print(\"hello\",end=\" \")\n",
    "print(\"welcome to python\",end=\" | \")\n",
    "print(\"My score is 89\")"
   ]
  },
  {
   "cell_type": "code",
   "execution_count": null,
   "id": "94d9c7d9",
   "metadata": {},
   "outputs": [],
   "source": [
    "\"\"\"\n",
    "variable: A name which can store a value.\n",
    "\n",
    "Rules:\n",
    "1)We cannot use any reserved word or a keyword as a variable name.\n",
    "e.g. int,float...\n",
    "\n",
    "2)we can use a-z,A-Z,_(underscore) and 0-9 in variable name\n",
    "\n",
    "\n",
    "3)we can't start variable name with digit\n",
    "\n",
    "e.g.\n",
    "\n",
    "1age  X\n",
    "2age  X\n",
    "\n",
    "age1\n",
    "num1\n",
    "\n",
    "4) variable name can't conain whitespace\n",
    "\n",
    "e.g.\n",
    "  first name  X\n",
    "  first_name\n",
    "  firstName\n",
    "\n",
    "5) also use approppriate name as variable\n",
    "\n",
    "\n",
    "\"\"\""
   ]
  },
  {
   "cell_type": "code",
   "execution_count": null,
   "id": "9242143f",
   "metadata": {},
   "outputs": [
    {
     "name": "stdout",
     "output_type": "stream",
     "text": [
      "score\n",
      "89\n"
     ]
    }
   ],
   "source": [
    "score=89     # score is a variable name and 89 is value\n",
    "name=\"Python\"\n",
    "print(\"score\")  #output:score\n",
    "print(score)    #output:89"
   ]
  },
  {
   "cell_type": "code",
   "execution_count": null,
   "id": "dffc3801",
   "metadata": {},
   "outputs": [
    {
     "name": "stdout",
     "output_type": "stream",
     "text": [
      "<class 'int'>\n"
     ]
    }
   ],
   "source": [
    "\"\"\" \n",
    "data type : which type of value store in a variable\n",
    "\n",
    "in python there is type()\n",
    "\n",
    "typep(): using of type function we can check which type of value store in a variable.\n",
    "\n",
    "\"\"\"\n",
    "\n",
    "print(type(score))"
   ]
  },
  {
   "cell_type": "code",
   "execution_count": null,
   "id": "ef5274d8",
   "metadata": {},
   "outputs": [
    {
     "name": "stdout",
     "output_type": "stream",
     "text": [
      "My technology name is  Python\n",
      "my Technology name is  Python  and subject isprogramming My score is  89\n",
      "my technology name is Python subject is programming and my score is 89\n"
     ]
    }
   ],
   "source": [
    "name=\"Python\"\n",
    "subject=\"programming\"\n",
    "score=89\n",
    "\n",
    "print(\"My technology name is \",name)\n",
    "print(\"my Technology name is \",name,\" and subject is \"+subject,\"My score is \",score)\n",
    "#format is used for proper format\n",
    "print(f\"my technology name is {name} subject is {subject} and my score is {score}\")"
   ]
  },
  {
   "cell_type": "code",
   "execution_count": 2,
   "id": "f7d75de8",
   "metadata": {},
   "outputs": [],
   "source": [
    "name=input(\"Enter your technology name: \")"
   ]
  },
  {
   "cell_type": "code",
   "execution_count": 1,
   "id": "129eafe0",
   "metadata": {},
   "outputs": [
    {
     "name": "stdout",
     "output_type": "stream",
     "text": [
      "10\n"
     ]
    }
   ],
   "source": [
    "\"\"\"\n",
    "type casting: to converting one data type into another data type ois called type casting\n",
    "\n",
    "\n",
    "e.g int(value)\n",
    "\n",
    "\"\"\"\n",
    "\n",
    "num1=int(input(\"Enter number 1= \"))\n",
    "print(num1)"
   ]
  },
  {
   "cell_type": "code",
   "execution_count": null,
   "id": "64a2acd1",
   "metadata": {},
   "outputs": [
    {
     "name": "stdout",
     "output_type": "stream",
     "text": [
      "Addition of 10 and 20 is = 30\n"
     ]
    }
   ],
   "source": [
    "\"\"\"\n",
    "input() : using of input function we can accept dynamic value from user\n",
    "\n",
    "\n",
    "syntax:\n",
    "\n",
    "\n",
    "  input(\" prompt message  \")\n",
    "\n",
    "\n",
    "  by default input() function accept values in string format.\n",
    "\"\"\"\n",
    "name=input(\"Enter Your Name= \")\n",
    "print(f\"Hi {name}\")\n",
    "#accept two number and addition of it\n",
    "\n",
    "num1=int(input(\"enter number1= \"))\n",
    "num2=int(input(\"Enter Number 2= \"))\n",
    "\n",
    "print(f\"Addition of {num1} and {num2} is = {num1+num2}\")"
   ]
  },
  {
   "cell_type": "code",
   "execution_count": 5,
   "id": "93f27978",
   "metadata": {},
   "outputs": [
    {
     "name": "stdout",
     "output_type": "stream",
     "text": [
      "number of months is= 24\n"
     ]
    }
   ],
   "source": [
    "\"\"\" \n",
    "accept year and convert it into number of months\n",
    "\n",
    "\n",
    "\"\"\"\n",
    "\n",
    "year=int(input(\"Enter Year= \"))\n",
    "print(f\"number of months is= {year*12}\")"
   ]
  },
  {
   "cell_type": "code",
   "execution_count": 3,
   "id": "08e794af",
   "metadata": {},
   "outputs": [
    {
     "name": "stdout",
     "output_type": "stream",
     "text": [
      "number of year is= 2\n"
     ]
    }
   ],
   "source": [
    "# accept months from user and convert it into year\n",
    "\n",
    "months=int(input(\"Enter Number Of Months= \"))\n",
    "year=int(months/12)\n",
    "print(f\"number of year is= {year}\")"
   ]
  },
  {
   "cell_type": "code",
   "execution_count": null,
   "id": "00236308",
   "metadata": {},
   "outputs": [],
   "source": []
  }
 ],
 "metadata": {
  "kernelspec": {
   "display_name": "Python 3",
   "language": "python",
   "name": "python3"
  },
  "language_info": {
   "codemirror_mode": {
    "name": "ipython",
    "version": 3
   },
   "file_extension": ".py",
   "mimetype": "text/x-python",
   "name": "python",
   "nbconvert_exporter": "python",
   "pygments_lexer": "ipython3",
   "version": "3.12.4"
  }
 },
 "nbformat": 4,
 "nbformat_minor": 5
}
