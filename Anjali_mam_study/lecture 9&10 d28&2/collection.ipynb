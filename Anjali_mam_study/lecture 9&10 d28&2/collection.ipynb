{
 "cells": [
  {
   "cell_type": "code",
   "execution_count": null,
   "id": "9a76ddb2",
   "metadata": {},
   "outputs": [
    {
     "data": {
      "text/plain": [
       "' Collection of element '"
      ]
     },
     "execution_count": 1,
     "metadata": {},
     "output_type": "execute_result"
    }
   ],
   "source": [
    "\"\"\" Collection of element \"\"\"\n",
    "# collection : collection of different different elements in single entity.\n",
    "# there are 4 types of collection\n",
    "\n",
    "# 1)list\n",
    "# 2)tuple\n",
    "# 3)set\n",
    "# 4)dictionary\n",
    "# \n",
    "# ===========================================\n",
    "\n",
    "#1)list :list iw a orderable ,indexable ,sequance collection datatype\n",
    "    # list is mutable (changable)collection data type\n",
    "\n",
    "    # list which is represented by [] braces\n",
    "\n",
    "# ================================================\n",
    "\n",
    "# to add elem,ents in list there are 3 methods\n",
    "\n",
    "# 1)apend():we can ad one element at the End \n",
    "# syntax:\n",
    "#  list.append(newelement)\n",
    "\n",
    "# 2)extend():we can add multiple element at the end of list\n",
    "# syntax:\n",
    "# list.extend([newelemt...])\n",
    "\n",
    "# 3)insert():insert at specific index or at middle of list\n",
    "# syntax:\n",
    "# list.insert(index,newelemnt)"
   ]
  },
  {
   "cell_type": "code",
   "execution_count": null,
   "id": "8138d4b5",
   "metadata": {},
   "outputs": [
    {
     "name": "stdout",
     "output_type": "stream",
     "text": [
      "[]\n",
      "0\n"
     ]
    }
   ],
   "source": [
    "#blank list\n",
    "\n",
    "l1=[]\n",
    "print(l1)\n",
    "print(len(l1))"
   ]
  },
  {
   "cell_type": "code",
   "execution_count": 3,
   "id": "eed06126",
   "metadata": {},
   "outputs": [
    {
     "name": "stdout",
     "output_type": "stream",
     "text": [
      "[1, 23, 45, 67, 86, 0, 54]\n",
      "1\n",
      "23\n",
      "45\n",
      "67\n",
      "86\n",
      "0\n",
      "54\n"
     ]
    }
   ],
   "source": [
    "l1=[1,23,45,67,86,0,54]\n",
    "print(l1)\n",
    "\n",
    "for i in l1:\n",
    "    print(i)"
   ]
  },
  {
   "cell_type": "code",
   "execution_count": null,
   "id": "1a87692c",
   "metadata": {},
   "outputs": [],
   "source": []
  }
 ],
 "metadata": {
  "kernelspec": {
   "display_name": "Python 3",
   "language": "python",
   "name": "python3"
  },
  "language_info": {
   "codemirror_mode": {
    "name": "ipython",
    "version": 3
   },
   "file_extension": ".py",
   "mimetype": "text/x-python",
   "name": "python",
   "nbconvert_exporter": "python",
   "pygments_lexer": "ipython3",
   "version": "3.12.4"
  }
 },
 "nbformat": 4,
 "nbformat_minor": 5
}
