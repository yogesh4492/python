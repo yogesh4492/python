{
 "cells": [
  {
   "cell_type": "code",
   "execution_count": 1,
   "id": "3a1b548e",
   "metadata": {},
   "outputs": [
    {
     "name": "stdout",
     "output_type": "stream",
     "text": [
      "Python\n",
      "6\n",
      "length=  6\n"
     ]
    }
   ],
   "source": [
    "\"\"\" Date-28-08-2025\"\"\"\n",
    "\n",
    "\"\"\" \n",
    "string: string  is sequance/collection of character\n",
    "\n",
    "   string which is represent by single and double quatation\n",
    "\n",
    "   string is immutable in python\n",
    "\"\"\"\n",
    "name=\"Python\"\n",
    "print(name)\n",
    "print(len(name))\n",
    "count=0\n",
    "for i in name:\n",
    "    count+=1\n",
    "print(\"length= \",count)"
   ]
  },
  {
   "cell_type": "code",
   "execution_count": 5,
   "id": "5c238560",
   "metadata": {},
   "outputs": [
    {
     "name": "stdout",
     "output_type": "stream",
     "text": [
      "Subject is python and score is 89\n",
      "subject is python and score is 89\n"
     ]
    }
   ],
   "source": [
    "name=\"python\"\n",
    "score=89\n",
    "\n",
    "print(f\"Subject is {name} and score is {score}\")\n",
    "print(\"subject is {0} and score is {1}\".format(name,score))"
   ]
  },
  {
   "cell_type": "code",
   "execution_count": 6,
   "id": "597e50ed",
   "metadata": {},
   "outputs": [
    {
     "name": "stdout",
     "output_type": "stream",
     "text": [
      "python\n",
      "PYTHON\n",
      "Python\n"
     ]
    }
   ],
   "source": [
    "name=\"Python\"\n",
    "\n",
    "print(name.lower())\n",
    "print(name.upper())\n",
    "print(name.capitalize())"
   ]
  },
  {
   "cell_type": "code",
   "execution_count": 9,
   "id": "ce33065f",
   "metadata": {},
   "outputs": [
    {
     "name": "stdout",
     "output_type": "stream",
     "text": [
      "PyThon\n",
      "False\n",
      "False\n",
      "True\n",
      "True\n",
      "True\n"
     ]
    }
   ],
   "source": [
    "name=\"PyThon\"\n",
    "\n",
    "print(name)\n",
    "\n",
    "print(name.isupper())\n",
    "print(name.islower())\n",
    "\n",
    "\n",
    "contact=\"9537638715\"\n",
    "print(contact.isnumeric())\n",
    "\n",
    "password=\"Abcd26\"\n",
    "print(password.isalnum())\n",
    "\n",
    "name=\"yogesh\"\n",
    "print(name.isalpha())"
   ]
  },
  {
   "cell_type": "code",
   "execution_count": 13,
   "id": "be7818a6",
   "metadata": {},
   "outputs": [
    {
     "name": "stdout",
     "output_type": "stream",
     "text": [
      "PyThon\n",
      "pYtHON\n"
     ]
    }
   ],
   "source": [
    "s1=\"PyThon\"\n",
    "\n",
    "s2=\"\"\n",
    "\n",
    "for i in s1:\n",
    "    if i.isupper():\n",
    "        s2+=\"\".join(i.lower())\n",
    "    else:\n",
    "        s2+=\"\".join(i.upper())\n",
    "\n",
    "print(s1)\n",
    "print(s2)"
   ]
  },
  {
   "cell_type": "code",
   "execution_count": 17,
   "id": "8e37edc3",
   "metadata": {},
   "outputs": [
    {
     "name": "stdout",
     "output_type": "stream",
     "text": [
      "Valid url\n"
     ]
    }
   ],
   "source": [
    "url=input(\"Enter your Url : \")\n",
    "if url.startswith(\"http://\") or url.startswith(\"https://\"):\n",
    "    if url.endswith(\".com\") or url.endswith(\".in\"):\n",
    "        print(\"Valid url\")\n",
    "    else:\n",
    "        print(\"invalid url\")\n",
    "else:\n",
    "    print(\"Invalid url\")\n"
   ]
  },
  {
   "cell_type": "code",
   "execution_count": 20,
   "id": "7759db60",
   "metadata": {},
   "outputs": [
    {
     "name": "stdout",
     "output_type": "stream",
     "text": [
      "invalid email\n"
     ]
    }
   ],
   "source": [
    "gmail=input(\"Enter Gmail= \")\n",
    "if gmail.isalnum() or gmail.lower() :\n",
    "    if gmail.endswith(\"@gmail.com\") :\n",
    "        print(\"valid email\")\n",
    "    else:\n",
    "        print(\"Invalid email\")\n",
    "else:\n",
    "    print(\"invalid email\")"
   ]
  },
  {
   "cell_type": "code",
   "execution_count": 25,
   "id": "35f528e7",
   "metadata": {},
   "outputs": [
    {
     "name": "stdout",
     "output_type": "stream",
     "text": [
      "p\n",
      "h\n",
      "n\n",
      "n\n",
      "h\n"
     ]
    }
   ],
   "source": [
    "#positive indexing\n",
    "\n",
    "\"\"\" \n",
    "0 1 2 3 4 5\n",
    "p y t h o n \n",
    "-6 - 5 - 4 - 3 -2 - 1\n",
    "\"\"\"\n",
    "#in python indexing always  start with 0\n",
    "name=\"python\"\n",
    "\n",
    "print(name[0])\n",
    "print(name[3])\n",
    "\n",
    "print(name[len(name)-1])\n",
    "print(name[-1])\n",
    "print(name[-3])"
   ]
  },
  {
   "cell_type": "code",
   "execution_count": null,
   "id": "c90887c2",
   "metadata": {},
   "outputs": [],
   "source": []
  }
 ],
 "metadata": {
  "kernelspec": {
   "display_name": "Python 3",
   "language": "python",
   "name": "python3"
  },
  "language_info": {
   "codemirror_mode": {
    "name": "ipython",
    "version": 3
   },
   "file_extension": ".py",
   "mimetype": "text/x-python",
   "name": "python",
   "nbconvert_exporter": "python",
   "pygments_lexer": "ipython3",
   "version": "3.12.4"
  }
 },
 "nbformat": 4,
 "nbformat_minor": 5
}
