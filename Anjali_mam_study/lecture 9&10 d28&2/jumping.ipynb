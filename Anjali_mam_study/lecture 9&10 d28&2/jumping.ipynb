{
 "cells": [
  {
   "cell_type": "code",
   "execution_count": 1,
   "id": "3db75f20",
   "metadata": {},
   "outputs": [
    {
     "data": {
      "text/plain": [
       "' jUmping /Control Statement'"
      ]
     },
     "execution_count": 1,
     "metadata": {},
     "output_type": "execute_result"
    }
   ],
   "source": [
    "\"\"\" jUmping /Control Statement\"\"\"\n",
    "\n",
    "#there are three control statement\n",
    "\n",
    "# 1)break:break the loop or sequance\n",
    "# 2)continue:skip the Process or iteration of Loop \n",
    "# 3)pass: nothing to display just a placeholder"
   ]
  },
  {
   "cell_type": "code",
   "execution_count": 2,
   "id": "40787f09",
   "metadata": {},
   "outputs": [
    {
     "name": "stdout",
     "output_type": "stream",
     "text": [
      "1\n",
      "2\n"
     ]
    }
   ],
   "source": [
    "\"\"\" Break Example\"\"\"\n",
    "\n",
    "for i in range(1,6):\n",
    "    if i==3:\n",
    "      break\n",
    "    print(i)"
   ]
  },
  {
   "cell_type": "code",
   "execution_count": 3,
   "id": "1f9838e2",
   "metadata": {},
   "outputs": [
    {
     "name": "stdout",
     "output_type": "stream",
     "text": [
      "1\n",
      "2\n",
      "4\n",
      "5\n"
     ]
    }
   ],
   "source": [
    "\"\"\" continue example\"\"\"\n",
    "\n",
    "for i in range(1,6):\n",
    "    if i==3:\n",
    "        continue\n",
    "    print(i)"
   ]
  },
  {
   "cell_type": "code",
   "execution_count": 4,
   "id": "6f90d5ae",
   "metadata": {},
   "outputs": [],
   "source": [
    "if 2==2:\n",
    "    pass"
   ]
  },
  {
   "cell_type": "code",
   "execution_count": null,
   "id": "2c79deb0",
   "metadata": {},
   "outputs": [],
   "source": []
  }
 ],
 "metadata": {
  "kernelspec": {
   "display_name": "Python 3",
   "language": "python",
   "name": "python3"
  },
  "language_info": {
   "codemirror_mode": {
    "name": "ipython",
    "version": 3
   },
   "file_extension": ".py",
   "mimetype": "text/x-python",
   "name": "python",
   "nbconvert_exporter": "python",
   "pygments_lexer": "ipython3",
   "version": "3.12.4"
  }
 },
 "nbformat": 4,
 "nbformat_minor": 5
}
