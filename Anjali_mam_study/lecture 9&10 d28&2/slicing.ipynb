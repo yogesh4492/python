{
 "cells": [
  {
   "cell_type": "code",
   "execution_count": 2,
   "id": "4b21ecbb",
   "metadata": {},
   "outputs": [
    {
     "name": "stdout",
     "output_type": "stream",
     "text": [
      "Pyt\n"
     ]
    }
   ],
   "source": [
    "\"\"\"String slicing  date-2/9/2025 \"\"\"\n",
    "name=\"Python\"\n",
    "print(name[0:3])\n"
   ]
  },
  {
   "cell_type": "code",
   "execution_count": 4,
   "id": "e3cfc0af",
   "metadata": {},
   "outputs": [
    {
     "name": "stdout",
     "output_type": "stream",
     "text": [
      "th\n",
      "Pyt\n",
      "Python\n",
      "Pytho\n",
      "nohtyP\n"
     ]
    }
   ],
   "source": [
    "\"\"\" \n",
    "0 1 2 3 4 5\n",
    "p y t h o n\n",
    "-6 -5 -4- 3 -2 -1\n",
    "\"\"\"\n",
    "\n",
    "name=\"Python\"\n",
    "print(name[2:4])\n",
    "print(name[:3])#by default start with 0\n",
    "print(name[:])#whole\n",
    "print(name[:-1])#pytho\n",
    "print(name[::-1])#reverse"
   ]
  },
  {
   "cell_type": "code",
   "execution_count": 5,
   "id": "650d28d6",
   "metadata": {},
   "outputs": [
    {
     "name": "stdout",
     "output_type": "stream",
     "text": [
      "String is palindrome\n"
     ]
    }
   ],
   "source": [
    "s1=\"MOM\"\n",
    "rev=s1[::-1]\n",
    "if rev==s1:\n",
    "    print(\"String is palindrome\")\n",
    "else:\n",
    "    print(\"Not Palindrome\")"
   ]
  },
  {
   "cell_type": "code",
   "execution_count": 6,
   "id": "cee76c2b",
   "metadata": {},
   "outputs": [
    {
     "name": "stdout",
     "output_type": "stream",
     "text": [
      "True\n"
     ]
    }
   ],
   "source": [
    "s1=\"MADAM\"\n",
    "print(s1==s1[::-1])"
   ]
  },
  {
   "cell_type": "code",
   "execution_count": null,
   "id": "8c5f3a80",
   "metadata": {},
   "outputs": [],
   "source": []
  }
 ],
 "metadata": {
  "kernelspec": {
   "display_name": "Python 3",
   "language": "python",
   "name": "python3"
  },
  "language_info": {
   "codemirror_mode": {
    "name": "ipython",
    "version": 3
   },
   "file_extension": ".py",
   "mimetype": "text/x-python",
   "name": "python",
   "nbconvert_exporter": "python",
   "pygments_lexer": "ipython3",
   "version": "3.12.4"
  }
 },
 "nbformat": 4,
 "nbformat_minor": 5
}
