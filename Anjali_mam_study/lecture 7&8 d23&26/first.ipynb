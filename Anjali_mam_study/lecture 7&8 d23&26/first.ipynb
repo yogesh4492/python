{
 "cells": [
  {
   "cell_type": "code",
   "execution_count": null,
   "id": "14eef2b0",
   "metadata": {},
   "outputs": [
    {
     "name": "stdout",
     "output_type": "stream",
     "text": [
      "Total sum= 99\n"
     ]
    }
   ],
   "source": [
    "# date -23-08-2025\n",
    "\n",
    "\"\"\"  \n",
    "#accept number and perform addition operation using while loop\n",
    "\n",
    "\"\"\"\n",
    "sum=0\n",
    "status=True\n",
    "while status==True:\n",
    "    num=int(input(\"Enter Number= \"))\n",
    "    sum+=num\n",
    "    choice=input(\"Do you want to continue press 'y' for yes and 'n' for no\").lower()\n",
    "    if choice=='y' or choice=='yes':\n",
    "        status=True\n",
    "    else:\n",
    "        status=False\n",
    "\n",
    "print(f\"Total sum= {sum}\")"
   ]
  },
  {
   "cell_type": "code",
   "execution_count": 9,
   "id": "cdd1c204",
   "metadata": {},
   "outputs": [
    {
     "name": "stdout",
     "output_type": "stream",
     "text": [
      "Hint: Guess Upeer Number\n",
      "Hint: Guess Upeer Number\n",
      "hint : guess lower number\n",
      "hint : guess lower number\n",
      "hint : guess lower number\n",
      "You win\n"
     ]
    }
   ],
   "source": [
    "\"\"\"   \n",
    "\"\"\"\n",
    "import random\n",
    "computer =random.randint(1,100)\n",
    "\n",
    "status=True\n",
    "while status:\n",
    "    user=int(input(\"Enter Number= \"))\n",
    "    if user>computer:\n",
    "        print(\"hint : guess lower number\")\n",
    "    elif user<computer:\n",
    "        print(\"Hint: Guess Upeer Number\")\n",
    "    else:\n",
    "        print(\"You win\")\n",
    "        status=False\n",
    "\n",
    "\n"
   ]
  },
  {
   "cell_type": "code",
   "execution_count": 2,
   "id": "703a2c14",
   "metadata": {},
   "outputs": [
    {
     "name": "stdout",
     "output_type": "stream",
     "text": [
      " *  *  *  *  * \n",
      " *  *  *  *  * \n",
      " *  *  *  *  * \n",
      " *  *  *  *  * \n",
      " *  *  *  *  * \n"
     ]
    }
   ],
   "source": [
    "\"\"\" \n",
    "date-26-08-2025\n",
    "\"\"\"\n",
    "\n",
    "\n",
    "\"\"\"  \n",
    "Nested loop \n",
    "\n",
    "loop inside another loop its call nested loop\n",
    "\n",
    "syntax:\n",
    "for var in sequance:\n",
    "   for var in sequence:\n",
    "       statement\n",
    "\n",
    "\"\"\"\n",
    "\n",
    "for row in range(1,6):\n",
    "    for col in range(1,6):\n",
    "        print(\" * \",end=\"\")\n",
    "    print()"
   ]
  },
  {
   "cell_type": "code",
   "execution_count": 3,
   "id": "76c9ba64",
   "metadata": {},
   "outputs": [
    {
     "name": "stdout",
     "output_type": "stream",
     "text": [
      "* \n",
      "* * \n",
      "* * * \n",
      "* * * * \n",
      "* * * * * \n"
     ]
    }
   ],
   "source": [
    "\"\"\"\n",
    "*\n",
    "* *\n",
    "* * *\n",
    "* * * *\n",
    "* * * * *\n",
    "\n",
    "\"\"\"\n",
    "\n",
    "for row in range(1,6):\n",
    "    for col in range(1,row+1):\n",
    "        print(\"*\",end=\" \")\n",
    "    print()"
   ]
  },
  {
   "cell_type": "code",
   "execution_count": 4,
   "id": "dc5e8da0",
   "metadata": {},
   "outputs": [
    {
     "name": "stdout",
     "output_type": "stream",
     "text": [
      "1 \n",
      "1 2 \n",
      "1 2 3 \n",
      "1 2 3 4 \n",
      "1 2 3 4 5 \n"
     ]
    }
   ],
   "source": [
    "\"\"\" \n",
    "1 \n",
    "1 2 \n",
    "1 2 3\n",
    "1 2 3 4\n",
    "1 2 3 4 5\n",
    "\n",
    "\"\"\"\n",
    "\n",
    "for row in range(1,6):\n",
    "    for col in range(1,row+1):\n",
    "        print(col,end=\" \")\n",
    "    print()"
   ]
  },
  {
   "cell_type": "code",
   "execution_count": 5,
   "id": "52b311f6",
   "metadata": {},
   "outputs": [
    {
     "name": "stdout",
     "output_type": "stream",
     "text": [
      "1 \n",
      "2 2 \n",
      "3 3 3 \n",
      "4 4 4 4 \n",
      "5 5 5 5 5 \n"
     ]
    }
   ],
   "source": [
    "\"\"\" \n",
    "1\n",
    "2 2\n",
    "3 3 3\n",
    "4 4 4 4\n",
    "5 5 5 5 5\n",
    "\"\"\"\n",
    "\n",
    "for row in range(1,6):\n",
    "    for j in range(1,row+1):\n",
    "        print(row,end=\" \")\n",
    "    print()"
   ]
  },
  {
   "cell_type": "code",
   "execution_count": 6,
   "id": "171addbb",
   "metadata": {},
   "outputs": [
    {
     "name": "stdout",
     "output_type": "stream",
     "text": [
      "1 \n",
      "0 0 \n",
      "1 1 1 \n",
      "0 0 0 0 \n",
      "1 1 1 1 1 \n"
     ]
    }
   ],
   "source": [
    "\"\"\" \n",
    "1\n",
    "0 0\n",
    "1 1 1\n",
    "0 0 0 0\n",
    "1 1 1 1 1\n",
    "\"\"\"\n",
    "for i in range(1,6):\n",
    "    for j in range(1,i+1):\n",
    "        print(i%2,end=\" \")\n",
    "    print()"
   ]
  },
  {
   "cell_type": "code",
   "execution_count": 9,
   "id": "478d423e",
   "metadata": {},
   "outputs": [
    {
     "name": "stdout",
     "output_type": "stream",
     "text": [
      "1 \n",
      "1 0 \n",
      "1 0 1 \n",
      "1 0 1 0 \n",
      "1 0 1 0 1 \n"
     ]
    }
   ],
   "source": [
    "# 1\n",
    "# 1 0\n",
    "# 1 0 1 \n",
    "# 1 0 1 0\n",
    "# 1 0 1 0 1\n",
    "\n",
    "for i in range(1,6):\n",
    "    for j in range(1,i+1):\n",
    "        print(j%2,end=\" \")\n",
    "    print()"
   ]
  },
  {
   "cell_type": "code",
   "execution_count": 13,
   "id": "fdad2a4b",
   "metadata": {},
   "outputs": [
    {
     "name": "stdout",
     "output_type": "stream",
     "text": [
      "1 \n",
      "2 3 \n",
      "4 5 6 \n",
      "7 8 9 10 \n",
      "11 12 13 14 15 \n"
     ]
    }
   ],
   "source": [
    "\"\"\" \n",
    "1\n",
    "2 3\n",
    "4 5 6 \n",
    "7 8 9 10\n",
    "\n",
    "\"\"\"\n",
    "k=1\n",
    "for i in range(1,6):\n",
    "    for j in range(1,i+1):\n",
    "        print(k,end=\" \")\n",
    "        k+=1\n",
    "    print()"
   ]
  },
  {
   "cell_type": "code",
   "execution_count": 14,
   "id": "7725b410",
   "metadata": {},
   "outputs": [
    {
     "name": "stdout",
     "output_type": "stream",
     "text": [
      "A\n",
      "72\n"
     ]
    }
   ],
   "source": [
    "a=65\n",
    "print(chr(a))\n",
    "\n",
    "b='H'\n",
    "print(ord(b))"
   ]
  },
  {
   "cell_type": "code",
   "execution_count": 16,
   "id": "2680c9c4",
   "metadata": {},
   "outputs": [
    {
     "name": "stdout",
     "output_type": "stream",
     "text": [
      "A \n",
      "B B \n",
      "C C C \n",
      "D D D D \n",
      "E E E E E \n"
     ]
    }
   ],
   "source": [
    "\"\"\"  \n",
    "A\n",
    "B B\n",
    "C C C\n",
    "D D D D\n",
    "\n",
    "\"\"\"\n",
    "num=65\n",
    "for i in range(1,6):\n",
    "    for j in range(1,i+1):\n",
    "        print(chr(num),end=\" \")\n",
    "    num+=1\n",
    "    print()"
   ]
  },
  {
   "cell_type": "code",
   "execution_count": null,
   "id": "18276bd1",
   "metadata": {},
   "outputs": [],
   "source": []
  }
 ],
 "metadata": {
  "kernelspec": {
   "display_name": "Python 3",
   "language": "python",
   "name": "python3"
  },
  "language_info": {
   "codemirror_mode": {
    "name": "ipython",
    "version": 3
   },
   "file_extension": ".py",
   "mimetype": "text/x-python",
   "name": "python",
   "nbconvert_exporter": "python",
   "pygments_lexer": "ipython3",
   "version": "3.12.4"
  }
 },
 "nbformat": 4,
 "nbformat_minor": 5
}
