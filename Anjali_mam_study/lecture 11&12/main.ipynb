{
 "cells": [
  {
   "cell_type": "code",
   "execution_count": 1,
   "id": "9ebf71a9",
   "metadata": {},
   "outputs": [
    {
     "name": "stdout",
     "output_type": "stream",
     "text": [
      "[1, 2, 3, 54]\n",
      "[1, 2, 3, 54, 1001]\n",
      "[1, 2, 3, 54, 1001, 1002]\n"
     ]
    }
   ],
   "source": [
    "\"\"\" List method  \"\"\"\n",
    "\n",
    "list=[1,2,3,54]\n",
    "print(list)\n",
    "list.append(1001)\n",
    "print(list)\n",
    "list.append(1002)\n",
    "print(list)"
   ]
  },
  {
   "cell_type": "code",
   "execution_count": 2,
   "id": "f8e0aa99",
   "metadata": {},
   "outputs": [
    {
     "name": "stdout",
     "output_type": "stream",
     "text": [
      "[]\n",
      "[1, 2, 3, 54]\n"
     ]
    }
   ],
   "source": [
    "l1=[]\n",
    "print(l1)\n",
    "l1.extend([1,2,3,54])\n",
    "print(l1)"
   ]
  },
  {
   "cell_type": "code",
   "execution_count": 5,
   "id": "2d27dbef",
   "metadata": {},
   "outputs": [
    {
     "name": "stdout",
     "output_type": "stream",
     "text": [
      "[1, 2, 3, 4, 5]\n"
     ]
    }
   ],
   "source": [
    "list5=[]\n",
    "for i in range(1,6):\n",
    "    num=int(input(\"Enter Number= \"))\n",
    "    list5.append(num)\n",
    "print(list5)"
   ]
  },
  {
   "cell_type": "code",
   "execution_count": 6,
   "id": "d511bbfe",
   "metadata": {},
   "outputs": [
    {
     "name": "stdout",
     "output_type": "stream",
     "text": [
      "[1, 22, 3, 4, 111, 33, 55]\n",
      "[111, 33, 55]\n"
     ]
    }
   ],
   "source": [
    "list1=[1,22,3,4]\n",
    "list2=[111,33,55]\n",
    "list1.extend(list2)\n",
    "print(list1)\n",
    "print(list2)"
   ]
  },
  {
   "cell_type": "code",
   "execution_count": 7,
   "id": "8dcec111",
   "metadata": {},
   "outputs": [
    {
     "name": "stdout",
     "output_type": "stream",
     "text": [
      "[244, 986]\n"
     ]
    }
   ],
   "source": [
    "list=[1,244,667,887,986]\n",
    "e_list=[]\n",
    "for i in list:\n",
    "    if i%2==0:\n",
    "        e_list.append(i)\n",
    "print(e_list)"
   ]
  },
  {
   "cell_type": "code",
   "execution_count": 8,
   "id": "27322dca",
   "metadata": {},
   "outputs": [
    {
     "name": "stdout",
     "output_type": "stream",
     "text": [
      "[1, 2, 3, 10, 20, 30]\n"
     ]
    }
   ],
   "source": [
    "l1=[1,2,3]\n",
    "l2=[10,20,30]\n",
    "for i in l2:\n",
    "    l1.append(i)\n",
    "print(l1)\n"
   ]
  },
  {
   "cell_type": "code",
   "execution_count": null,
   "id": "302486b4",
   "metadata": {},
   "outputs": [],
   "source": []
  }
 ],
 "metadata": {
  "kernelspec": {
   "display_name": "Python 3",
   "language": "python",
   "name": "python3"
  },
  "language_info": {
   "codemirror_mode": {
    "name": "ipython",
    "version": 3
   },
   "file_extension": ".py",
   "mimetype": "text/x-python",
   "name": "python",
   "nbconvert_exporter": "python",
   "pygments_lexer": "ipython3",
   "version": "3.12.4"
  }
 },
 "nbformat": 4,
 "nbformat_minor": 5
}
