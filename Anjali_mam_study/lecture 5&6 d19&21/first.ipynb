{
 "cells": [
  {
   "cell_type": "code",
   "execution_count": 1,
   "id": "a0afd911",
   "metadata": {},
   "outputs": [
    {
     "name": "stdout",
     "output_type": "stream",
     "text": [
      "hello world\n"
     ]
    }
   ],
   "source": [
    "print(\"hello world\")"
   ]
  },
  {
   "cell_type": "code",
   "execution_count": 1,
   "id": "dd231116",
   "metadata": {},
   "outputs": [
    {
     "name": "stdout",
     "output_type": "stream",
     "text": [
      "1\n",
      "2\n",
      "3\n",
      "4\n",
      "5\n"
     ]
    }
   ],
   "source": [
    "\"\"\"\n",
    "Date -19-08-2025\n",
    "\"\"\"\n",
    "\n",
    "\"\"\" \n",
    "lopping sttement:\n",
    " there are two type of loop:\n",
    "\n",
    " 1)For loop\n",
    "\n",
    " 2)While loop\n",
    "\n",
    " --------------------------------------------------------\n",
    "\n",
    " for loop: for loop is sequance controlled loop\n",
    "\n",
    " syntax: \n",
    "\n",
    " for var in  sequance:\n",
    " \n",
    " statement\n",
    "\n",
    "\"\"\"\n",
    "\n",
    "for a in range(1,6):\n",
    "    print(a)"
   ]
  },
  {
   "cell_type": "code",
   "execution_count": 2,
   "id": "9a8be02d",
   "metadata": {},
   "outputs": [
    {
     "name": "stdout",
     "output_type": "stream",
     "text": [
      "0\n",
      "1\n",
      "2\n",
      "3\n",
      "4\n"
     ]
    }
   ],
   "source": [
    "\"\"\"\n",
    "\n",
    "#by default loop start from 0\n",
    "\n",
    "range(start,stop,step)\n",
    "range(5):start  from 0-4 \n",
    "range(3,8):3-7 syntax(start,stop)\n",
    "\n",
    "\"\"\"\n",
    "for i in range(5):\n",
    "    print(i)"
   ]
  },
  {
   "cell_type": "code",
   "execution_count": 3,
   "id": "c2bade30",
   "metadata": {},
   "outputs": [
    {
     "name": "stdout",
     "output_type": "stream",
     "text": [
      "5 4 3 2 1 "
     ]
    }
   ],
   "source": [
    "#date- 21-08-2025\n",
    "\n",
    "\"\"\" \n",
    "reverse in for\n",
    "\"\"\"\n",
    "\n",
    "for i in range(5,0,-1):\n",
    "    print(i,end=\" \")\n",
    "    "
   ]
  },
  {
   "cell_type": "code",
   "execution_count": 4,
   "id": "cdc043f9",
   "metadata": {},
   "outputs": [
    {
     "name": "stdout",
     "output_type": "stream",
     "text": [
      "p\n",
      "y\n",
      "t\n",
      "h\n",
      "o\n",
      "n\n"
     ]
    }
   ],
   "source": [
    "subject=\"python\"\n",
    "for i in subject:\n",
    "    print(i)"
   ]
  },
  {
   "cell_type": "code",
   "execution_count": 8,
   "id": "151b87f0",
   "metadata": {},
   "outputs": [
    {
     "name": "stdout",
     "output_type": "stream",
     "text": [
      "j\n",
      "a\n",
      "v\n",
      "a\n",
      "Total Charactre=  4\n"
     ]
    }
   ],
   "source": [
    "subject=input(\"Enter Subject= \")\n",
    "count=0\n",
    "for i in subject:\n",
    "    count+=1\n",
    "    print(i)\n",
    "print(\"Total Charactre= \",count)"
   ]
  },
  {
   "cell_type": "code",
   "execution_count": 14,
   "id": "02be68d4",
   "metadata": {},
   "outputs": [
    {
     "name": "stdout",
     "output_type": "stream",
     "text": [
      "1\n",
      "2\n",
      "3\n",
      "4\n",
      "5\n"
     ]
    }
   ],
   "source": [
    "\"\"\" \n",
    "\n",
    "while loop: while loop is entry control loop\n",
    "\n",
    "syntax:\n",
    "\n",
    "initialization\n",
    "\n",
    "while condition\n",
    " statement\n",
    " updation\n",
    "\n",
    "\"\"\"\n",
    "\n",
    "i=1\n",
    "while i<=5:\n",
    "    print(i)\n",
    "    i+=1\n"
   ]
  },
  {
   "cell_type": "code",
   "execution_count": 13,
   "id": "09a78e83",
   "metadata": {},
   "outputs": [
    {
     "name": "stdout",
     "output_type": "stream",
     "text": [
      "5\n",
      "4\n",
      "3\n",
      "2\n",
      "1\n"
     ]
    }
   ],
   "source": [
    "i=5\n",
    "while i>=1:\n",
    "    print(i)\n",
    "    i-=1"
   ]
  },
  {
   "cell_type": "code",
   "execution_count": 15,
   "id": "3569af73",
   "metadata": {},
   "outputs": [
    {
     "name": "stdout",
     "output_type": "stream",
     "text": [
      "yogesh\n"
     ]
    }
   ],
   "source": [
    "status=True\n",
    "while status==True:\n",
    "    name=input(\"Enter Your Name= \")\n",
    "    print(name)\n",
    "    choice=input(\"Do yoiu wngt to continue pree 'y' for yes and press 'n' for no\")\n",
    "    if choice=='y' or choice=='yes':\n",
    "        status=True\n",
    "    else:\n",
    "        status=False"
   ]
  },
  {
   "cell_type": "code",
   "execution_count": null,
   "id": "495bd223",
   "metadata": {},
   "outputs": [],
   "source": []
  }
 ],
 "metadata": {
  "kernelspec": {
   "display_name": "Python 3",
   "language": "python",
   "name": "python3"
  },
  "language_info": {
   "codemirror_mode": {
    "name": "ipython",
    "version": 3
   },
   "file_extension": ".py",
   "mimetype": "text/x-python",
   "name": "python",
   "nbconvert_exporter": "python",
   "pygments_lexer": "ipython3",
   "version": "3.12.4"
  }
 },
 "nbformat": 4,
 "nbformat_minor": 5
}
