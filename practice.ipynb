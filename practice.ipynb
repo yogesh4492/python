{
 "cells": [
  {
   "cell_type": "code",
   "execution_count": null,
   "id": "bd7657a8",
   "metadata": {},
   "outputs": [],
   "source": [
    "print(\"hello world\")"
   ]
  },
  {
   "cell_type": "code",
   "execution_count": null,
   "id": "d0963e72",
   "metadata": {},
   "outputs": [],
   "source": [
    "roll=101;std=12;name='yogesh';percentage=89.98;fees=100000\n",
    "\n",
    "print(roll,std,name,percentage,fees)\n",
    "print(type(roll),type(std),type(name),type(percentage),type(fees))\n",
    "\n"
   ]
  },
  {
   "cell_type": "code",
   "execution_count": null,
   "id": "48607955",
   "metadata": {},
   "outputs": [],
   "source": [
    "roll=input(\"enter your roll no: \")\n",
    "print(\"roll no is= \",roll)\n"
   ]
  },
  {
   "cell_type": "code",
   "execution_count": null,
   "id": "f0c732fa",
   "metadata": {},
   "outputs": [],
   "source": []
  }
 ],
 "metadata": {
  "kernelspec": {
   "display_name": "Python 3",
   "language": "python",
   "name": "python3"
  },
  "language_info": {
   "codemirror_mode": {
    "name": "ipython",
    "version": 3
   },
   "file_extension": ".py",
   "mimetype": "text/x-python",
   "name": "python",
   "nbconvert_exporter": "python",
   "pygments_lexer": "ipython3",
   "version": "3.12.4"
  }
 },
 "nbformat": 4,
 "nbformat_minor": 5
}
