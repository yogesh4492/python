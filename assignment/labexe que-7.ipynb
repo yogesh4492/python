{
 "cells": [
  {
   "cell_type": "code",
   "execution_count": 1,
   "id": "8d1d59c1",
   "metadata": {},
   "outputs": [
    {
     "data": {
      "text/plain": [
       "' Que -6. Generators and Iterators'"
      ]
     },
     "execution_count": 1,
     "metadata": {},
     "output_type": "execute_result"
    }
   ],
   "source": [
    "\"\"\" Que -6. Generators and Iterators\"\"\"\n",
    "\n",
    "#"
   ]
  },
  {
   "cell_type": "code",
   "execution_count": 2,
   "id": "7c9ecf6e",
   "metadata": {},
   "outputs": [
    {
     "name": "stdout",
     "output_type": "stream",
     "text": [
      "Hello \n",
      "Yogesh\n",
      "Hello,\n",
      "My name name is Yogesh Patel \n",
      "I HAve Completed My Bca\n",
      "Y\n",
      "ello My name is Yogesh \n",
      "hello\n",
      "oge\n",
      "dlroW olleH\n",
      "el yhnI ihLvlLnug\n"
     ]
    }
   ],
   "source": [
    "\"\"\" Que- 7 Functions And Methods \"\"\"\n",
    "# Practical Example: 1) Write a Python program to print \"Hello\" using a string\n",
    "\n",
    "print(\"Hello \")\n",
    "\n",
    "\n",
    "# Practical Example: 2) Write a Python program to allocate a string to a variable and print it.\n",
    "\n",
    "var=\"Yogesh\"\n",
    "print(var)\n",
    "\n",
    "#Practical Example: 3) Write a Python program to print a string using triple quotes.\n",
    "\n",
    "var=\"\"\"Hello,\n",
    "My name name is Yogesh Patel \n",
    "I HAve Completed My Bca\"\"\"\n",
    "print(var)\n",
    "\n",
    "# Practical Example: 4) Write a Python program to access the first character of a string using \n",
    "# index value\n",
    "str1=\"Yogesh\"\n",
    "print(str1[0])\n",
    "\n",
    "#Practical Example: 5) Write a Python program to access the string from the second position \n",
    "# onwards using slicing.\n",
    "\n",
    "string=\"Hello My name is Yogesh \"\n",
    "print(string[1:])\n",
    "\n",
    "# Practical Example: 6) Write a Python program to access a string up to the fifth character\n",
    "\n",
    "var=\"hello World\"\n",
    "print(var[:5])\n",
    "\n",
    "\n",
    "# Practical Example: 7) Write a Python program to print the substring between index values 1 \n",
    "# and 4.\n",
    "\n",
    "var=\"Yogesh\"\n",
    "print(var[1:4])\n",
    "\n",
    "# Practical Example: 8) Write a Python program to print a string from the last character.\n",
    "\n",
    "var=\"Hello World\"\n",
    "print(var[-1::-1])\n",
    "\n",
    "# Practical Example: 9) Write a Python program to print every alternate character from the \n",
    "# string starting from index 1\n",
    "\n",
    "\n",
    "var=\"Hello Python Is High LEvel Language\"\n",
    "print(var[1::2])\n"
   ]
  },
  {
   "cell_type": "code",
   "execution_count": 8,
   "id": "ab6955ff",
   "metadata": {},
   "outputs": [
    {
     "name": "stdout",
     "output_type": "stream",
     "text": [
      "Hello \n"
     ]
    }
   ],
   "source": [
    "# Practical Example: 1) Write a Python program to print \"Hello\" using a string\n",
    "def string():\n",
    "    print(\"Hello \")\n",
    "string()"
   ]
  },
  {
   "cell_type": "code",
   "execution_count": 1,
   "id": "1dfcfe1b",
   "metadata": {},
   "outputs": [
    {
     "name": "stdout",
     "output_type": "stream",
     "text": [
      "Yogesh\n"
     ]
    }
   ],
   "source": [
    "# Practical Example: 2) Write a Python program to allocate a string to a variable and print it.\n",
    "\n",
    "def String(var):\n",
    "    print(var)\n",
    "var=\"Yogesh\"\n",
    "String(var)\n"
   ]
  },
  {
   "cell_type": "code",
   "execution_count": 2,
   "id": "2ae757ba",
   "metadata": {},
   "outputs": [
    {
     "name": "stdout",
     "output_type": "stream",
     "text": [
      "Hello,\n",
      "My name name is Yogesh Patel \n",
      "I HAve Completed My Bca\n"
     ]
    }
   ],
   "source": [
    "#Practical Example: 3) Write a Python program to print a string using triple quotes.\n",
    "\n",
    "def String(var):\n",
    "    print(var)\n",
    "var=\"\"\"Hello,\n",
    "My name name is Yogesh Patel \n",
    "I HAve Completed My Bca\"\"\"\n",
    "String(var)"
   ]
  },
  {
   "cell_type": "code",
   "execution_count": 3,
   "id": "077e6460",
   "metadata": {},
   "outputs": [
    {
     "name": "stdout",
     "output_type": "stream",
     "text": [
      "H\n"
     ]
    }
   ],
   "source": [
    "# Practical Example: 4) Write a Python program to access the first character of a string using \n",
    "# index value\n",
    "\n",
    "def String(var):\n",
    "    print(var[0])\n",
    "var=\"Hello\"\n",
    "String(var)"
   ]
  },
  {
   "cell_type": "code",
   "execution_count": 10,
   "id": "87c4b582",
   "metadata": {},
   "outputs": [
    {
     "name": "stdout",
     "output_type": "stream",
     "text": [
      "ello My name is Yogesh \n"
     ]
    }
   ],
   "source": [
    "#Practical Example: 5) Write a Python program to access the string from the second position \n",
    "# onwards using slicing.\n",
    "def string(var):\n",
    "    print(var[1:])\n",
    "var=\"Hello My name is Yogesh \"\n",
    "string(var)"
   ]
  },
  {
   "cell_type": "code",
   "execution_count": 11,
   "id": "1df6b1b2",
   "metadata": {},
   "outputs": [
    {
     "name": "stdout",
     "output_type": "stream",
     "text": [
      "Hello\n"
     ]
    }
   ],
   "source": [
    "# Practical Example: 6) Write a Python program to access a string up to the fifth character\n",
    "\n",
    "def string(var):\n",
    "    print(var[:5])\n",
    "var=\"Hello World\"\n",
    "string(var)"
   ]
  },
  {
   "cell_type": "code",
   "execution_count": 13,
   "id": "d9bac4b3",
   "metadata": {},
   "outputs": [
    {
     "name": "stdout",
     "output_type": "stream",
     "text": [
      "oge\n"
     ]
    }
   ],
   "source": [
    "# Practical Example: 7) Write a Python program to print the substring between index values 1 \n",
    "# and 4.\n",
    "\n",
    "def string(var):\n",
    "    print(var[1:4])\n",
    "var=\"Yogesh\"\n",
    "string(var)"
   ]
  },
  {
   "cell_type": "code",
   "execution_count": 16,
   "id": "ba5c4078",
   "metadata": {},
   "outputs": [
    {
     "name": "stdout",
     "output_type": "stream",
     "text": [
      "dlroW olleH\n"
     ]
    }
   ],
   "source": [
    "# Practical Example: 8) Write a Python program to print a string from the last character.\n",
    "\n",
    "def string(var):\n",
    "    print(var[-1::-1])\n",
    "var=\"Hello World\"\n",
    "string(var)"
   ]
  },
  {
   "cell_type": "code",
   "execution_count": 17,
   "id": "1b4bcc55",
   "metadata": {},
   "outputs": [
    {
     "name": "stdout",
     "output_type": "stream",
     "text": [
      "el yhnI ihLvlLnug\n"
     ]
    }
   ],
   "source": [
    "# Practical Example: 9) Write a Python program to print every alternate character from the \n",
    "# string starting from index 1\n",
    "def string(var):\n",
    "    print(var[1::2])\n",
    "\n",
    "var=\"Hello Python Is High LEvel Language\"\n",
    "string(var)"
   ]
  },
  {
   "cell_type": "code",
   "execution_count": null,
   "id": "1e43e2b1",
   "metadata": {},
   "outputs": [],
   "source": []
  }
 ],
 "metadata": {
  "kernelspec": {
   "display_name": "Python 3",
   "language": "python",
   "name": "python3"
  },
  "language_info": {
   "codemirror_mode": {
    "name": "ipython",
    "version": 3
   },
   "file_extension": ".py",
   "mimetype": "text/x-python",
   "name": "python",
   "nbconvert_exporter": "python",
   "pygments_lexer": "ipython3",
   "version": "3.12.4"
  }
 },
 "nbformat": 4,
 "nbformat_minor": 5
}
