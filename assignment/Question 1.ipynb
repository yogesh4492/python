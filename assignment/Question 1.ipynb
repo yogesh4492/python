{
 "cells": [
  {
   "cell_type": "code",
   "execution_count": 1,
   "id": "f0920a35",
   "metadata": {},
   "outputs": [
    {
     "name": "stdout",
     "output_type": "stream",
     "text": [
      "Hello World !!\n",
      "Good Morning, My Name is Yogesh Patel\n"
     ]
    }
   ],
   "source": [
    "# Que-1-Introduction to Python\n",
    "# i):- Write a Python program that prints \"Hello, World!!\n",
    "print(\"Hello World !!\")\n",
    "# ii):- Set up Python on your local machine and write a program to display your name\n",
    "print(\"Good Morning, My Name is Yogesh Patel\")"
   ]
  },
  {
   "cell_type": "code",
   "execution_count": null,
   "id": "3e72ce01",
   "metadata": {},
   "outputs": [
    {
     "name": "stdout",
     "output_type": "stream",
     "text": [
      "Yogesh\n"
     ]
    }
   ],
   "source": [
    "# 2. Programming Style\n",
    "\n",
    "\"\"\"i):-Write a Python program that demonstrates the correct use of indentation, comments, and \n",
    " variables following PEP 8 guidelines.\n",
    " \n",
    " \"\"\"\n",
    "name=\"Yogesh\"\n",
    "print(name)"
   ]
  },
  {
   "cell_type": "code",
   "execution_count": null,
   "id": "a3a0331f",
   "metadata": {},
   "outputs": [],
   "source": []
  }
 ],
 "metadata": {
  "kernelspec": {
   "display_name": "Python 3",
   "language": "python",
   "name": "python3"
  },
  "language_info": {
   "codemirror_mode": {
    "name": "ipython",
    "version": 3
   },
   "file_extension": ".py",
   "mimetype": "text/x-python",
   "name": "python",
   "nbconvert_exporter": "python",
   "pygments_lexer": "ipython3",
   "version": "3.12.4"
  }
 },
 "nbformat": 4,
 "nbformat_minor": 5
}
