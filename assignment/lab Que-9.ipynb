{
 "cells": [
  {
   "cell_type": "code",
   "execution_count": 7,
   "id": "f59122ed",
   "metadata": {},
   "outputs": [
    {
     "name": "stdout",
     "output_type": "stream",
     "text": [
      "Hello How Are You\n",
      "Hello How \n",
      "HloHwAeYu\n",
      "uoY erA woH olleH\n",
      "ow Are You\n"
     ]
    }
   ],
   "source": [
    "\"\"\" Que-9  String manipulation \"\"\"\n",
    "# Write a Python program to demonstrate string slicing. \n",
    "string=\"Hello How Are You\"\n",
    "\n",
    "print(string[:])#print whole string\n",
    "print(string[0:10])# print only beetween range\n",
    "print(string[::2])# skip one and print second\n",
    "print(string[::-1])#reverse order\n",
    "print(string[-10:])#minus indexing"
   ]
  },
  {
   "cell_type": "code",
   "execution_count": 14,
   "id": "c6bd571f",
   "metadata": {},
   "outputs": [
    {
     "name": "stdout",
     "output_type": "stream",
     "text": [
      "Original String= Heloo MY Name IS Yogesh And I am Fine\n",
      "heloo my name is yogesh and i am fine\n",
      "HELOO MY NAME IS YOGESH AND I AM FINE\n",
      "Heloo my name is yogesh and i am fine\n",
      "Heloo My Name Is Yogesh And I Am Fine\n",
      "hELOO my nAME is yOGESH aND i AM fINE\n",
      "Heloo MY Name IS Yash And I am Fine\n"
     ]
    }
   ],
   "source": [
    "\n",
    "#  Write a Python program that manipulates and prints strings using various string methods.\n",
    "\n",
    "\n",
    "string=\"Heloo MY Name IS Yogesh And I am Fine\"\n",
    "print(f\"Original String= {string}\")\n",
    "# string lower\n",
    "print(string.lower())\n",
    "\n",
    "# string upper\n",
    "print(string.upper())\n",
    "\n",
    "# string capitialize\n",
    "print(string.capitalize())\n",
    "\n",
    "# string title\n",
    "print(string.title())\n",
    "\n",
    "# string Swapcase\n",
    "print(string.swapcase())\n",
    "\n",
    "# string replace\n",
    "\n",
    "print(string.replace(\"Yogesh\",\"Yash\"))"
   ]
  },
  {
   "cell_type": "code",
   "execution_count": null,
   "id": "c2249389",
   "metadata": {},
   "outputs": [],
   "source": []
  }
 ],
 "metadata": {
  "kernelspec": {
   "display_name": "Python 3",
   "language": "python",
   "name": "python3"
  },
  "language_info": {
   "codemirror_mode": {
    "name": "ipython",
    "version": 3
   },
   "file_extension": ".py",
   "mimetype": "text/x-python",
   "name": "python",
   "nbconvert_exporter": "python",
   "pygments_lexer": "ipython3",
   "version": "3.12.4"
  }
 },
 "nbformat": 4,
 "nbformat_minor": 5
}
