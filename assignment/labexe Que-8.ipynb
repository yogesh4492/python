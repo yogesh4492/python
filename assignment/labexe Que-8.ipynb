{
 "cells": [
  {
   "cell_type": "code",
   "execution_count": null,
   "id": "cf780eb2",
   "metadata": {},
   "outputs": [
    {
     "name": "stdout",
     "output_type": "stream",
     "text": [
      "apple\n",
      "mango\n",
      "Banana Found Successfully\n"
     ]
    }
   ],
   "source": [
    "\"\"\" Que 8  Control Statement Break , Continue And Pass \"\"\"\n",
    "\n",
    "# Practical Example: 1) Write a Python program to skip 'banana' in a list using the continue \n",
    "# statement. List1 = ['apple', 'banana', 'mango'] \n",
    "\n",
    "list1=['apple','banana','mango']\n",
    "for i in list1:\n",
    "    if i=='banana':\n",
    "        continue\n",
    "    print(i)\n",
    "\n",
    "#  Practical Example: 2) Write a Python program to stop the loop once 'banana' is found using \n",
    "# the break statement. \n",
    "\n",
    "for item in list1:\n",
    "    if item=='banana':\n",
    "        print(\"Banana Found Successfully\")\n",
    "        break\n",
    "    "
   ]
  },
  {
   "cell_type": "code",
   "execution_count": null,
   "id": "3ce311eb",
   "metadata": {},
   "outputs": [],
   "source": []
  }
 ],
 "metadata": {
  "kernelspec": {
   "display_name": "Python 3",
   "language": "python",
   "name": "python3"
  },
  "language_info": {
   "codemirror_mode": {
    "name": "ipython",
    "version": 3
   },
   "file_extension": ".py",
   "mimetype": "text/x-python",
   "name": "python",
   "nbconvert_exporter": "python",
   "pygments_lexer": "ipython3",
   "version": "3.12.4"
  }
 },
 "nbformat": 4,
 "nbformat_minor": 5
}
