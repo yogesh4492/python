{
 "cells": [
  {
   "cell_type": "code",
   "execution_count": 4,
   "id": "bf7c49b7",
   "metadata": {},
   "outputs": [
    {
     "name": "stdout",
     "output_type": "stream",
     "text": [
      "5 is prime number\n"
     ]
    }
   ],
   "source": [
    "#prime number\n",
    "num=int(input(\"Enter Number= \"))\n",
    "flag=1\n",
    "for i in range(2,num):\n",
    "    if num%i==0:\n",
    "        flag=0\n",
    "if flag:\n",
    "    print(f\"{num} is prime number\")\n",
    "else:\n",
    "    print(f\"{num} is not a prime number\")"
   ]
  },
  {
   "cell_type": "code",
   "execution_count": 5,
   "id": "ad8a924f",
   "metadata": {},
   "outputs": [
    {
     "name": "stdout",
     "output_type": "stream",
     "text": [
      "factorial of 5 = 120\n"
     ]
    }
   ],
   "source": [
    "# factorial \n",
    "\n",
    "num=int(input(\"Enter Num = \"))\n",
    "fact=1\n",
    "for i in range(1,num+1):\n",
    "    fact*=i\n",
    "print(f\"factorial of {num} = {fact}\")"
   ]
  },
  {
   "cell_type": "code",
   "execution_count": 12,
   "id": "74a906d4",
   "metadata": {},
   "outputs": [
    {
     "name": "stdout",
     "output_type": "stream",
     "text": [
      "6 is Perfect number\n"
     ]
    }
   ],
   "source": [
    "# perfect number\n",
    "\n",
    "num=int(input(\"Enter Num= \"))\n",
    "sum=0\n",
    "for i in range(1,num):\n",
    "       if num%i==0:\n",
    "          sum+=i\n",
    "if sum==num:\n",
    "       print(f\"{num} is Perfect number\")\n",
    "else:\n",
    "       print(sum)\n",
    "       print(f\"{num} is not a perfect number\")\n",
    "        "
   ]
  },
  {
   "cell_type": "code",
   "execution_count": null,
   "id": "a7e6e051",
   "metadata": {},
   "outputs": [
    {
     "name": "stdout",
     "output_type": "stream",
     "text": [
      "145 is a strong number\n"
     ]
    }
   ],
   "source": [
    "#strong number\n",
    "\n",
    "num=int(input(\"Enter Num= \"))\n",
    "sum=0\n",
    "tmp=num\n",
    "while num!=0:\n",
    "    rem=num%10\n",
    "    fact=1\n",
    "    for i in range(1,rem+1):\n",
    "        fact*=i\n",
    "    sum+=fact\n",
    "    num=num//10\n",
    "if sum==tmp:\n",
    "    print(f\"{tmp} is a strong number\")\n",
    "else:\n",
    "    print(f\"{tmp} is not a strong number\")"
   ]
  },
  {
   "cell_type": "code",
   "execution_count": 15,
   "id": "4ac2cb6e",
   "metadata": {},
   "outputs": [
    {
     "name": "stdout",
     "output_type": "stream",
     "text": [
      "153 is armstrong number\n"
     ]
    }
   ],
   "source": [
    "#armstrong number\n",
    "\n",
    "num=int(input(\"Enter Num= \"))\n",
    "sum=0\n",
    "digit=0\n",
    "tmp=num\n",
    "cpy=num\n",
    "while num!=0:\n",
    "    num//=10\n",
    "    digit+=1\n",
    "for i in range(1,digit+1):\n",
    "    rem=tmp%10\n",
    "    power=rem**digit\n",
    "    sum+=power\n",
    "    tmp//=10\n",
    "if sum==cpy:\n",
    "    print(f\"{cpy} is armstrong number\")\n",
    "else:\n",
    "    print(f\"{cpy} is not a armstrong number\")"
   ]
  },
  {
   "cell_type": "code",
   "execution_count": 18,
   "id": "2d0ed564",
   "metadata": {},
   "outputs": [
    {
     "name": "stdout",
     "output_type": "stream",
     "text": [
      "fibonacci series= 0 1 1 2 3 "
     ]
    }
   ],
   "source": [
    "# fibonacci series\n",
    "\n",
    "terms=int(input(\"Enter terms of fibonacci series= \"))\n",
    "n1=0\n",
    "n2=1\n",
    "print(f\"fibonacci series= {n1} {n2} \",end=\"\")\n",
    "for i in range(1,terms-1):\n",
    "    n3=n1+n2\n",
    "    print(n3,end=\" \")\n",
    "    n1=n2\n",
    "    n2=n3\n"
   ]
  },
  {
   "cell_type": "code",
   "execution_count": null,
   "id": "790d23d4",
   "metadata": {},
   "outputs": [],
   "source": []
  }
 ],
 "metadata": {
  "kernelspec": {
   "display_name": "Python 3",
   "language": "python",
   "name": "python3"
  },
  "language_info": {
   "codemirror_mode": {
    "name": "ipython",
    "version": 3
   },
   "file_extension": ".py",
   "mimetype": "text/x-python",
   "name": "python",
   "nbconvert_exporter": "python",
   "pygments_lexer": "ipython3",
   "version": "3.12.4"
  }
 },
 "nbformat": 4,
 "nbformat_minor": 5
}
