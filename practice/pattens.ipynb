{
 "cells": [
  {
   "cell_type": "code",
   "execution_count": 3,
   "id": "131c6521",
   "metadata": {},
   "outputs": [
    {
     "name": "stdout",
     "output_type": "stream",
     "text": [
      "* * * \n",
      "* * * \n",
      "* * * \n",
      "* * * \n",
      "* * * \n"
     ]
    }
   ],
   "source": [
    "#rectange pattens\n",
    "\"\"\"\n",
    "* * *\n",
    "* * *\n",
    "* * *\n",
    "* * *\n",
    "* * *\n",
    "\"\"\"\n",
    "row=int(input(\"Enter Row= \"))\n",
    "col=int(input(\"Enter col= \"))\n",
    "for i in range(1,row+1):\n",
    "    for j in range(1,col+1):\n",
    "        print(\"* \",end=\"\")    \n",
    "    print()"
   ]
  },
  {
   "cell_type": "code",
   "execution_count": null,
   "id": "67838e6a",
   "metadata": {},
   "outputs": [
    {
     "name": "stdout",
     "output_type": "stream",
     "text": [
      "* * * \n",
      "*   * \n",
      "*   * \n",
      "*   * \n",
      "* * * \n"
     ]
    }
   ],
   "source": [
    "# hollow rectange pattens\n",
    "\"\"\"\n",
    "* * *\n",
    "*   *\n",
    "*   *\n",
    "*   *\n",
    "* * *\n",
    "\"\"\"\n",
    "row=int(input(\"Enter Row= \"))\n",
    "col=int(input(\"Enter col= \"))\n",
    "for i in range(1,row+1):\n",
    "    for j in range(1,col+1):\n",
    "        if i==1 or i==row or j==1 or j==col:\n",
    "            print(\"* \",end=\"\")\n",
    "        else:\n",
    "            print(end=\"  \")\n",
    "    print()"
   ]
  },
  {
   "cell_type": "code",
   "execution_count": 4,
   "id": "866d056c",
   "metadata": {},
   "outputs": [
    {
     "name": "stdout",
     "output_type": "stream",
     "text": [
      "* * * * * \n",
      "* * * * * \n",
      "* * * * * \n",
      "* * * * * \n",
      "* * * * * \n"
     ]
    }
   ],
   "source": [
    "#squre patten\n",
    "\n",
    "\"\"\"  \n",
    "* * * *\n",
    "* * * *\n",
    "* * * *\n",
    "* * * *\n",
    "\"\"\"\n",
    "\n",
    "row=int(input(\"Enter Row= \"))\n",
    "for i in range(1,row+1):\n",
    "    for j in range(1,row+1):\n",
    "        print(\"* \",end=\"\")\n",
    "    print()"
   ]
  },
  {
   "cell_type": "code",
   "execution_count": 5,
   "id": "fa17799e",
   "metadata": {},
   "outputs": [
    {
     "name": "stdout",
     "output_type": "stream",
     "text": [
      "* * * * * \n",
      "*       * \n",
      "*       * \n",
      "*       * \n",
      "* * * * * \n"
     ]
    }
   ],
   "source": [
    "#hollow square\n",
    "\"\"\"\n",
    "* * * *\n",
    "*     *\n",
    "*     *\n",
    "* * * *\n",
    "\"\"\"\n",
    "row=int(input(\"enter row= \"))\n",
    "for i in range(1,row+1):\n",
    "    for j in range(1,row+1):\n",
    "        if i==1 or i==row or j==1 or j==row:\n",
    "            print(\"* \",end=\"\")\n",
    "        else:\n",
    "            print(end=\"  \")\n",
    "    print()"
   ]
  },
  {
   "cell_type": "code",
   "execution_count": null,
   "id": "029e0baf",
   "metadata": {},
   "outputs": [
    {
     "name": "stdout",
     "output_type": "stream",
     "text": [
      "* \n",
      "* * \n",
      "* * * \n",
      "* * * * \n",
      "* * * * * \n"
     ]
    }
   ],
   "source": [
    "#tringle\n",
    "\"\"\"  \n",
    "*\n",
    "* *\n",
    "* * *\n",
    "* * * *\n",
    "* * * * *\n",
    "\"\"\"\n",
    "row=int(input(\"Enter row= \"))\n",
    "for i in range(1,row+1):\n",
    "    for j in range(1,i+1):\n",
    "        print(\"*\",end=\" \")\n",
    "    print()"
   ]
  },
  {
   "cell_type": "code",
   "execution_count": 50,
   "id": "7c305abe",
   "metadata": {},
   "outputs": [
    {
     "name": "stdout",
     "output_type": "stream",
     "text": [
      "* * * * * \n",
      "* * * * \n",
      "* * * \n",
      "* * \n",
      "* \n"
     ]
    }
   ],
   "source": [
    "#reverse tringle\n",
    "\"\"\"  \n",
    "* * * * *\n",
    "* * * * \n",
    "* * * \n",
    "* * \n",
    "* \n",
    "\"\"\"\n",
    "row=int(input(\"enter Row= \"))\n",
    "for i in range(row,0,-1):\n",
    "    for j in range(1,i+1):\n",
    "        print(\"*\",end=\" \")\n",
    "    print()"
   ]
  },
  {
   "cell_type": "code",
   "execution_count": null,
   "id": "272a092c",
   "metadata": {},
   "outputs": [
    {
     "name": "stdout",
     "output_type": "stream",
     "text": [
      "* \n",
      "* * \n",
      "*   * \n",
      "*     * \n",
      "*       * \n",
      "*         * \n",
      "*           * \n",
      "*             * \n",
      "*               * \n",
      "* * * * * * * * * * \n"
     ]
    }
   ],
   "source": [
    "# hollow tringle\n",
    "\"\"\"  \n",
    "*\n",
    "* *\n",
    "*   *\n",
    "*     *\n",
    "* * * * *\n",
    "\"\"\"\n",
    "row=int(input(\"Enter row= \"))\n",
    "for i in range(1,row+1):\n",
    "    for j in range(1,i+1):\n",
    "        if i==1 or i==row or j==1 or j==i:\n",
    "           print(\"*\",end=\" \")\n",
    "        else:\n",
    "            print(end=\"  \")\n",
    "    print()\n",
    "    "
   ]
  },
  {
   "cell_type": "code",
   "execution_count": 52,
   "id": "8bf7c60e",
   "metadata": {},
   "outputs": [
    {
     "name": "stdout",
     "output_type": "stream",
     "text": [
      "* * * * * \n",
      "*     * \n",
      "*   * \n",
      "* * \n",
      "* \n"
     ]
    }
   ],
   "source": [
    "#reverse Hollow tringle\n",
    "\"\"\"  \n",
    "* * * * *\n",
    "*     * \n",
    "*   * \n",
    "* * \n",
    "* \n",
    "\"\"\"\n",
    "row=int(input(\"enter Row= \"))\n",
    "for i in range(row,0,-1):\n",
    "    for j in range(1,i+1):\n",
    "        if i==1 or i==row or j==1 or j==i:\n",
    "            print(\"*\",end=\" \")\n",
    "        else:\n",
    "            print(end=\"  \")\n",
    "    print()"
   ]
  },
  {
   "cell_type": "code",
   "execution_count": 30,
   "id": "1f524d73",
   "metadata": {},
   "outputs": [
    {
     "name": "stdout",
     "output_type": "stream",
     "text": [
      "    * \n",
      "   * * \n",
      "  * * * \n",
      " * * * * \n",
      "* * * * * \n"
     ]
    }
   ],
   "source": [
    "#pyramid patten\n",
    "row=int(input(\"Enter Row= \"))\n",
    "spc=row-1\n",
    "for i in range(1,row+1):\n",
    "    for k in range(1,spc+1):\n",
    "        print(end=\" \")\n",
    "    for j in  range(1,i+1):\n",
    "        print(\"*\",end=\" \")\n",
    "    print()\n",
    "    spc-=1"
   ]
  },
  {
   "cell_type": "code",
   "execution_count": 54,
   "id": "5327d1a6",
   "metadata": {},
   "outputs": [
    {
     "name": "stdout",
     "output_type": "stream",
     "text": [
      "    * * * * * \n",
      "     * * * * \n",
      "      * * * \n",
      "       * * \n",
      "        * \n"
     ]
    }
   ],
   "source": [
    "#pyramid reverse patten\n",
    "row=int(input(\"Enter Row= \"))\n",
    "spc=row-1\n",
    "for i in range(row,0,-1):\n",
    "    for k in range(1,spc+1):\n",
    "        print(end=\" \")\n",
    "    for j in  range(1,i+1):\n",
    "        print(\"*\",end=\" \")\n",
    "    print()\n",
    "    spc+=1"
   ]
  },
  {
   "cell_type": "code",
   "execution_count": 32,
   "id": "73f9a6ef",
   "metadata": {},
   "outputs": [
    {
     "name": "stdout",
     "output_type": "stream",
     "text": [
      "    * \n",
      "   * * \n",
      "  *   * \n",
      " *     * \n",
      "* * * * * \n"
     ]
    }
   ],
   "source": [
    "#hollow pyramid\n",
    "row=int(input(\"enter Row= \"))\n",
    "spc=row-1\n",
    "for i in range(1,row+1):\n",
    "    for k in range(1,spc+1):\n",
    "        print(end=\" \")\n",
    "    for j in range(1,i+1):\n",
    "        if i==1 or i==row or j==1 or j==i:\n",
    "           print(\"*\",end=\" \")\n",
    "        else:\n",
    "            print(end=\"  \")\n",
    "    print()\n",
    "    spc-=1"
   ]
  },
  {
   "cell_type": "code",
   "execution_count": 55,
   "id": "fb229280",
   "metadata": {},
   "outputs": [
    {
     "name": "stdout",
     "output_type": "stream",
     "text": [
      "    * * * * * \n",
      "     *     * \n",
      "      *   * \n",
      "       * * \n",
      "        * \n"
     ]
    }
   ],
   "source": [
    "#pyramid reverse Hollow patten\n",
    "row=int(input(\"Enter Row= \"))\n",
    "spc=row-1\n",
    "for i in range(row,0,-1):\n",
    "    for k in range(1,spc+1):\n",
    "        print(end=\" \")\n",
    "    for j in  range(1,i+1):\n",
    "        if i==1 or i==row or j==1 or j==i:\n",
    "            print(\"*\",end=\" \")\n",
    "        else:\n",
    "            print(end=\"  \")\n",
    "    print()\n",
    "    spc+=1"
   ]
  },
  {
   "cell_type": "code",
   "execution_count": 1,
   "id": "f5bdd592",
   "metadata": {},
   "outputs": [
    {
     "name": "stdout",
     "output_type": "stream",
     "text": [
      "        * * * * * \n",
      "          * * * * \n",
      "            * * * \n",
      "              * * \n",
      "                * \n"
     ]
    }
   ],
   "source": [
    "# left tringle \n",
    "row=int(input(\"Enter Row= \"))\n",
    "spc=row-1\n",
    "for i in range(row,0,-1):\n",
    "    for k in range(1,spc*2+1):\n",
    "        print(end=\" \")\n",
    "    for j in range(1,i+1):\n",
    "        print(\"*\",end=\" \")\n",
    "    print()\n",
    "    spc+=1"
   ]
  },
  {
   "cell_type": "code",
   "execution_count": 2,
   "id": "6898e695",
   "metadata": {},
   "outputs": [
    {
     "name": "stdout",
     "output_type": "stream",
     "text": [
      "        * * * * * \n",
      "          *     * \n",
      "            *   * \n",
      "              * * \n",
      "                * \n"
     ]
    }
   ],
   "source": [
    "# hollow left tringle\n",
    "row=int(input(\"Enter Row= \"))\n",
    "spc=row-1\n",
    "for i in range(row,0,-1):\n",
    "    for k in range(1,spc*2+1):\n",
    "        print(end=\" \")\n",
    "    for j in range(1,i+1):\n",
    "        if i==1 or i==row or j==1 or j==i:\n",
    "            print(\"*\",end=\" \")\n",
    "        else:\n",
    "            print(end=\"  \")\n",
    "    print()\n",
    "    spc+=1\n"
   ]
  },
  {
   "cell_type": "code",
   "execution_count": 47,
   "id": "92d01551",
   "metadata": {},
   "outputs": [
    {
     "name": "stdout",
     "output_type": "stream",
     "text": [
      "*                 * \n",
      "* *             * * \n",
      "* * *         * * * \n",
      "* * * *     * * * * \n",
      "* * * * * * * * * * \n"
     ]
    }
   ],
   "source": [
    "#tringle \n",
    "\"\"\"  \n",
    "*                 *\n",
    "* *             * *\n",
    "* * *         * * *\n",
    "* * * *     * * * *\n",
    "* * * * * * * * * *\n",
    "\"\"\"\n",
    "\n",
    "row=int(input(\"Enter Row= \"))\n",
    "spc=row-1\n",
    "for i in range(1,row+1):\n",
    "    for j in range(1,i+1):\n",
    "        print(\"*\",end=\" \")\n",
    "    for k in range(1,spc*4+1):\n",
    "        print(end=\" \")\n",
    "    for l in range(1,i+1):\n",
    "        print(\"*\",end=\" \")\n",
    "    print()\n",
    "    spc-=1"
   ]
  },
  {
   "cell_type": "code",
   "execution_count": null,
   "id": "bde2bfde",
   "metadata": {},
   "outputs": [
    {
     "name": "stdout",
     "output_type": "stream",
     "text": [
      "* * * * *                 * * * * * \n",
      "* * * *          * * * * \n",
      "* * *     * * * \n",
      "* *  * * \n",
      "* * \n"
     ]
    }
   ],
   "source": [
    "#tringle \n",
    "\"\"\"  \n",
    "* * * * * * * * * *\n",
    "* * * *     * * * *\n",
    "* * *         * * *\n",
    "* *             * *\n",
    "*                 *\n",
    "\"\"\"\n",
    "\n"
   ]
  },
  {
   "cell_type": "code",
   "execution_count": null,
   "id": "51ed88fe",
   "metadata": {},
   "outputs": [
    {
     "name": "stdout",
     "output_type": "stream",
     "text": [
      "*                                     * \n",
      "* *                                 * * \n",
      "*   *                             *   * \n",
      "*     *                         *     * \n",
      "*       *                     *       * \n",
      "*         *                 *         * \n",
      "*           *             *           * \n",
      "*             *         *             * \n",
      "*               *     *               * \n",
      "* * * * * * * * * * * * * * * * * * * * \n"
     ]
    }
   ],
   "source": [
    "# hollow tringle in reverse \n",
    "\"\"\"  \n",
    "*                 *\n",
    "* *             * *\n",
    "*   *         *   *\n",
    "*     *     *     *\n",
    "* * * * * * * * * *\n",
    "\"\"\"\n",
    "row=int(input(\"Enter row= \"))\n",
    "spc=row-1\n",
    "for i in range(1,row+1):\n",
    "    for j in range(1,i+1):\n",
    "        if i==1 or i==row or j==1 or j==i:\n",
    "            print(\"*\",end=\" \")\n",
    "        else:\n",
    "            print(end=\"  \")\n",
    "    # print()\n",
    "    for k in range(1,spc*4+1):\n",
    "        print(end=\" \")\n",
    "    for l in range(1,i+1):\n",
    "        if i==1 or i==row or l==1 or l==i:\n",
    "            print(\"*\",end=\" \")\n",
    "        else:\n",
    "            print(end=\"  \")\n",
    "    print()\n",
    "    spc-=1\n"
   ]
  },
  {
   "cell_type": "code",
   "execution_count": 19,
   "id": "e3be49b0",
   "metadata": {},
   "outputs": [
    {
     "name": "stdout",
     "output_type": "stream",
     "text": [
      "*                 * \n",
      "* *             * * \n",
      "* * *         * * * \n",
      "* * * *     * * * * \n",
      "* * * * * * * * * * \n"
     ]
    }
   ],
   "source": [
    "row=int(input(\"Enter Row= \"))\n",
    "spc=row-1\n",
    "for i in range(1,row+1):\n",
    "    for j in range(1,i+1):\n",
    "        print(\"*\",end=\" \")\n",
    "    for k in range(1,spc*4+1):\n",
    "        print(end=\" \")\n",
    "    for l in range(1,i+1):\n",
    "        print(\"*\",end=\" \")\n",
    "    print()\n",
    "    spc-=1\n",
    "    "
   ]
  },
  {
   "cell_type": "code",
   "execution_count": 4,
   "id": "459f6c9e",
   "metadata": {},
   "outputs": [
    {
     "name": "stdout",
     "output_type": "stream",
     "text": [
      "* \n",
      "* * \n",
      "* * * \n",
      "* * * * \n",
      "* * * * * \n",
      "* * * * \n",
      "* * * \n",
      "* * \n",
      "* \n"
     ]
    }
   ],
   "source": [
    "row=int(input(\"Enter Row= \"))\n",
    "for i in range(1,row+1):\n",
    "    for j in range(1,i+1):\n",
    "        print(\"*\",end=\" \")\n",
    "    print()\n",
    "for i in range(row-1,0,-1):\n",
    "    for j in range(1,i+1):\n",
    "        print(\"*\",end=\" \")\n",
    "    print()\n",
    "\n"
   ]
  },
  {
   "cell_type": "code",
   "execution_count": 9,
   "id": "e342d8cf",
   "metadata": {},
   "outputs": [
    {
     "name": "stdout",
     "output_type": "stream",
     "text": [
      "        * \n",
      "      * * * \n",
      "    *   *   * \n",
      "  *     *   * * \n",
      "* * * * * * * * * \n",
      "  *     * * * * \n",
      "    *   * * * \n",
      "      * * * \n",
      "        * \n"
     ]
    }
   ],
   "source": [
    "row=int(input(\"Enter Row= \"))\n",
    "spc=row-1\n",
    "for i in range(1,row+1):\n",
    "    for k in range(1,spc*2+1):\n",
    "        print(end=\" \")\n",
    "    for j in range(1,i+1):\n",
    "        if i==1 or i==row or j==1 or j==i:\n",
    "            print(\"*\",end=\" \")\n",
    "        else:\n",
    "            print(end=\"  \")\n",
    "    for l in range(1,i):\n",
    "        if i==1 or i==row or l==2 or l==i-1:\n",
    "            print(\"*\",end=\" \")\n",
    "        else:\n",
    "            print(end=\"  \")\n",
    "        # print(\"*\",end=\" \")\n",
    "    print()\n",
    "    spc-=1\n",
    "spc=1\n",
    "for i in range(row-1,0,-1):\n",
    "    for k in range(1,spc*2+1):\n",
    "        print(end=\" \")\n",
    "    for j in range(1,i+1):\n",
    "        if i==1 or i==row or j==1 or j==i:\n",
    "            print(\"*\",end=\" \")\n",
    "        else:\n",
    "            print(end=\"  \")\n",
    "        # print(\"*\",end=\" \")\n",
    "    for l in range(1,i):\n",
    "        print(\"*\",end=\" \")\n",
    "    print()\n",
    "    spc+=1\n"
   ]
  },
  {
   "cell_type": "code",
   "execution_count": null,
   "id": "a736d897",
   "metadata": {},
   "outputs": [],
   "source": []
  }
 ],
 "metadata": {
  "kernelspec": {
   "display_name": "Python 3",
   "language": "python",
   "name": "python3"
  },
  "language_info": {
   "codemirror_mode": {
    "name": "ipython",
    "version": 3
   },
   "file_extension": ".py",
   "mimetype": "text/x-python",
   "name": "python",
   "nbconvert_exporter": "python",
   "pygments_lexer": "ipython3",
   "version": "3.12.4"
  }
 },
 "nbformat": 4,
 "nbformat_minor": 5
}
