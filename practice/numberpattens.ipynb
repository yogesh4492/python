{
 "cells": [
  {
   "cell_type": "code",
   "execution_count": 4,
   "id": "503d564c",
   "metadata": {},
   "outputs": [
    {
     "name": "stdout",
     "output_type": "stream",
     "text": [
      "1 \n",
      "1 2 \n",
      "1 2 3 \n",
      "1 2 3 4 \n",
      "1 2 3 4 5 \n"
     ]
    }
   ],
   "source": [
    "\"\"\" \n",
    "1\n",
    "1 2\n",
    "1 2 3\n",
    "1 2 3 4 \n",
    "1 2 3 4 5\n",
    "\"\"\"\n",
    "\n",
    "row=int(input(\"Enter row= \"))\n",
    "for i in range(1,row+1):\n",
    "    for j in range(1,i+1):\n",
    "        print(j,end=\" \")\n",
    "    print()"
   ]
  },
  {
   "cell_type": "code",
   "execution_count": 5,
   "id": "da45c9f1",
   "metadata": {},
   "outputs": [
    {
     "name": "stdout",
     "output_type": "stream",
     "text": [
      "1 \n",
      "2 2 \n",
      "3 3 3 \n",
      "4 4 4 4 \n",
      "5 5 5 5 5 \n"
     ]
    }
   ],
   "source": [
    "\"\"\"  \n",
    "1\n",
    "2 2 \n",
    "3 3 3 \n",
    "4 4 4 4 \n",
    "5 5 5 5 5\n",
    "\"\"\"\n",
    "row=int(input(\"Enter row= \"))\n",
    "for i in range(1,row+1):\n",
    "    for j in range(1,i+1):\n",
    "        print(i,end=\" \")\n",
    "    print()"
   ]
  },
  {
   "cell_type": "code",
   "execution_count": 6,
   "id": "10ef9aa6",
   "metadata": {},
   "outputs": [
    {
     "name": "stdout",
     "output_type": "stream",
     "text": [
      "1 \n",
      "2 3 \n",
      "3 4 5 \n",
      "4 5 6 7 \n",
      "5 6 7 8 9 \n"
     ]
    }
   ],
   "source": [
    "\"\"\"   \n",
    "1\n",
    "2 3 \n",
    "3 4 5 \n",
    "4 5 6 7 \n",
    "5 6 7 8 9\n",
    "\"\"\"\n",
    "\n",
    "row=int(input(\"Enter Row= \"))\n",
    "for i in range(1,row+1):\n",
    "    tmp=i\n",
    "    for j in range(1,i+1):\n",
    "        print(tmp,end=\" \")\n",
    "        tmp+=1\n",
    "    print()"
   ]
  },
  {
   "cell_type": "code",
   "execution_count": 7,
   "id": "c7f86844",
   "metadata": {},
   "outputs": [
    {
     "name": "stdout",
     "output_type": "stream",
     "text": [
      "1 \n",
      "2 3 \n",
      "4 5 6 \n",
      "7 8 9 10 \n",
      "11 12 13 14 15 \n"
     ]
    }
   ],
   "source": [
    "\"\"\"   \n",
    "1\n",
    "2 3\n",
    "4 5 6\n",
    "7 8 9 10\n",
    "11 12 13 14 15\n",
    "\"\"\"\n",
    "row=int(input(\"Enter Row= \"))\n",
    "k=1\n",
    "for i in range(1,row+1):\n",
    "    for j in range(1,i+1):\n",
    "        print(k,end=\" \")\n",
    "        k+=1\n",
    "    print()\n",
    "    "
   ]
  },
  {
   "cell_type": "code",
   "execution_count": 8,
   "id": "b2cb84b2",
   "metadata": {},
   "outputs": [
    {
     "name": "stdout",
     "output_type": "stream",
     "text": [
      "1 \n",
      "1 0 \n",
      "1 0 1 \n",
      "1 0 1 0 \n",
      "1 0 1 0 1 \n"
     ]
    }
   ],
   "source": [
    "\"\"\"   \n",
    "1\n",
    "1 0\n",
    "1 0 1\n",
    "1 0 1 0\n",
    "1 0 1 0 1\n",
    "\"\"\"\n",
    "row=int(input(\"Enter Row= \"))\n",
    "for i in range(1,row+1):\n",
    "    for j in range(1,i+1):\n",
    "        print(j%2,end=\" \")\n",
    "    print()"
   ]
  },
  {
   "cell_type": "code",
   "execution_count": 9,
   "id": "56d26c37",
   "metadata": {},
   "outputs": [
    {
     "name": "stdout",
     "output_type": "stream",
     "text": [
      "1 \n",
      "0 1 \n",
      "1 0 1 \n",
      "0 1 0 1 \n",
      "1 0 1 0 1 \n"
     ]
    }
   ],
   "source": [
    "\"\"\"   \n",
    "1\n",
    "0 1\n",
    "1 0 1\n",
    "0 1 0 1\n",
    "1 0 1 0 1\n",
    "\n",
    "\"\"\"\n",
    "row=int(input(\"Enter row= \"))\n",
    "for i in range(1,row+1):\n",
    "    if i%2==0:\n",
    "        p=0\n",
    "        q=1\n",
    "    else:\n",
    "        p=1\n",
    "        q=0\n",
    "    for j in range(1,i+1):\n",
    "        if j%2==0:\n",
    "            print(q,end=\" \")\n",
    "        else:\n",
    "            print(p,end=\" \")\n",
    "    print()"
   ]
  },
  {
   "cell_type": "code",
   "execution_count": 22,
   "id": "955c6003",
   "metadata": {},
   "outputs": [
    {
     "name": "stdout",
     "output_type": "stream",
     "text": [
      "    1 \n",
      "   1 1 \n",
      "  1 2 1 \n",
      " 1 3 3 1 \n",
      "1 4 6 4 1 \n"
     ]
    }
   ],
   "source": [
    "# pascal patten\n",
    "\n",
    "row=int(input(\"Enter Number = \"))\n",
    "spc=row-1\n",
    "for i in range(1,row+1):\n",
    "    for k in range(1,spc+1):\n",
    "        print(\" \",end=\"\")\n",
    "    # print(\" \" * spc, end=\"\")\n",
    "    val=1\n",
    "    for j in range(i):\n",
    "        print(val,end=\" \")\n",
    "        val=val*(i-j-1)//(j+1)\n",
    "\n",
    "    print()\n",
    "    spc-=1"
   ]
  },
  {
   "cell_type": "code",
   "execution_count": 11,
   "id": "bc55532e",
   "metadata": {},
   "outputs": [
    {
     "name": "stdout",
     "output_type": "stream",
     "text": [
      "    1 \n",
      "   1 1 \n",
      "  1 2 1 \n",
      " 1 3 3 1 \n",
      "1 4 6 4 1 \n"
     ]
    }
   ],
   "source": [
    "row = int(input(\"Enter Number of Rows = \"))\n",
    "spc = row - 1\n",
    "\n",
    "for i in range(row):\n",
    "    # print spaces\n",
    "    print(\" \" * spc, end=\"\")\n",
    "\n",
    "    val = 1\n",
    "    for j in range(i + 1):\n",
    "        print(val, end=\" \")\n",
    "        val = val * (i - j) // (j + 1)   # formula for next binomial coefficient\n",
    "\n",
    "    print()   # new line after each row\n",
    "    spc -= 1\n"
   ]
  },
  {
   "cell_type": "code",
   "execution_count": 25,
   "id": "2f7e17b3",
   "metadata": {},
   "outputs": [
    {
     "name": "stdout",
     "output_type": "stream",
     "text": [
      "     1 \n",
      "    1 1 \n",
      "   1 2 1 \n",
      "  1 3 3 1 \n",
      " 1 4 6 4 1 \n",
      "1 5 10 10 5 1 \n"
     ]
    }
   ],
   "source": [
    "row = int(input(\"Enter Number of Rows = \"))\n",
    "spc = row - 1\n",
    "\n",
    "for i in range(1, row + 1):\n",
    "    # print spaces (for pyramid alignment)\n",
    "    for k in range(1, spc + 1):\n",
    "        print(\" \", end=\"\")\n",
    "\n",
    "    val = 1\n",
    "    for j in range(1, i + 1):\n",
    "        print(val, end=\" \")\n",
    "        val = val * (i - j) //j\n",
    "\n",
    "    print()\n",
    "    spc -= 1\n"
   ]
  },
  {
   "cell_type": "code",
   "execution_count": 35,
   "id": "4388a56c",
   "metadata": {},
   "outputs": [
    {
     "name": "stdout",
     "output_type": "stream",
     "text": [
      "    1 \n",
      "   1 1 \n",
      "  1 2 1 \n",
      " 1 3 3 1 \n",
      "1 4 6 4 1 \n"
     ]
    }
   ],
   "source": [
    "#pascal tringle\n",
    "\n",
    "row=int(input(\"Enter Row= \"))\n",
    "spc=row-1\n",
    "for i in range(1,row+1):\n",
    "    for k in range(spc):\n",
    "        print(\" \",end=\"\")\n",
    "    val=1\n",
    "    for j in range(1,i+1):\n",
    "        print(val,end=\" \")\n",
    "        val=val*(i-j)//j\n",
    "    print()\n",
    "    spc-=1"
   ]
  },
  {
   "cell_type": "code",
   "execution_count": null,
   "id": "db06f4d3",
   "metadata": {},
   "outputs": [
    {
     "name": "stdout",
     "output_type": "stream",
     "text": [
      "    1\n",
      "   121\n",
      "  12321\n",
      " 1234321\n",
      "123454321\n"
     ]
    }
   ],
   "source": [
    "#palindromic pyramid\n",
    "\n",
    "row=int(input(\"Enter Row= \"))\n",
    "spc=row-1\n",
    "for i in range(1,row+1):\n",
    "    for k in range(1,spc+1):\n",
    "        print(end=\" \")\n",
    "    for j in range(1,i+1):\n",
    "        print(j,end=\"\")\n",
    "    for l in range(i-1,0,-1):\n",
    "        print(l,end=\"\")\n",
    "    print()\n",
    "    spc-=1"
   ]
  },
  {
   "cell_type": "code",
   "execution_count": 44,
   "id": "d1263883",
   "metadata": {},
   "outputs": [
    {
     "name": "stdout",
     "output_type": "stream",
     "text": [
      "    1 \n",
      "   1 1 \n",
      "  1 2 1 \n",
      " 1 3 3 1 \n",
      "1 4 6 4 1 \n"
     ]
    }
   ],
   "source": [
    "#pascal pyramid\n",
    "\n",
    "row=int(input(\"Enter Row= \"))\n",
    "spc=row-1\n",
    "for i in range(1,row+1):\n",
    "    for k in range(1,spc+1):\n",
    "        print(end=\" \")\n",
    "    val=1\n",
    "    for j in range(1,i+1):\n",
    "        print(val,end=\" \")\n",
    "        val=val*(i-j)//j\n",
    "    print()\n",
    "    spc-=1"
   ]
  },
  {
   "cell_type": "code",
   "execution_count": null,
   "id": "11d1bf1d",
   "metadata": {},
   "outputs": [],
   "source": []
  }
 ],
 "metadata": {
  "kernelspec": {
   "display_name": "Python 3",
   "language": "python",
   "name": "python3"
  },
  "language_info": {
   "codemirror_mode": {
    "name": "ipython",
    "version": 3
   },
   "file_extension": ".py",
   "mimetype": "text/x-python",
   "name": "python",
   "nbconvert_exporter": "python",
   "pygments_lexer": "ipython3",
   "version": "3.12.4"
  }
 },
 "nbformat": 4,
 "nbformat_minor": 5
}
