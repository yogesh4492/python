{
 "cells": [
  {
   "cell_type": "code",
   "execution_count": 7,
   "id": "d71225f9",
   "metadata": {},
   "outputs": [
    {
     "name": "stdout",
     "output_type": "stream",
     "text": [
      "A \n",
      "B B \n",
      "C C C \n",
      "D D D D \n",
      "E E E E E \n"
     ]
    }
   ],
   "source": [
    "row=int(input(\"Enter Row= \"))\n",
    "l=65\n",
    "for i in range(1,row+1):\n",
    "    \n",
    "    for j in range(1,i+1):\n",
    "        print(chr(l),end=\" \")\n",
    "    l+=1\n",
    "    print()"
   ]
  },
  {
   "cell_type": "code",
   "execution_count": 8,
   "id": "6b20769f",
   "metadata": {},
   "outputs": [
    {
     "name": "stdout",
     "output_type": "stream",
     "text": [
      "A \n",
      "A B \n",
      "A B C \n",
      "A B C D \n",
      "A B C D E \n"
     ]
    }
   ],
   "source": [
    "row=int(input(\"Enter Row= \"))\n",
    "for i in range(1,row+1):\n",
    "    l=65\n",
    "    for j in range(1,i+1):\n",
    "        print(chr(l),end=\" \")\n",
    "        l+=1\n",
    "    print()"
   ]
  },
  {
   "cell_type": "code",
   "execution_count": 11,
   "id": "f379db1e",
   "metadata": {},
   "outputs": [
    {
     "name": "stdout",
     "output_type": "stream",
     "text": [
      "A \n",
      "B C \n",
      "C D E \n",
      "D E F G \n",
      "E F G H I \n"
     ]
    }
   ],
   "source": [
    "row=int(input(\"Enter Row= \"))\n",
    "ch=65\n",
    "for i in range(1,row+1):\n",
    "    l=ch\n",
    "    for j in range(1,i+1):\n",
    "        print(chr(l),end=\" \")\n",
    "        l+=1\n",
    "    print()\n",
    "    ch+=1\n",
    "    "
   ]
  },
  {
   "cell_type": "code",
   "execution_count": null,
   "id": "c9aba6d8",
   "metadata": {},
   "outputs": [],
   "source": []
  }
 ],
 "metadata": {
  "kernelspec": {
   "display_name": "Python 3",
   "language": "python",
   "name": "python3"
  },
  "language_info": {
   "codemirror_mode": {
    "name": "ipython",
    "version": 3
   },
   "file_extension": ".py",
   "mimetype": "text/x-python",
   "name": "python",
   "nbconvert_exporter": "python",
   "pygments_lexer": "ipython3",
   "version": "3.12.4"
  }
 },
 "nbformat": 4,
 "nbformat_minor": 5
}
