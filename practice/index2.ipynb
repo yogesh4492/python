{
 "cells": [
  {
   "cell_type": "code",
   "execution_count": 3,
   "id": "6759d8e9",
   "metadata": {},
   "outputs": [
    {
     "name": "stdout",
     "output_type": "stream",
     "text": [
      "Insufficient Balance\n"
     ]
    }
   ],
   "source": [
    "# 11. ATM withdrawal: Check if entered PIN is \n",
    "# correct, then check if there is enough balance.\n",
    "\n",
    "pin=1234\n",
    "bal=12000\n",
    "u_pin=int(input(\"Enter Pin= \"))\n",
    "withdraw_a=float(input(\"Enter Withdraw Amount= \"))\n",
    "if pin==u_pin:\n",
    "    if bal>=withdraw_a:\n",
    "        print(f\"Amount Withdraw sucessfully\")\n",
    "    else:\n",
    "        print(f\"Insufficient Balance\")\n",
    "else:\n",
    "    print(\"Invalid Pin\")\n",
    "        \n",
    "\n"
   ]
  },
  {
   "cell_type": "code",
   "execution_count": null,
   "id": "c1efe73e",
   "metadata": {},
   "outputs": [],
   "source": [
    "# 12. Check if a number is positive, and if it is, check \n",
    "# if it is even or odd.\n",
    "\n"
   ]
  }
 ],
 "metadata": {
  "kernelspec": {
   "display_name": "Python 3",
   "language": "python",
   "name": "python3"
  },
  "language_info": {
   "codemirror_mode": {
    "name": "ipython",
    "version": 3
   },
   "file_extension": ".py",
   "mimetype": "text/x-python",
   "name": "python",
   "nbconvert_exporter": "python",
   "pygments_lexer": "ipython3",
   "version": "3.12.4"
  }
 },
 "nbformat": 4,
 "nbformat_minor": 5
}
