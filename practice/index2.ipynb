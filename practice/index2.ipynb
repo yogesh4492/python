{
 "cells": [
  {
   "cell_type": "code",
   "execution_count": 3,
   "id": "6759d8e9",
   "metadata": {},
   "outputs": [
    {
     "name": "stdout",
     "output_type": "stream",
     "text": [
      "Insufficient Balance\n"
     ]
    }
   ],
   "source": [
    "# 11. ATM withdrawal: Check if entered PIN is \n",
    "# correct, then check if there is enough balance.\n",
    "\n",
    "pin=1234\n",
    "bal=12000\n",
    "u_pin=int(input(\"Enter Pin= \"))\n",
    "withdraw_a=float(input(\"Enter Withdraw Amount= \"))\n",
    "if pin==u_pin:\n",
    "    if bal>=withdraw_a:\n",
    "        print(f\"Amount Withdraw sucessfully\")\n",
    "    else:\n",
    "        print(f\"Insufficient Balance\")\n",
    "else:\n",
    "    print(\"Invalid Pin\")\n",
    "        \n",
    "\n"
   ]
  },
  {
   "cell_type": "code",
   "execution_count": 2,
   "id": "c1efe73e",
   "metadata": {},
   "outputs": [
    {
     "name": "stdout",
     "output_type": "stream",
     "text": [
      "* \n",
      "* * \n",
      "* * * \n",
      "* * * * \n",
      "* * * * * \n",
      "* * * * * * \n"
     ]
    }
   ],
   "source": [
    "row=int(input(\"Enter Row= \"))\n",
    "for i in range(1,row+1):\n",
    "    for j in range(1,i+1):\n",
    "        print(\"* \",end=\"\")\n",
    "    print()\n",
    "    "
   ]
  },
  {
   "cell_type": "code",
   "execution_count": 10,
   "id": "5012c7c7",
   "metadata": {},
   "outputs": [
    {
     "name": "stdout",
     "output_type": "stream",
     "text": [
      "         *\n",
      "       * *\n",
      "     * * *\n",
      "   * * * *\n",
      " * * * * *\n"
     ]
    }
   ],
   "source": [
    "row=int(input(\"Enter Row= \"))\n",
    "spc=row-1\n",
    "for i in range(1,row+1):\n",
    "    for k in range(1,spc*2+1):\n",
    "        print(\"\",end=\" \")\n",
    "    for j in range(1,i+1):\n",
    "        print(\" *\",end=\"\")\n",
    "    print()\n",
    "    spc-=1\n",
    "\n",
    "\n",
    "\n",
    "    "
   ]
  },
  {
   "cell_type": "code",
   "execution_count": 12,
   "id": "90038efc",
   "metadata": {},
   "outputs": [
    {
     "name": "stdout",
     "output_type": "stream",
     "text": [
      "    * \n",
      "   * * \n",
      "  * * * \n",
      " * * * * \n",
      "* * * * * \n"
     ]
    }
   ],
   "source": [
    "#pyramid\n",
    "\n",
    "row=int(input(\"Enter row= \"))\n",
    "spc=row-1\n",
    "for i in range(1,row+1):\n",
    "    for k in range(1,spc+1):\n",
    "        print(end=\" \")\n",
    "    for j in range(1,i+1):\n",
    "        print(\"* \",end=\"\")\n",
    "    print()\n",
    "    spc-=1"
   ]
  },
  {
   "cell_type": "code",
   "execution_count": null,
   "id": "dcf28433",
   "metadata": {},
   "outputs": [],
   "source": []
  }
 ],
 "metadata": {
  "kernelspec": {
   "display_name": "Python 3",
   "language": "python",
   "name": "python3"
  },
  "language_info": {
   "codemirror_mode": {
    "name": "ipython",
    "version": 3
   },
   "file_extension": ".py",
   "mimetype": "text/x-python",
   "name": "python",
   "nbconvert_exporter": "python",
   "pygments_lexer": "ipython3",
   "version": "3.12.4"
  }
 },
 "nbformat": 4,
 "nbformat_minor": 5
}
