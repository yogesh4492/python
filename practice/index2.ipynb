{
 "cells": [
  {
   "cell_type": "code",
   "execution_count": null,
   "id": "6759d8e9",
   "metadata": {},
   "outputs": [],
   "source": [
    "# 11. ATM withdrawal: Check if entered PIN is \n",
    "# correct, then check if there is enough balance.\n",
    "\n"
   ]
  }
 ],
 "metadata": {
  "language_info": {
   "name": "python"
  }
 },
 "nbformat": 4,
 "nbformat_minor": 5
}
