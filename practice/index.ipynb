{
 "cells": [
  {
   "cell_type": "code",
   "execution_count": null,
   "id": "63483418",
   "metadata": {},
   "outputs": [],
   "source": [
    "\"\"\"\n",
    "Only Practice \n",
    "\n",
    "\"\"\"\n",
    "\n",
    "\n"
   ]
  }
 ],
 "metadata": {
  "language_info": {
   "name": "python"
  }
 },
 "nbformat": 4,
 "nbformat_minor": 5
}
