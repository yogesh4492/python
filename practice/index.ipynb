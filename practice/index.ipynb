{
 "cells": [
  {
   "cell_type": "code",
   "execution_count": 2,
   "id": "63483418",
   "metadata": {},
   "outputs": [
    {
     "name": "stdout",
     "output_type": "stream",
     "text": [
      "16 is even number\n"
     ]
    }
   ],
   "source": [
    "\"\"\"\n",
    "Only Practice \n",
    "\n",
    "\"\"\"\n",
    "# Number is even or odd\n",
    "\n",
    "num=int(input(\"Enter Number= \"))\n",
    "if num%2==0:\n",
    "    print(f\"{num} is even number\")\n",
    "else:\n",
    "    print(f\"{num} is odd number\")\n",
    "\n"
   ]
  },
  {
   "cell_type": "code",
   "execution_count": 5,
   "id": "6b6b1957",
   "metadata": {},
   "outputs": [
    {
     "name": "stdout",
     "output_type": "stream",
     "text": [
      "0 is zero\n"
     ]
    }
   ],
   "source": [
    "# check number positive ,negative or zero\n",
    "\n",
    "num=int(input(\"Enter the num= \"))\n",
    "if num>0:\n",
    "    print(f\"{num} is positive number\")\n",
    "elif num<0 :\n",
    "    print(f\"{num} is negative number\")\n",
    "else :\n",
    "    print(f\"{num} is zero\")"
   ]
  },
  {
   "cell_type": "code",
   "execution_count": 6,
   "id": "ca5e4e26",
   "metadata": {},
   "outputs": [
    {
     "name": "stdout",
     "output_type": "stream",
     "text": [
      "prime number\n",
      "2\n",
      "3\n",
      "5\n",
      "7\n",
      "11\n",
      "13\n",
      "17\n",
      "19\n",
      "23\n",
      "29\n",
      "31\n",
      "37\n",
      "41\n",
      "43\n",
      "47\n",
      "53\n",
      "59\n",
      "61\n",
      "67\n",
      "71\n",
      "73\n",
      "79\n",
      "83\n",
      "89\n",
      "97\n"
     ]
    }
   ],
   "source": [
    "# check number is prime or not\n",
    "\n",
    "num=int(input(\"Enter Number= \"))\n",
    "i=2\n",
    "flag=1\n",
    "for i in range(2,num):\n",
    "    if num%i==0:\n",
    "        flag=0\n",
    "if flag:\n",
    "    print(\"prime number\")\n",
    "else:\n",
    "    print(f\" {num} is not prime num\")\n",
    "\n",
    "\n",
    "# check prime number in range\n",
    "\n",
    "num=int(input(\"Enter Number= \"))\n",
    "i=2\n",
    "j=2\n",
    "for i in range(2,num+1):\n",
    "    flag=1\n",
    "    #ram=int(i/2+1)\n",
    "    for j in range(2,i//2+1):\n",
    "        if i%j==0:\n",
    "            flag=0\n",
    "            break\n",
    "    if flag:\n",
    "        print(i)\n",
    "\n"
   ]
  },
  {
   "cell_type": "code",
   "execution_count": null,
   "id": "f29b666f",
   "metadata": {},
   "outputs": [
    {
     "name": "stdout",
     "output_type": "stream",
     "text": [
      " reamindor of 15 and 2 is =1\n"
     ]
    }
   ],
   "source": [
    "# Find the remainder when one number is divided by another\n",
    "\n",
    "num1=int(input(\"Enter Number 1= \"))\n",
    "num2=int(input(\"Enter Number 2= \"))\n",
    "print(f\" reamainder of {num1} and {num2} is ={num1%num2}\")\n",
    "\n"
   ]
  },
  {
   "cell_type": "code",
   "execution_count": 4,
   "id": "0003c385",
   "metadata": {},
   "outputs": [
    {
     "name": "stdout",
     "output_type": "stream",
     "text": [
      "Square of 5 is = 25\n"
     ]
    }
   ],
   "source": [
    "# Find the Square of number\n",
    "\n",
    "num=int(input(\"Enter Number= \"))\n",
    "print(f\"Square of {num} is = {num**2}\")"
   ]
  },
  {
   "cell_type": "code",
   "execution_count": 5,
   "id": "6ee2b721",
   "metadata": {},
   "outputs": [
    {
     "name": "stdout",
     "output_type": "stream",
     "text": [
      "cube of 5 is =125\n"
     ]
    }
   ],
   "source": [
    "#find the cube of number\n",
    "\n",
    "num=int(input(\"Enter Number= \"))\n",
    "print(f\"cube of {num} is ={num*num*num}\")\n"
   ]
  },
  {
   "cell_type": "code",
   "execution_count": 8,
   "id": "f27291fb",
   "metadata": {},
   "outputs": [
    {
     "name": "stdout",
     "output_type": "stream",
     "text": [
      " a= 10 , b = 20\n"
     ]
    }
   ],
   "source": [
    "#. Swap two numbers using a third variable\n",
    "a=int(input(\"Enter Value of a= \"))\n",
    "b=int(input(\"Enter Value of b= \"))\n",
    "c=a\n",
    "a=b\n",
    "b=c\n",
    "print(f\" a= {a} , b = {b}\")"
   ]
  },
  {
   "cell_type": "code",
   "execution_count": null,
   "id": "2d5a1d41",
   "metadata": {},
   "outputs": [
    {
     "name": "stdout",
     "output_type": "stream",
     "text": [
      " value of a= 20 and value of b= 10\n"
     ]
    }
   ],
   "source": [
    "#swape two values without using third variable\n",
    "\n",
    "a=int(input(\"Enter value of a= \"))\n",
    "b=int(input(\"ENter Value of b= \"))\n",
    "a=a+b\n",
    "b=a-b\n",
    "a=a-b\n",
    "\n",
    "print(f\" value of a= {a} and value of b= {b}\")"
   ]
  },
  {
   "cell_type": "code",
   "execution_count": 11,
   "id": "41ed98a4",
   "metadata": {},
   "outputs": [
    {
     "name": "stdout",
     "output_type": "stream",
     "text": [
      "value of a= 2 and value of b= 15\n"
     ]
    }
   ],
   "source": [
    "#swape two values without using third variable\n",
    "\n",
    "a=int(input(\"Enter Value of a= \"))\n",
    "b=int(input(\"Enter the value of b= \"))\n",
    "\n",
    "a=int(a*b)\n",
    "b=int(a/b)\n",
    "a=int(a/b)\n",
    "\n",
    "print(f\"value of a= {a} and value of b= {b}\")\n"
   ]
  },
  {
   "cell_type": "code",
   "execution_count": 14,
   "id": "2bc42e4a",
   "metadata": {},
   "outputs": [
    {
     "name": "stdout",
     "output_type": "stream",
     "text": [
      " Average of three number = 25 \n"
     ]
    }
   ],
   "source": [
    "#Calculate the average of three numbers.\n",
    "\n",
    "num1=int(input(\"Enter Number 1= \"))\n",
    "num2=int(input(\"Enter Number 2= \"))\n",
    "num3=int(input(\"Enter Number 3= \"))\n",
    "avg=int((num1+num2+num3)/3)\n",
    "\n",
    "print(f\" Average of three number = {avg} \")\n",
    "\n"
   ]
  },
  {
   "cell_type": "code",
   "execution_count": null,
   "id": "ae93246b",
   "metadata": {},
   "outputs": [
    {
     "name": "stdout",
     "output_type": "stream",
     "text": [
      "fehrenhit of 35.0 is =95.0\n"
     ]
    }
   ],
   "source": [
    "# Convert temperature from Celsius to Fahrenheit.\n",
    "\n",
    "cel=float(input(\"Enter The celcius= \"))\n",
    "fer=(cel*9/5)+32\n",
    "\n",
    "print(f\"fehrenhit of {cel} is ={fer} fehrenhit\")\n",
    "\n"
   ]
  },
  {
   "cell_type": "code",
   "execution_count": 17,
   "id": "cd6b5ca2",
   "metadata": {},
   "outputs": [
    {
     "name": "stdout",
     "output_type": "stream",
     "text": [
      "cel is 35.0\n"
     ]
    }
   ],
   "source": [
    "#Convert temperature from Fahrenheit to Celsius.\n",
    "\n",
    "fer=int(input(\"Enter the fehrenhit= \"))\n",
    "cel=(fer-32)*5/9\n",
    "\n",
    "print(f\"cel is {cel}\")\n"
   ]
  },
  {
   "cell_type": "code",
   "execution_count": 3,
   "id": "358144d2",
   "metadata": {},
   "outputs": [
    {
     "name": "stdout",
     "output_type": "stream",
     "text": [
      "1.0563307\n"
     ]
    }
   ],
   "source": [
    "#Convert kilometers to miles\n",
    "kilomiter=float(input(\"Enter The kilomiter= \"))\n",
    "miles=kilomiter * 0.621371\n",
    "print(miles)"
   ]
  },
  {
   "cell_type": "code",
   "execution_count": 1,
   "id": "82d54128",
   "metadata": {},
   "outputs": [
    {
     "name": "stdout",
     "output_type": "stream",
     "text": [
      "2.671511866501655\n"
     ]
    }
   ],
   "source": [
    "#Convert  miles to kilomiter\n",
    "\n",
    "miles=float(input(\"Enter Miles= \"))\n",
    "kilo=miles/0.621371\n",
    "print(kilo)\n"
   ]
  },
  {
   "cell_type": "code",
   "execution_count": 11,
   "id": "f2990984",
   "metadata": {},
   "outputs": [
    {
     "name": "stdout",
     "output_type": "stream",
     "text": [
      "5.0 hours in 300 min\n"
     ]
    }
   ],
   "source": [
    "#Convert minutes into hours and minutes.\n",
    "\n",
    "minute=int(input(\"Enter Minutes= \"))\n",
    "hours=minute/60\n",
    "print(f\"{hours} hours in {minute} min\")\n",
    "\n"
   ]
  },
  {
   "cell_type": "code",
   "execution_count": null,
   "id": "b3e3a38b",
   "metadata": {},
   "outputs": [
    {
     "name": "stdout",
     "output_type": "stream",
     "text": [
      "300 minutes in 5 hours\n"
     ]
    }
   ],
   "source": [
    "#Convert minutes into hours and minutes.\n",
    "\n",
    "hours=int(input(\"Enter hours= \"))\n",
    "minute=hours*60\n",
    "print(f\"{minute} minutes in {hours} hours\")\n"
   ]
  },
  {
   "cell_type": "code",
   "execution_count": 13,
   "id": "20444a20",
   "metadata": {},
   "outputs": [
    {
     "name": "stdout",
     "output_type": "stream",
     "text": [
      " area of  the Rectangle  = 15.0\n"
     ]
    }
   ],
   "source": [
    "# Find the area of a rectangle (length × width).\n",
    "\n",
    "length=float(input(\"Enter Length = \"))\n",
    "width=float(input(\"Enter Width = \"))\n",
    "\n",
    "area=length*width\n",
    "\n",
    "print(f\" area of  the Rectangle  = {area}\")"
   ]
  },
  {
   "cell_type": "code",
   "execution_count": 14,
   "id": "be7201c2",
   "metadata": {},
   "outputs": [
    {
     "name": "stdout",
     "output_type": "stream",
     "text": [
      "area of circle= 78.5 \n"
     ]
    }
   ],
   "source": [
    "#Find the area of a circle (π × radius²).\n",
    "\n",
    "radius=float(input(\"Enter radius= \"))\n",
    "area=(3.14*radius**2)\n",
    "\n",
    "print(f\"area of circle= {area} \")\n"
   ]
  },
  {
   "cell_type": "code",
   "execution_count": 1,
   "id": "8e5d89fd",
   "metadata": {},
   "outputs": [
    {
     "name": "stdout",
     "output_type": "stream",
     "text": [
      "perimiter of rectangle is =16.0\n"
     ]
    }
   ],
   "source": [
    "#Find the perimeter of a rectangle (2 × (length + width)).\n",
    "\n",
    "length=float(input(\"Enter length= \"))\n",
    "width=float(input(\"Enter Width= \"))\n",
    "perimeter=(2*(length+width))\n",
    "print(f\"perimiter of rectangle is ={perimeter}\")\n"
   ]
  },
  {
   "cell_type": "code",
   "execution_count": null,
   "id": "0af348aa",
   "metadata": {},
   "outputs": [
    {
     "name": "stdout",
     "output_type": "stream",
     "text": [
      "simpe interest is =3000.0\n"
     ]
    }
   ],
   "source": [
    "#Calculate simple interest (P × R × T / 100).\n",
    "\n",
    "principle=float(input(\"enter principle amount= \"))\n",
    "rate=float(input(\"Enter the rate =  (% per year)\"))\n",
    "time=float(input(\"Enter the time= \"))\n",
    "\n",
    "si=(principle*rate*time/100)\n",
    "\n",
    "print(f\"simpe interest is ={si}\")\n",
    "\n"
   ]
  },
  {
   "cell_type": "code",
   "execution_count": 7,
   "id": "13efc90c",
   "metadata": {},
   "outputs": [
    {
     "name": "stdout",
     "output_type": "stream",
     "text": [
      "Total amount is = 1653.75\n",
      "Compound inerest is =153.75\n",
      "simple interst is=150.0\n"
     ]
    }
   ],
   "source": [
    "#. Calculate compound interest.\n",
    "principle=float(input(\"Enter principle \"))\n",
    "rate=float(input(\"Enter rate= \"))\n",
    "time=float(input(\"Enter time= \"))\n",
    "si=(principle*rate*time)/100\n",
    "a=principle*(1+rate/100)**time\n",
    "ci=a-principle\n",
    "\n",
    "print(f\"Total amount is = {a:.2f}\")\n",
    "print(f\"Compound inerest is ={ci:.2f}\")\n",
    "print(f\"simple interst is={si}\")\n"
   ]
  },
  {
   "cell_type": "code",
   "execution_count": 3,
   "id": "37539e49",
   "metadata": {},
   "outputs": [
    {
     "name": "stdout",
     "output_type": "stream",
     "text": [
      "Total marks =412.0\n",
      "Percentagew obtain =82.40 %\n"
     ]
    }
   ],
   "source": [
    "#Find the total marks and percentage of 5 subjects.\n",
    "sub1=float(input(\"Enter Subject 1 marks= \"))\n",
    "sub2=float(input(\"Enter Subject 1 marks= \"))\n",
    "sub3=float(input(\"Enter Subject 1 marks= \"))\n",
    "sub4=float(input(\"Enter Subject 1 marks= \"))\n",
    "sub5=float(input(\"Enter Subject 1 marks= \"))\n",
    "marks=sub1+sub2+sub3+sub4+sub5\n",
    "percentage=(marks/500)*100\n",
    "\n",
    "print(f\"Total marks ={marks}\")\n",
    "print(f\"Percentagew obtain ={percentage:.2f} %\")"
   ]
  },
  {
   "cell_type": "code",
   "execution_count": 2,
   "id": "4a0ec064",
   "metadata": {},
   "outputs": [
    {
     "name": "stdout",
     "output_type": "stream",
     "text": [
      "5\n",
      "Total length of friend name =  4\n"
     ]
    }
   ],
   "source": [
    "#check length of string\n",
    "name=input(\"Enter your name= \")\n",
    "res=len(name)\n",
    "print(res)\n",
    "\n",
    "name1=input(\"Enter your friend name= \")\n",
    "count=0\n",
    "for char in name1:\n",
    "    count+=1\n",
    "print(\"Total length of friend name = \",count)"
   ]
  },
  {
   "cell_type": "code",
   "execution_count": 5,
   "id": "e04617ea",
   "metadata": {},
   "outputs": [
    {
     "name": "stdout",
     "output_type": "stream",
     "text": [
      "    August 2025\n",
      "Mo Tu We Th Fr Sa Su\n",
      "             1  2  3\n",
      " 4  5  6  7  8  9 10\n",
      "11 12 13 14 15 16 17\n",
      "18 19 20 21 22 23 24\n",
      "25 26 27 28 29 30 31\n",
      "\n"
     ]
    }
   ],
   "source": [
    "import calendar\n",
    "year=int(input(\" Enter year= \"))\n",
    "month=int(input(\" Enter Month= \"))\n",
    "\n",
    "cal=calendar.month(year,month)\n",
    "print(cal)"
   ]
  },
  {
   "cell_type": "code",
   "execution_count": null,
   "id": "efefaa19",
   "metadata": {},
   "outputs": [
    {
     "name": "stdout",
     "output_type": "stream",
     "text": [
      "2025-08-11 12:39:37.654962\n"
     ]
    }
   ],
   "source": [
    "\n",
    "from datetime import datetime\n",
    "now=datetime.now()\n",
    "print(now)"
   ]
  },
  {
   "cell_type": "code",
   "execution_count": null,
   "id": "5fb2aecd",
   "metadata": {},
   "outputs": [
    {
     "name": "stdout",
     "output_type": "stream",
     "text": [
      "    August 2025\n",
      "Mo Tu We Th Fr Sa Su\n",
      "             1  2  3\n",
      " 4  5  6  7  8  9 10\n",
      "11 12 13 14 15 16 17\n",
      "18 19 20 21 22 23 24\n",
      "25 26 27 28 29 30 31\n",
      "\n"
     ]
    }
   ],
   "source": [
    "#check month calendor\n",
    "\n",
    "import calendar\n",
    "year=int(input(\"Enter year= \"))\n",
    "months=int(input('Enter Month= '))\n",
    "\n",
    "cal=calendar.month(year,months)\n",
    "print(cal)"
   ]
  },
  {
   "cell_type": "code",
   "execution_count": null,
   "id": "37b0aff8",
   "metadata": {},
   "outputs": [
    {
     "name": "stdout",
     "output_type": "stream",
     "text": [
      "random  number652\n",
      "2\n"
     ]
    }
   ],
   "source": [
    "#check \n",
    "\n",
    "import random\n",
    "print(f\"random  number{random.randint(1,1000)}\")\n",
    "\n",
    "ran=random.randint(1,2)\n",
    "print(ran)"
   ]
  },
  {
   "cell_type": "code",
   "execution_count": null,
   "id": "cd40e1a4",
   "metadata": {},
   "outputs": [
    {
     "name": "stdout",
     "output_type": "stream",
     "text": [
      "2\n",
      "3\n",
      "5\n",
      "7\n",
      "11\n",
      "13\n",
      "17\n",
      "19\n",
      "23\n",
      "29\n",
      "31\n",
      "37\n",
      "41\n",
      "43\n",
      "47\n",
      "53\n",
      "59\n",
      "61\n",
      "67\n",
      "71\n",
      "73\n",
      "79\n",
      "83\n",
      "89\n",
      "97\n"
     ]
    }
   ],
   "source": [
    "# check prime number in range\n",
    "i=1\n",
    "j=1\n",
    "num=int(input(\"enter the num= \"))\n",
    "for i in range(2,num):\n",
    "    flag=1\n",
    "    for j in range(2,int(i/2)+1):\n",
    "       if i%j==0:\n",
    "           flag=0\n",
    "    if flag:\n",
    "        print(i)\n",
    "\n"
   ]
  },
  {
   "cell_type": "code",
   "execution_count": null,
   "id": "ea864ed4",
   "metadata": {},
   "outputs": [
    {
     "name": "stdout",
     "output_type": "stream",
     "text": [
      "4 is not a prime number\n"
     ]
    }
   ],
   "source": [
    "#check prime number\n",
    "i=1\n",
    "flag=1\n",
    "num=int(input(\"enter the number= \"))\n",
    "for i in range(2,num):\n",
    "    if num%i==0:\n",
    "        flag=0\n",
    "if flag:\n",
    "    print(f\"{num } is prime number\")\n",
    "else:\n",
    "    print(f\"{num} is not a prime number\")\n",
    "        "
   ]
  },
  {
   "cell_type": "code",
   "execution_count": null,
   "id": "7acca397",
   "metadata": {},
   "outputs": [
    {
     "name": "stdout",
     "output_type": "stream",
     "text": [
      "2025-08-12 10:29:03.926707\n"
     ]
    }
   ],
   "source": [
    "#print current time and date\n",
    "\n",
    "\n",
    "from datetime import datetime\n",
    "\n",
    "now=datetime.now()\n",
    "print(now)"
   ]
  },
  {
   "cell_type": "code",
   "execution_count": 7,
   "id": "b54ce464",
   "metadata": {},
   "outputs": [
    {
     "name": "stdout",
     "output_type": "stream",
     "text": [
      "45 is not a perfect number\n"
     ]
    }
   ],
   "source": [
    "#check perfect number\n",
    "num=int(input(\"Enter number= \"))\n",
    "i=1\n",
    "sum=0\n",
    "for i in range(1,num):\n",
    "    if num%i==0:\n",
    "        sum+=i\n",
    "if(sum==num):\n",
    "    print(f\"{num} is perfect number\")\n",
    "else:\n",
    "    print(f\"{num} is not a perfect number\")"
   ]
  },
  {
   "cell_type": "code",
   "execution_count": 25,
   "id": "31205583",
   "metadata": {},
   "outputs": [
    {
     "name": "stdout",
     "output_type": "stream",
     "text": [
      "rem=0\n",
      "rem=7\n",
      "rem=3\n",
      "armstrong\n"
     ]
    }
   ],
   "source": [
    "# armstrong number\n",
    "num=int(input(\"Enter number= \"))\n",
    "sum=0\n",
    "digit=0\n",
    "i=1\n",
    "temp=num\n",
    "cpy=num\n",
    "while num!=0:\n",
    "    num//=10\n",
    "    digit+=1\n",
    "for i in range(1,digit+1):\n",
    "    rem=temp%10\n",
    "    print(f\"rem={rem}\")\n",
    "    power=rem**digit\n",
    "    sum+=power\n",
    "    temp//=10\n",
    "\n",
    "if cpy==sum:\n",
    "    print(\"armstrong\")\n",
    "else :\n",
    "    print(\"Not armstrong\")"
   ]
  },
  {
   "cell_type": "code",
   "execution_count": 29,
   "id": "61314a59",
   "metadata": {},
   "outputs": [
    {
     "name": "stdout",
     "output_type": "stream",
     "text": [
      "palindrome number\n"
     ]
    }
   ],
   "source": [
    "# palindrome number\n",
    "\n",
    "num=int(input(\"Enter number= \"))\n",
    "tmp=num\n",
    "rev=0\n",
    "while num!=0:\n",
    "    rem=num%10\n",
    "    rev=(rev*10)+rem\n",
    "    num//=10\n",
    "if tmp==rev:\n",
    "    print(\"palindrome number\")\n",
    "else:\n",
    "    print(\"not a palindrome number\")"
   ]
  },
  {
   "cell_type": "code",
   "execution_count": null,
   "id": "6da3a627",
   "metadata": {},
   "outputs": [],
   "source": []
  }
 ],
 "metadata": {
  "kernelspec": {
   "display_name": "Python 3",
   "language": "python",
   "name": "python3"
  },
  "language_info": {
   "codemirror_mode": {
    "name": "ipython",
    "version": 3
   },
   "file_extension": ".py",
   "mimetype": "text/x-python",
   "name": "python",
   "nbconvert_exporter": "python",
   "pygments_lexer": "ipython3",
   "version": "3.12.4"
  }
 },
 "nbformat": 4,
 "nbformat_minor": 5
}
