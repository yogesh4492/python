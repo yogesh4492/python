{
 "cells": [
  {
   "cell_type": "code",
   "execution_count": 2,
   "id": "63483418",
   "metadata": {},
   "outputs": [
    {
     "name": "stdout",
     "output_type": "stream",
     "text": [
      "16 is even number\n"
     ]
    }
   ],
   "source": [
    "\"\"\"\n",
    "Only Practice \n",
    "\n",
    "\"\"\"\n",
    "# Number is even or odd\n",
    "\n",
    "num=int(input(\"Enter Number= \"))\n",
    "if num%2==0:\n",
    "    print(f\"{num} is even number\")\n",
    "else:\n",
    "    print(f\"{num} is odd number\")\n",
    "\n"
   ]
  },
  {
   "cell_type": "code",
   "execution_count": 5,
   "id": "6b6b1957",
   "metadata": {},
   "outputs": [
    {
     "name": "stdout",
     "output_type": "stream",
     "text": [
      "0 is zero\n"
     ]
    }
   ],
   "source": [
    "# check number positive ,negative or zero\n",
    "\n",
    "num=int(input(\"Enter the num= \"))\n",
    "if num>0:\n",
    "    print(f\"{num} is positive number\")\n",
    "elif num<0 :\n",
    "    print(f\"{num} is negative number\")\n",
    "else :\n",
    "    print(f\"{num} is zero\")"
   ]
  },
  {
   "cell_type": "code",
   "execution_count": null,
   "id": "ca5e4e26",
   "metadata": {},
   "outputs": [],
   "source": [
    "\n",
    "\n",
    "\n"
   ]
  },
  {
   "cell_type": "code",
   "execution_count": null,
   "id": "f29b666f",
   "metadata": {},
   "outputs": [],
   "source": []
  }
 ],
 "metadata": {
  "kernelspec": {
   "display_name": "Python 3",
   "language": "python",
   "name": "python3"
  },
  "language_info": {
   "codemirror_mode": {
    "name": "ipython",
    "version": 3
   },
   "file_extension": ".py",
   "mimetype": "text/x-python",
   "name": "python",
   "nbconvert_exporter": "python",
   "pygments_lexer": "ipython3",
   "version": "3.12.4"
  }
 },
 "nbformat": 4,
 "nbformat_minor": 5
}
