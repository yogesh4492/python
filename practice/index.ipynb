{
 "cells": [
  {
   "cell_type": "code",
   "execution_count": 2,
   "id": "63483418",
   "metadata": {},
   "outputs": [
    {
     "name": "stdout",
     "output_type": "stream",
     "text": [
      "16 is even number\n"
     ]
    }
   ],
   "source": [
    "\"\"\"\n",
    "Only Practice \n",
    "\n",
    "\"\"\"\n",
    "# Number is even or odd\n",
    "\n",
    "num=int(input(\"Enter Number= \"))\n",
    "if num%2==0:\n",
    "    print(f\"{num} is even number\")\n",
    "else:\n",
    "    print(f\"{num} is odd number\")\n",
    "\n"
   ]
  },
  {
   "cell_type": "code",
   "execution_count": 5,
   "id": "6b6b1957",
   "metadata": {},
   "outputs": [
    {
     "name": "stdout",
     "output_type": "stream",
     "text": [
      "0 is zero\n"
     ]
    }
   ],
   "source": [
    "# check number positive ,negative or zero\n",
    "\n",
    "num=int(input(\"Enter the num= \"))\n",
    "if num>0:\n",
    "    print(f\"{num} is positive number\")\n",
    "elif num<0 :\n",
    "    print(f\"{num} is negative number\")\n",
    "else :\n",
    "    print(f\"{num} is zero\")"
   ]
  },
  {
   "cell_type": "code",
   "execution_count": 6,
   "id": "ca5e4e26",
   "metadata": {},
   "outputs": [
    {
     "name": "stdout",
     "output_type": "stream",
     "text": [
      "prime number\n",
      "2\n",
      "3\n",
      "5\n",
      "7\n",
      "11\n",
      "13\n",
      "17\n",
      "19\n",
      "23\n",
      "29\n",
      "31\n",
      "37\n",
      "41\n",
      "43\n",
      "47\n",
      "53\n",
      "59\n",
      "61\n",
      "67\n",
      "71\n",
      "73\n",
      "79\n",
      "83\n",
      "89\n",
      "97\n"
     ]
    }
   ],
   "source": [
    "# check number is prime or not\n",
    "\n",
    "num=int(input(\"Enter Number= \"))\n",
    "i=2\n",
    "flag=1\n",
    "for i in range(2,num):\n",
    "    if num%i==0:\n",
    "        flag=0\n",
    "if flag:\n",
    "    print(\"prime number\")\n",
    "else:\n",
    "    print(f\" {num} is not prime num\")\n",
    "\n",
    "\n",
    "# check prime number in range\n",
    "\n",
    "num=int(input(\"Enter Number= \"))\n",
    "i=2\n",
    "j=2\n",
    "for i in range(2,num+1):\n",
    "    flag=1\n",
    "    #ram=int(i/2+1)\n",
    "    for j in range(2,i//2+1):\n",
    "        if i%j==0:\n",
    "            flag=0\n",
    "            break\n",
    "    if flag:\n",
    "        print(i)\n",
    "\n"
   ]
  },
  {
   "cell_type": "code",
   "execution_count": null,
   "id": "f29b666f",
   "metadata": {},
   "outputs": [
    {
     "name": "stdout",
     "output_type": "stream",
     "text": [
      " reamindor of 15 and 2 is =1\n"
     ]
    }
   ],
   "source": [
    "# Find the remainder when one number is divided by another\n",
    "\n",
    "num1=int(input(\"Enter Number 1= \"))\n",
    "num2=int(input(\"Enter Number 2= \"))\n",
    "print(f\" reamainder of {num1} and {num2} is ={num1%num2}\")\n",
    "\n"
   ]
  },
  {
   "cell_type": "code",
   "execution_count": 4,
   "id": "0003c385",
   "metadata": {},
   "outputs": [
    {
     "name": "stdout",
     "output_type": "stream",
     "text": [
      "Square of 5 is = 25\n"
     ]
    }
   ],
   "source": [
    "# Find the Square of number\n",
    "\n",
    "num=int(input(\"Enter Number= \"))\n",
    "print(f\"Square of {num} is = {num**2}\")"
   ]
  },
  {
   "cell_type": "code",
   "execution_count": 5,
   "id": "6ee2b721",
   "metadata": {},
   "outputs": [
    {
     "name": "stdout",
     "output_type": "stream",
     "text": [
      "cube of 5 is =125\n"
     ]
    }
   ],
   "source": [
    "#find the cube of number\n",
    "\n",
    "num=int(input(\"Enter Number= \"))\n",
    "print(f\"cube of {num} is ={num*num*num}\")\n"
   ]
  },
  {
   "cell_type": "code",
   "execution_count": 8,
   "id": "f27291fb",
   "metadata": {},
   "outputs": [
    {
     "name": "stdout",
     "output_type": "stream",
     "text": [
      " a= 10 , b = 20\n"
     ]
    }
   ],
   "source": [
    "#. Swap two numbers using a third variable\n",
    "a=int(input(\"Enter Value of a= \"))\n",
    "b=int(input(\"Enter Value of b= \"))\n",
    "c=a\n",
    "a=b\n",
    "b=c\n",
    "print(f\" a= {a} , b = {b}\")"
   ]
  },
  {
   "cell_type": "code",
   "execution_count": null,
   "id": "2d5a1d41",
   "metadata": {},
   "outputs": [
    {
     "name": "stdout",
     "output_type": "stream",
     "text": [
      " value of a= 20 and value of b= 10\n"
     ]
    }
   ],
   "source": [
    "#swape two values without using third variable\n",
    "\n",
    "a=int(input(\"Enter value of a= \"))\n",
    "b=int(input(\"ENter Value of b= \"))\n",
    "a=a+b\n",
    "b=a-b\n",
    "a=a-b\n",
    "\n",
    "print(f\" value of a= {a} and value of b= {b}\")"
   ]
  },
  {
   "cell_type": "code",
   "execution_count": 11,
   "id": "41ed98a4",
   "metadata": {},
   "outputs": [
    {
     "name": "stdout",
     "output_type": "stream",
     "text": [
      "value of a= 2 and value of b= 15\n"
     ]
    }
   ],
   "source": [
    "#swape two values without using third variable\n",
    "\n",
    "a=int(input(\"Enter Value of a= \"))\n",
    "b=int(input(\"Enter the value of b= \"))\n",
    "\n",
    "a=int(a*b)\n",
    "b=int(a/b)\n",
    "a=int(a/b)\n",
    "\n",
    "print(f\"value of a= {a} and value of b= {b}\")\n"
   ]
  },
  {
   "cell_type": "code",
   "execution_count": null,
   "id": "2bc42e4a",
   "metadata": {},
   "outputs": [],
   "source": []
  }
 ],
 "metadata": {
  "kernelspec": {
   "display_name": "Python 3",
   "language": "python",
   "name": "python3"
  },
  "language_info": {
   "codemirror_mode": {
    "name": "ipython",
    "version": 3
   },
   "file_extension": ".py",
   "mimetype": "text/x-python",
   "name": "python",
   "nbconvert_exporter": "python",
   "pygments_lexer": "ipython3",
   "version": "3.12.4"
  }
 },
 "nbformat": 4,
 "nbformat_minor": 5
}
