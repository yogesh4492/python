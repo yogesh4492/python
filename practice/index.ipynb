{
 "cells": [
  {
   "cell_type": "code",
   "execution_count": 2,
   "id": "63483418",
   "metadata": {},
   "outputs": [
    {
     "name": "stdout",
     "output_type": "stream",
     "text": [
      "16 is even number\n"
     ]
    }
   ],
   "source": [
    "\"\"\"\n",
    "Only Practice \n",
    "\n",
    "\"\"\"\n",
    "# Number is even or odd\n",
    "\n",
    "num=int(input(\"Enter Number= \"))\n",
    "if num%2==0:\n",
    "    print(f\"{num} is even number\")\n",
    "else:\n",
    "    print(f\"{num} is odd number\")\n",
    "\n"
   ]
  },
  {
   "cell_type": "code",
   "execution_count": 5,
   "id": "6b6b1957",
   "metadata": {},
   "outputs": [
    {
     "name": "stdout",
     "output_type": "stream",
     "text": [
      "0 is zero\n"
     ]
    }
   ],
   "source": [
    "# check number positive ,negative or zero\n",
    "\n",
    "num=int(input(\"Enter the num= \"))\n",
    "if num>0:\n",
    "    print(f\"{num} is positive number\")\n",
    "elif num<0 :\n",
    "    print(f\"{num} is negative number\")\n",
    "else :\n",
    "    print(f\"{num} is zero\")"
   ]
  },
  {
   "cell_type": "code",
   "execution_count": 6,
   "id": "ca5e4e26",
   "metadata": {},
   "outputs": [
    {
     "name": "stdout",
     "output_type": "stream",
     "text": [
      "prime number\n",
      "2\n",
      "3\n",
      "5\n",
      "7\n",
      "11\n",
      "13\n",
      "17\n",
      "19\n",
      "23\n",
      "29\n",
      "31\n",
      "37\n",
      "41\n",
      "43\n",
      "47\n",
      "53\n",
      "59\n",
      "61\n",
      "67\n",
      "71\n",
      "73\n",
      "79\n",
      "83\n",
      "89\n",
      "97\n"
     ]
    }
   ],
   "source": [
    "# check number is prime or not\n",
    "\n",
    "num=int(input(\"Enter Number= \"))\n",
    "i=2\n",
    "flag=1\n",
    "for i in range(2,num):\n",
    "    if num%i==0:\n",
    "        flag=0\n",
    "if flag:\n",
    "    print(\"prime number\")\n",
    "else:\n",
    "    print(f\" {num} is not prime num\")\n",
    "\n",
    "\n",
    "# check prime number in range\n",
    "\n",
    "num=int(input(\"Enter Number= \"))\n",
    "i=2\n",
    "j=2\n",
    "for i in range(2,num+1):\n",
    "    flag=1\n",
    "    #ram=int(i/2+1)\n",
    "    for j in range(2,i//2+1):\n",
    "        if i%j==0:\n",
    "            flag=0\n",
    "            break\n",
    "    if flag:\n",
    "        print(i)\n",
    "\n"
   ]
  },
  {
   "cell_type": "code",
   "execution_count": null,
   "id": "f29b666f",
   "metadata": {},
   "outputs": [
    {
     "name": "stdout",
     "output_type": "stream",
     "text": [
      " reamindor of 15 and 2 is =1\n"
     ]
    }
   ],
   "source": [
    "# Find the remainder when one number is divided by another\n",
    "\n",
    "num1=int(input(\"Enter Number 1= \"))\n",
    "num2=int(input(\"Enter Number 2= \"))\n",
    "print(f\" reamainder of {num1} and {num2} is ={num1%num2}\")\n",
    "\n"
   ]
  },
  {
   "cell_type": "code",
   "execution_count": 4,
   "id": "0003c385",
   "metadata": {},
   "outputs": [
    {
     "name": "stdout",
     "output_type": "stream",
     "text": [
      "Square of 5 is = 25\n"
     ]
    }
   ],
   "source": [
    "# Find the Square of number\n",
    "\n",
    "num=int(input(\"Enter Number= \"))\n",
    "print(f\"Square of {num} is = {num**2}\")"
   ]
  },
  {
   "cell_type": "code",
   "execution_count": 5,
   "id": "6ee2b721",
   "metadata": {},
   "outputs": [
    {
     "name": "stdout",
     "output_type": "stream",
     "text": [
      "cube of 5 is =125\n"
     ]
    }
   ],
   "source": [
    "#find the cube of number\n",
    "\n",
    "num=int(input(\"Enter Number= \"))\n",
    "print(f\"cube of {num} is ={num*num*num}\")\n"
   ]
  },
  {
   "cell_type": "code",
   "execution_count": 8,
   "id": "f27291fb",
   "metadata": {},
   "outputs": [
    {
     "name": "stdout",
     "output_type": "stream",
     "text": [
      " a= 10 , b = 20\n"
     ]
    }
   ],
   "source": [
    "#. Swap two numbers using a third variable\n",
    "a=int(input(\"Enter Value of a= \"))\n",
    "b=int(input(\"Enter Value of b= \"))\n",
    "c=a\n",
    "a=b\n",
    "b=c\n",
    "print(f\" a= {a} , b = {b}\")"
   ]
  },
  {
   "cell_type": "code",
   "execution_count": null,
   "id": "2d5a1d41",
   "metadata": {},
   "outputs": [
    {
     "name": "stdout",
     "output_type": "stream",
     "text": [
      " value of a= 20 and value of b= 10\n"
     ]
    }
   ],
   "source": [
    "#swape two values without using third variable\n",
    "\n",
    "a=int(input(\"Enter value of a= \"))\n",
    "b=int(input(\"ENter Value of b= \"))\n",
    "a=a+b\n",
    "b=a-b\n",
    "a=a-b\n",
    "\n",
    "print(f\" value of a= {a} and value of b= {b}\")"
   ]
  },
  {
   "cell_type": "code",
   "execution_count": 11,
   "id": "41ed98a4",
   "metadata": {},
   "outputs": [
    {
     "name": "stdout",
     "output_type": "stream",
     "text": [
      "value of a= 2 and value of b= 15\n"
     ]
    }
   ],
   "source": [
    "#swape two values without using third variable\n",
    "\n",
    "a=int(input(\"Enter Value of a= \"))\n",
    "b=int(input(\"Enter the value of b= \"))\n",
    "\n",
    "a=int(a*b)\n",
    "b=int(a/b)\n",
    "a=int(a/b)\n",
    "\n",
    "print(f\"value of a= {a} and value of b= {b}\")\n"
   ]
  },
  {
   "cell_type": "code",
   "execution_count": 14,
   "id": "2bc42e4a",
   "metadata": {},
   "outputs": [
    {
     "name": "stdout",
     "output_type": "stream",
     "text": [
      " Average of three number = 25 \n"
     ]
    }
   ],
   "source": [
    "#Calculate the average of three numbers.\n",
    "\n",
    "num1=int(input(\"Enter Number 1= \"))\n",
    "num2=int(input(\"Enter Number 2= \"))\n",
    "num3=int(input(\"Enter Number 3= \"))\n",
    "avg=int((num1+num2+num3)/3)\n",
    "\n",
    "print(f\" Average of three number = {avg} \")\n",
    "\n"
   ]
  },
  {
   "cell_type": "code",
   "execution_count": null,
   "id": "ae93246b",
   "metadata": {},
   "outputs": [
    {
     "name": "stdout",
     "output_type": "stream",
     "text": [
      "fehrenhit of 35.0 is =95.0\n"
     ]
    }
   ],
   "source": [
    "# Convert temperature from Celsius to Fahrenheit.\n",
    "\n",
    "cel=float(input(\"Enter The celcius= \"))\n",
    "fer=(cel*9/5)+32\n",
    "\n",
    "print(f\"fehrenhit of {cel} is ={fer} fehrenhit\")\n",
    "\n"
   ]
  },
  {
   "cell_type": "code",
   "execution_count": 17,
   "id": "cd6b5ca2",
   "metadata": {},
   "outputs": [
    {
     "name": "stdout",
     "output_type": "stream",
     "text": [
      "cel is 35.0\n"
     ]
    }
   ],
   "source": [
    "#Convert temperature from Fahrenheit to Celsius.\n",
    "\n",
    "fer=int(input(\"Enter the fehrenhit= \"))\n",
    "cel=(fer-32)*5/9\n",
    "\n",
    "print(f\"cel is {cel}\")\n"
   ]
  },
  {
   "cell_type": "code",
   "execution_count": 3,
   "id": "358144d2",
   "metadata": {},
   "outputs": [
    {
     "name": "stdout",
     "output_type": "stream",
     "text": [
      "1.0563307\n"
     ]
    }
   ],
   "source": [
    "#Convert kilometers to miles\n",
    "kilomiter=float(input(\"Enter The kilomiter= \"))\n",
    "miles=kilomiter * 0.621371\n",
    "print(miles)"
   ]
  },
  {
   "cell_type": "code",
   "execution_count": 1,
   "id": "82d54128",
   "metadata": {},
   "outputs": [
    {
     "name": "stdout",
     "output_type": "stream",
     "text": [
      "2.671511866501655\n"
     ]
    }
   ],
   "source": [
    "#Convert  miles to kilomiter\n",
    "\n",
    "miles=float(input(\"Enter Miles= \"))\n",
    "kilo=miles/0.621371\n",
    "print(kilo)\n"
   ]
  },
  {
   "cell_type": "code",
   "execution_count": 11,
   "id": "f2990984",
   "metadata": {},
   "outputs": [
    {
     "name": "stdout",
     "output_type": "stream",
     "text": [
      "5.0 hours in 300 min\n"
     ]
    }
   ],
   "source": [
    "#Convert minutes into hours and minutes.\n",
    "\n",
    "minute=int(input(\"Enter Minutes= \"))\n",
    "hours=minute/60\n",
    "print(f\"{hours} hours in {minute} min\")\n",
    "\n"
   ]
  },
  {
   "cell_type": "code",
   "execution_count": null,
   "id": "b3e3a38b",
   "metadata": {},
   "outputs": [
    {
     "name": "stdout",
     "output_type": "stream",
     "text": [
      "300 minutes in 5 hours\n"
     ]
    }
   ],
   "source": [
    "#Convert minutes into hours and minutes.\n",
    "\n",
    "hours=int(input(\"Enter hours= \"))\n",
    "minute=hours*60\n",
    "print(f\"{minute} minutes in {hours} hours\")\n"
   ]
  },
  {
   "cell_type": "code",
   "execution_count": 13,
   "id": "20444a20",
   "metadata": {},
   "outputs": [
    {
     "name": "stdout",
     "output_type": "stream",
     "text": [
      " area of  the Rectangle  = 15.0\n"
     ]
    }
   ],
   "source": [
    "# Find the area of a rectangle (length × width).\n",
    "\n",
    "length=float(input(\"Enter Length = \"))\n",
    "width=float(input(\"Enter Width = \"))\n",
    "\n",
    "area=length*width\n",
    "\n",
    "print(f\" area of  the Rectangle  = {area}\")"
   ]
  },
  {
   "cell_type": "code",
   "execution_count": 14,
   "id": "be7201c2",
   "metadata": {},
   "outputs": [
    {
     "name": "stdout",
     "output_type": "stream",
     "text": [
      "area of circle= 78.5 \n"
     ]
    }
   ],
   "source": [
    "#Find the area of a circle (π × radius²).\n",
    "\n",
    "radius=float(input(\"Enter radius= \"))\n",
    "area=(3.14*radius**2)\n",
    "\n",
    "print(f\"area of circle= {area} \")\n"
   ]
  },
  {
   "cell_type": "code",
   "execution_count": 1,
   "id": "8e5d89fd",
   "metadata": {},
   "outputs": [
    {
     "name": "stdout",
     "output_type": "stream",
     "text": [
      "perimiter of rectangle is =16.0\n"
     ]
    }
   ],
   "source": [
    "#Find the perimeter of a rectangle (2 × (length + width)).\n",
    "\n",
    "length=float(input(\"Enter length= \"))\n",
    "width=float(input(\"Enter Width= \"))\n",
    "perimeter=(2*(length+width))\n",
    "print(f\"perimiter of rectangle is ={perimeter}\")\n"
   ]
  },
  {
   "cell_type": "code",
   "execution_count": null,
   "id": "0af348aa",
   "metadata": {},
   "outputs": [
    {
     "name": "stdout",
     "output_type": "stream",
     "text": [
      "simpe interest is =3000.0\n"
     ]
    }
   ],
   "source": [
    "#Calculate simple interest (P × R × T / 100).\n",
    "\n",
    "principle=float(input(\"enter principle amount= \"))\n",
    "rate=float(input(\"Enter the rate =  (% per year)\"))\n",
    "time=float(input(\"Enter the time= \"))\n",
    "\n",
    "si=(principle*rate*time/100)\n",
    "\n",
    "print(f\"simpe interest is ={si}\")\n",
    "\n"
   ]
  },
  {
   "cell_type": "code",
   "execution_count": 7,
   "id": "13efc90c",
   "metadata": {},
   "outputs": [
    {
     "name": "stdout",
     "output_type": "stream",
     "text": [
      "Total amount is = 1653.75\n",
      "Compound inerest is =153.75\n",
      "simple interst is=150.0\n"
     ]
    }
   ],
   "source": [
    "#. Calculate compound interest.\n",
    "principle=float(input(\"Enter principle \"))\n",
    "rate=float(input(\"Enter rate= \"))\n",
    "time=float(input(\"Enter time= \"))\n",
    "si=(principle*rate*time)/100\n",
    "a=principle*(1+rate/100)**time\n",
    "ci=a-principle\n",
    "\n",
    "print(f\"Total amount is = {a:.2f}\")\n",
    "print(f\"Compound inerest is ={ci:.2f}\")\n",
    "print(f\"simple interst is={si}\")\n"
   ]
  },
  {
   "cell_type": "code",
   "execution_count": 3,
   "id": "37539e49",
   "metadata": {},
   "outputs": [
    {
     "name": "stdout",
     "output_type": "stream",
     "text": [
      "Total marks =412.0\n",
      "Percentagew obtain =82.40 %\n"
     ]
    }
   ],
   "source": [
    "#Find the total marks and percentage of 5 subjects.\n",
    "sub1=float(input(\"Enter Subject 1 marks= \"))\n",
    "sub2=float(input(\"Enter Subject 1 marks= \"))\n",
    "sub3=float(input(\"Enter Subject 1 marks= \"))\n",
    "sub4=float(input(\"Enter Subject 1 marks= \"))\n",
    "sub5=float(input(\"Enter Subject 1 marks= \"))\n",
    "marks=sub1+sub2+sub3+sub4+sub5\n",
    "percentage=(marks/500)*100\n",
    "\n",
    "print(f\"Total marks ={marks}\")\n",
    "print(f\"Percentagew obtain ={percentage:.2f} %\")"
   ]
  },
  {
   "cell_type": "code",
   "execution_count": 2,
   "id": "4a0ec064",
   "metadata": {},
   "outputs": [
    {
     "name": "stdout",
     "output_type": "stream",
     "text": [
      "5\n",
      "Total length of friend name =  4\n"
     ]
    }
   ],
   "source": [
    "#check length of string\n",
    "name=input(\"Enter your name= \")\n",
    "res=len(name)\n",
    "print(res)\n",
    "\n",
    "name1=input(\"Enter your friend name= \")\n",
    "count=0\n",
    "for char in name1:\n",
    "    count+=1\n",
    "print(\"Total length of friend name = \",count)"
   ]
  },
  {
   "cell_type": "code",
   "execution_count": null,
   "id": "5fb2aecd",
   "metadata": {},
   "outputs": [
    {
     "name": "stdout",
     "output_type": "stream",
     "text": [
      "    August 2025\n",
      "Mo Tu We Th Fr Sa Su\n",
      "             1  2  3\n",
      " 4  5  6  7  8  9 10\n",
      "11 12 13 14 15 16 17\n",
      "18 19 20 21 22 23 24\n",
      "25 26 27 28 29 30 31\n",
      "\n"
     ]
    }
   ],
   "source": [
    "#check month calendor\n",
    "\n",
    "import calendar\n",
    "year=int(input(\"Enter year= \"))\n",
    "months=int(input('Enter Month= '))\n",
    "\n",
    "cal=calendar.month(year,months)\n",
    "print(cal)"
   ]
  },
  {
   "cell_type": "code",
   "execution_count": null,
   "id": "37b0aff8",
   "metadata": {},
   "outputs": [
    {
     "name": "stdout",
     "output_type": "stream",
     "text": [
      "random  number652\n",
      "2\n"
     ]
    }
   ],
   "source": [
    "#print random number\n",
    "\n",
    "import random\n",
    "print(f\"random  number{random.randint(1,1000)}\")\n",
    "\n",
    "ran=random.randint(1,2)\n",
    "print(ran)"
   ]
  },
  {
   "cell_type": "code",
   "execution_count": null,
   "id": "cd40e1a4",
   "metadata": {},
   "outputs": [
    {
     "name": "stdout",
     "output_type": "stream",
     "text": [
      "2\n",
      "3\n",
      "5\n",
      "7\n",
      "11\n",
      "13\n",
      "17\n",
      "19\n",
      "23\n",
      "29\n",
      "31\n",
      "37\n",
      "41\n",
      "43\n",
      "47\n",
      "53\n",
      "59\n",
      "61\n",
      "67\n",
      "71\n",
      "73\n",
      "79\n",
      "83\n",
      "89\n",
      "97\n"
     ]
    }
   ],
   "source": [
    "# check prime number in range\n",
    "i=1\n",
    "j=1\n",
    "num=int(input(\"enter the num= \"))\n",
    "for i in range(2,num):\n",
    "    flag=1\n",
    "    for j in range(2,int(i/2)+1):\n",
    "       if i%j==0:\n",
    "           flag=0\n",
    "    if flag:\n",
    "        print(i)\n",
    "\n"
   ]
  },
  {
   "cell_type": "code",
   "execution_count": null,
   "id": "ea864ed4",
   "metadata": {},
   "outputs": [
    {
     "name": "stdout",
     "output_type": "stream",
     "text": [
      "4 is not a prime number\n"
     ]
    }
   ],
   "source": [
    "#check prime number\n",
    "i=1\n",
    "flag=1\n",
    "num=int(input(\"enter the number= \"))\n",
    "for i in range(2,num):\n",
    "    if num%i==0:\n",
    "        flag=0\n",
    "if flag:\n",
    "    print(f\"{num } is prime number\")\n",
    "else:\n",
    "    print(f\"{num} is not a prime number\")\n",
    "        "
   ]
  },
  {
   "cell_type": "code",
   "execution_count": null,
   "id": "7acca397",
   "metadata": {},
   "outputs": [
    {
     "name": "stdout",
     "output_type": "stream",
     "text": [
      "2025-08-12 10:29:03.926707\n"
     ]
    }
   ],
   "source": [
    "#print current time and date\n",
    "\n",
    "\n",
    "from datetime import datetime\n",
    "\n",
    "now=datetime.now()\n",
    "print(now)"
   ]
  },
  {
   "cell_type": "code",
   "execution_count": 7,
   "id": "b54ce464",
   "metadata": {},
   "outputs": [
    {
     "name": "stdout",
     "output_type": "stream",
     "text": [
      "45 is not a perfect number\n"
     ]
    }
   ],
   "source": [
    "#check perfect number\n",
    "num=int(input(\"Enter number= \"))\n",
    "i=1\n",
    "sum=0\n",
    "for i in range(1,num):\n",
    "    if num%i==0:\n",
    "        sum+=i\n",
    "if(sum==num):\n",
    "    print(f\"{num} is perfect number\")\n",
    "else:\n",
    "    print(f\"{num} is not a perfect number\")"
   ]
  },
  {
   "cell_type": "code",
   "execution_count": 25,
   "id": "31205583",
   "metadata": {},
   "outputs": [
    {
     "name": "stdout",
     "output_type": "stream",
     "text": [
      "rem=0\n",
      "rem=7\n",
      "rem=3\n",
      "armstrong\n"
     ]
    }
   ],
   "source": [
    "# armstrong number\n",
    "num=int(input(\"Enter number= \"))\n",
    "sum=0\n",
    "digit=0\n",
    "i=1\n",
    "temp=num\n",
    "cpy=num\n",
    "while num!=0:\n",
    "    num//=10\n",
    "    digit+=1\n",
    "for i in range(1,digit+1):\n",
    "    rem=temp%10\n",
    "    print(f\"rem={rem}\")\n",
    "    power=rem**digit\n",
    "    sum+=power\n",
    "    temp//=10\n",
    "\n",
    "if cpy==sum:\n",
    "    print(\"armstrong\")\n",
    "else :\n",
    "    print(\"Not armstrong\")"
   ]
  },
  {
   "cell_type": "code",
   "execution_count": null,
   "id": "61314a59",
   "metadata": {},
   "outputs": [
    {
     "name": "stdout",
     "output_type": "stream",
     "text": [
      "palindrome number\n"
     ]
    }
   ],
   "source": [
    "# palindrome number\n",
    "\n",
    "num=int(input(\"Enter number= \"))\n",
    "tmp=num\n",
    "rev=0\n",
    "while num!=0:\n",
    "    rem=num%10\n",
    "    rev=(rev*10)+rem\n",
    "    num//=10\n",
    "if tmp==rev:\n",
    "    print(\"palindrome number\")\n",
    "else:\n",
    "    print(\"not a palindrome number=\")"
   ]
  },
  {
   "cell_type": "code",
   "execution_count": 2,
   "id": "6da3a627",
   "metadata": {},
   "outputs": [
    {
     "name": "stdout",
     "output_type": "stream",
     "text": [
      "sum of number is =15\n"
     ]
    }
   ],
   "source": [
    "#sum of natural number\n",
    "num=int(input(\"Enter number= \"))\n",
    "i=1\n",
    "sum=0\n",
    "for i in range(1,num+1):\n",
    "    sum+=i\n",
    "print(f\"sum of number is ={sum}\")\n"
   ]
  },
  {
   "cell_type": "code",
   "execution_count": null,
   "id": "43340a3b",
   "metadata": {},
   "outputs": [
    {
     "name": "stdout",
     "output_type": "stream",
     "text": [
      "fibonacci series =0 1 1 2 3 "
     ]
    }
   ],
   "source": [
    "#Fibonacci series\n",
    "n1=0;n2=1\n",
    "terms=int(input(\"Enter terms for fibonacci series= \"))\n",
    "print(f\"fibonacci series ={n1} {n2}\",end=\" \")\n",
    "for i in range(1,terms-1):\n",
    "    n3=n1+n2\n",
    "    print(n3,end=\" \")\n",
    "    n1,n2=n2,n3\n"
   ]
  },
  {
   "cell_type": "code",
   "execution_count": 4,
   "id": "2097bf2a",
   "metadata": {},
   "outputs": [
    {
     "name": "stdout",
     "output_type": "stream",
     "text": [
      "* \n",
      "* * \n",
      "* * * \n",
      "* * * * \n",
      "* * * * * \n"
     ]
    }
   ],
   "source": [
    "#left tringle\n",
    "row=int(input(\"Enter the number= \"))\n",
    "for i in range(1,row+1):\n",
    "    for j in range(1,i+1):\n",
    "        print(\"* \",end=\"\")\n",
    "    print()\n",
    "\n"
   ]
  },
  {
   "cell_type": "code",
   "execution_count": 6,
   "id": "3ff39c59",
   "metadata": {},
   "outputs": [
    {
     "name": "stdout",
     "output_type": "stream",
     "text": [
      "5 is prime number\n"
     ]
    }
   ],
   "source": [
    "#prime number using if_else and function\n",
    "def prime(num,divisor):\n",
    "    if num<=1:\n",
    "        return 0\n",
    "    elif num==divisor:\n",
    "        return 1\n",
    "    elif num%divisor==0:\n",
    "        return 0\n",
    "    return prime(num,divisor+1)\n",
    "num=int(input(\"Enter Number= \"))\n",
    "if prime(num,2):\n",
    "    print(f\"{num} is prime number\")\n",
    "else:\n",
    "    print(f\"{num} is not a prime number\")\n"
   ]
  },
  {
   "cell_type": "code",
   "execution_count": null,
   "id": "7b37bd64",
   "metadata": {},
   "outputs": [
    {
     "name": "stdout",
     "output_type": "stream",
     "text": [
      "Addition of 10 and 20 is =30\n"
     ]
    }
   ],
   "source": [
    "\"\"\"\n",
    "Arithmetic Operator \n",
    "\"\"\"\n",
    "#add two numbers\n",
    "num1=int(input(\"Enter Number 1= \"))\n",
    "num2=int(input(\"Enter Number 2= \"))\n",
    "print(f\"Addition of {num1} and {num2} is ={num1+num2}\")\n"
   ]
  },
  {
   "cell_type": "code",
   "execution_count": null,
   "id": "05aed7f6",
   "metadata": {},
   "outputs": [
    {
     "name": "stdout",
     "output_type": "stream",
     "text": [
      "subtract 10 from 20 is =10\n"
     ]
    }
   ],
   "source": [
    "#subtract one number from another\n",
    "num1=int(input(\"Enter Number 1= \"))\n",
    "num2=int(input(\"Enter Number 2= \"))\n",
    "print(f\"subtract {num1} from {num2} is ={num2-num1}\")"
   ]
  },
  {
   "cell_type": "code",
   "execution_count": 11,
   "id": "aebb514c",
   "metadata": {},
   "outputs": [
    {
     "name": "stdout",
     "output_type": "stream",
     "text": [
      "Multiplication of 15 and 3 is =45\n"
     ]
    }
   ],
   "source": [
    "#Multiply two number\n",
    "num1=int(input(\"Enter Number 1= \"))\n",
    "num2=int(input(\"Enter Number 2= \"))\n",
    "print(f\"Multiplication of {num1} and {num2} is ={num1*num2}\")\n"
   ]
  },
  {
   "cell_type": "code",
   "execution_count": null,
   "id": "62415691",
   "metadata": {},
   "outputs": [
    {
     "name": "stdout",
     "output_type": "stream",
     "text": [
      "20 divided by 3 is =6.67\n"
     ]
    }
   ],
   "source": [
    "#divison with floating point\n",
    "num1=int(input(\"Enter Number 1= \"))\n",
    "num2=int(input(\"Enter number 2= \"))\n",
    "print(f\"{num1} / {num2} is ={num1/num2:.2f}\")"
   ]
  },
  {
   "cell_type": "code",
   "execution_count": null,
   "id": "71de7e78",
   "metadata": {},
   "outputs": [
    {
     "name": "stdout",
     "output_type": "stream",
     "text": [
      "20 divided by 3 is= 6 in floor division\n"
     ]
    }
   ],
   "source": [
    "#floor division\n",
    "num1=int(input(\"Enter Number 1= \"))\n",
    "num2=int(input(\"Enter Number 2= \"))\n",
    "print(f\"{num1} // {num2} is= {num1//num2} in floor division\")"
   ]
  },
  {
   "cell_type": "code",
   "execution_count": null,
   "id": "72d86ce2",
   "metadata": {},
   "outputs": [
    {
     "name": "stdout",
     "output_type": "stream",
     "text": [
      "3 % 10 =3\n"
     ]
    }
   ],
   "source": [
    "#remainder of two number\n",
    "num1=int(input(\"Enter Number 1= \"))\n",
    "num2=int(input(\"Enter Number 2= \"))\n",
    "print(f\"{num1} % {num2} = {num1%num2}\")\n"
   ]
  },
  {
   "cell_type": "code",
   "execution_count": 17,
   "id": "3491c4f4",
   "metadata": {},
   "outputs": [
    {
     "name": "stdout",
     "output_type": "stream",
     "text": [
      "5 square is = 25\n"
     ]
    }
   ],
   "source": [
    "#square of number\n",
    "num=int(input(\"Enter The Number= \"))\n",
    "print(f\"{num} square is = {num**2}\")"
   ]
  },
  {
   "cell_type": "code",
   "execution_count": 18,
   "id": "adadf222",
   "metadata": {},
   "outputs": [
    {
     "name": "stdout",
     "output_type": "stream",
     "text": [
      "5 cube is = 125\n"
     ]
    }
   ],
   "source": [
    "#cube of number\n",
    "num=int(input(\"Enter The Number = \"))\n",
    "print(f\"{num} cube is = {num**3}\")"
   ]
  },
  {
   "cell_type": "code",
   "execution_count": 24,
   "id": "86e20c53",
   "metadata": {},
   "outputs": [
    {
     "name": "stdout",
     "output_type": "stream",
     "text": [
      "8.0 8 8\n"
     ]
    }
   ],
   "source": [
    "#power of number\n",
    "import math\n",
    "base=int(input(\"Enter Base = \"))\n",
    "expo=int(input(\"Enter Expo= \"))\n",
    "\n",
    "res=math.pow(base,expo)\n",
    "power=base**expo\n",
    "result=1\n",
    "for _ in range(expo):\n",
    "    result *=base\n",
    "\n",
    "print(f\"{res} {power} {result}\")"
   ]
  },
  {
   "cell_type": "code",
   "execution_count": null,
   "id": "0cbbe518",
   "metadata": {},
   "outputs": [
    {
     "name": "stdout",
     "output_type": "stream",
     "text": [
      "area of rectangle is = 45.0\n"
     ]
    }
   ],
   "source": [
    "#Find the area of a rectangle (length × width).\n",
    "\n",
    "length=float(input(\"Enter Length= \"))\n",
    "width=float(input(\"Enter Width= \"))\n",
    "area=length*width\n",
    "print(f\"area of rectangle is = {area}\")"
   ]
  },
  {
   "cell_type": "code",
   "execution_count": 3,
   "id": "f457f30a",
   "metadata": {},
   "outputs": [
    {
     "name": "stdout",
     "output_type": "stream",
     "text": [
      "perimeter of sqaure = 24.0\n"
     ]
    }
   ],
   "source": [
    "#Find the perimeter of a square.\n",
    "\n",
    "#formula=4*side\n",
    "\n",
    "side=float(input(\"side of square= \"))\n",
    "perimeter=4*side\n",
    "print(f\"perimeter of sqaure = {perimeter}\")\n",
    "\n"
   ]
  },
  {
   "cell_type": "code",
   "execution_count": 1,
   "id": "29162890",
   "metadata": {},
   "outputs": [
    {
     "name": "stdout",
     "output_type": "stream",
     "text": [
      "Total second in 50 min = 3000 \n"
     ]
    }
   ],
   "source": [
    "#coonert minute into second using multiplication\n",
    "\n",
    "minute=int(input(\"Entyer minute =\"))\n",
    "second=minute*60\n",
    "print(f\"Total second in {minute} min = {second} \")\n"
   ]
  },
  {
   "cell_type": "code",
   "execution_count": 2,
   "id": "f7c0afbb",
   "metadata": {},
   "outputs": [
    {
     "name": "stdout",
     "output_type": "stream",
     "text": [
      "average of 5 numbers is =2.8 \n"
     ]
    }
   ],
   "source": [
    "# calculate average of n numbers\n",
    "n=int(input(\"How Many Numbers You Want to Enter= \"))\n",
    "sum=0\n",
    "for i in range(1,n+1):\n",
    "    num=int(input(f\"Enter Number {i}=  \"))\n",
    "    sum+=num\n",
    "avg=sum/n\n",
    "print(f\"average of {n} numbers is ={avg} \")"
   ]
  },
  {
   "cell_type": "code",
   "execution_count": 3,
   "id": "fe5634e2",
   "metadata": {},
   "outputs": [
    {
     "name": "stdout",
     "output_type": "stream",
     "text": [
      "--------------------------------------\n",
      "principle amount=15000.0 \n",
      "Rate =5.0 % per year\n",
      "Time =2.0 year\n",
      "compound interest= 1537.5\n",
      "Total Amount is =16537.5 \n"
     ]
    }
   ],
   "source": [
    "#calculate compound intrest\n",
    "\n",
    "p=float(input(\"Enter Principle Amount= \"))\n",
    "r=float(input(\"Enter Rate = \"))\n",
    "t=float(input(\"Enter time period in  year = \"))\n",
    "\n",
    "a=p*((1+r/100)**t)\n",
    "ci=a-p\n",
    "print(\"--------------------------------------\")\n",
    "print(f\"principle amount={p} \")\n",
    "print(f\"Rate ={r} % per year\")\n",
    "print(f\"Time ={t} year\")\n",
    "print(f\"compound interest= {ci}\")\n",
    "print(f\"Total Amount is ={a} \")"
   ]
  },
  {
   "cell_type": "code",
   "execution_count": 6,
   "id": "69a470db",
   "metadata": {},
   "outputs": [
    {
     "name": "stdout",
     "output_type": "stream",
     "text": [
      "original Num is = 10\n",
      "After Adding 5 using += Operator = 15\n"
     ]
    }
   ],
   "source": [
    "# 16. Add a number to an existing variable using \n",
    "# +=.\n",
    " \n",
    "num=int(input(\"Enter Number= \"))\n",
    "add=5\n",
    "\n",
    "print(f\"original Num is = {num}\")\n",
    "num+=add\n",
    "\n",
    "print(f\"After Adding 5 using += Operator = {num}\")\n"
   ]
  },
  {
   "cell_type": "code",
   "execution_count": 11,
   "id": "df9c4e00",
   "metadata": {},
   "outputs": [
    {
     "name": "stdout",
     "output_type": "stream",
     "text": [
      "20\n",
      "10\n"
     ]
    }
   ],
   "source": [
    "# 24. Swap two variables without using a third \n",
    "# variable using += and -=.\n",
    "\n",
    "a=10\n",
    "b=20\n",
    "a+=b\n",
    "b=a-b\n",
    "a-=b\n",
    "\n",
    "print(a)\n",
    "print(b)"
   ]
  },
  {
   "cell_type": "code",
   "execution_count": 14,
   "id": "307fdf10",
   "metadata": {},
   "outputs": [
    {
     "name": "stdout",
     "output_type": "stream",
     "text": [
      "True\n"
     ]
    }
   ],
   "source": [
    "# 26. Check if two numbers are equal.\n",
    "\n",
    "num1=int(input(\"Enter Number1= \"))\n",
    "num2=int(input(\"Enter number2= \"))\n",
    "ans=num1==num2\n",
    "print(ans)\n"
   ]
  },
  {
   "cell_type": "code",
   "execution_count": 15,
   "id": "3a706675",
   "metadata": {},
   "outputs": [
    {
     "name": "stdout",
     "output_type": "stream",
     "text": [
      "False\n"
     ]
    }
   ],
   "source": [
    "# 27. Check if two numbers are not equal\n",
    "\n",
    "\n",
    "num1=int(input(\"Enter Number1= \"))\n",
    "num2=int(input(\"Enter number2= \"))\n",
    "ans=num1==num2\n",
    "print(ans)"
   ]
  },
  {
   "cell_type": "code",
   "execution_count": 17,
   "id": "db1e1f0e",
   "metadata": {},
   "outputs": [
    {
     "name": "stdout",
     "output_type": "stream",
     "text": [
      "num1=  15\n",
      "num2=  3\n",
      "number 1 greater than number 2= True\n"
     ]
    }
   ],
   "source": [
    "# 28. Check if one number is greater than the \n",
    "# other.\n",
    "\n",
    "num1=int(input(\"Enter Number 1= \"))\n",
    "num2=int(input(\"Enter Number 2= \"))\n",
    "ans=num1>num2\n",
    "print(\"num1= \",num1)\n",
    "print(\"num2= \",num2)\n",
    "print(f\"number 1 greater than number 2= {ans}\")\n"
   ]
  },
  {
   "cell_type": "code",
   "execution_count": 18,
   "id": "43ab7b02",
   "metadata": {},
   "outputs": [
    {
     "name": "stdout",
     "output_type": "stream",
     "text": [
      "15 is divisible by both 3 and 5\n"
     ]
    }
   ],
   "source": [
    "# 36. Check if a number is divisible by both 3 and 5 \n",
    "# using and.\n",
    "\n",
    "number=int(input(\"ENter Number= \"))\n",
    "if number%3==0 and number%5==0:\n",
    "    print(f\"{number} is divisible by both 3 and 5\")\n",
    "else:\n",
    "    print(f\"{number} is not divisible by both 3 and 5\")"
   ]
  },
  {
   "cell_type": "code",
   "execution_count": 19,
   "id": "5c0bb68e",
   "metadata": {},
   "outputs": [
    {
     "name": "stdout",
     "output_type": "stream",
     "text": [
      "4 is not divisible by 3 or 5\n"
     ]
    }
   ],
   "source": [
    "# 37. Check if a number is divisible by 3 or 5 using \n",
    "# or\n",
    "\n",
    "num=int(input(\"ENter Number= \"))\n",
    "if num%3==0 or num%5==0:\n",
    "    print(f\"{num} is divisible by 3 or 5\")\n",
    "else:\n",
    "    print(f\"{num} is not divisible by 3 or 5\")"
   ]
  },
  {
   "cell_type": "code",
   "execution_count": 21,
   "id": "1392629e",
   "metadata": {},
   "outputs": [
    {
     "name": "stdout",
     "output_type": "stream",
     "text": [
      "3 is not divisible  by 2\n"
     ]
    }
   ],
   "source": [
    "# 38. Check if a number is not divisible by 2 using \n",
    "# not.\n",
    "num=int(input(\"Enter number= \"))\n",
    "if not(num%2==0):\n",
    "    print(f\"{num} is not divisible  by 2\")\n",
    "else:\n",
    "    print(f\"{num} is divisible by 2\")\n"
   ]
  },
  {
   "cell_type": "code",
   "execution_count": 1,
   "id": "61b51e02",
   "metadata": {},
   "outputs": [
    {
     "name": "stdout",
     "output_type": "stream",
     "text": [
      "You are eligible for voting\n"
     ]
    }
   ],
   "source": [
    "# 39.Check if a person is eligible for voting (age ≥ \n",
    "# 18 and citizen = True).\n",
    "\n",
    "citizen='True'\n",
    "age=int(input(\"Enter Your age= \"))\n",
    "if citizen:\n",
    "    if age>=18:\n",
    "        print(\"You are eligible for voting\")\n",
    "    else:\n",
    "        print(\"You are Not eligible for voting\")\n",
    "else:\n",
    "    print(\"You are not eligible for voting\")\n",
    "    "
   ]
  },
  {
   "cell_type": "code",
   "execution_count": 3,
   "id": "bf8b2c93",
   "metadata": {},
   "outputs": [
    {
     "name": "stdout",
     "output_type": "stream",
     "text": [
      "student is fail because its marks is less than 40\n"
     ]
    }
   ],
   "source": [
    "# 40. Check if a student passes (marks ≥ 40 and \n",
    "# attendance ≥ 75)\n",
    "\n",
    "attend=float(input(\"Enter student  Attendence  in percentage = \"))\n",
    "marks=float(input(\"Enter Student marks= \"))\n",
    "\n",
    "if attend>=75:\n",
    "    if marks>=40:\n",
    "        print(\"Student is PAss \")\n",
    "    else:\n",
    "        print(\"student is fail because its marks is less than 40\")\n",
    "else:\n",
    "    print(\"Student is fail because its attendance is less than 75 percent\")\n",
    "\n"
   ]
  },
  {
   "cell_type": "code",
   "execution_count": 9,
   "id": "8ff16ccf",
   "metadata": {},
   "outputs": [
    {
     "name": "stdout",
     "output_type": "stream",
     "text": [
      "Strong\n"
     ]
    }
   ],
   "source": [
    "# 41. Check if a password is strong (length ≥ 8 and \n",
    "# contains a digit).\n",
    "password=input(\"Enter Password= \")\n",
    "flag=0\n",
    "if len(password)>=8:\n",
    "    for i in range(0,len(password)):\n",
    "        if password[i]>='0' and password[i]<='9':\n",
    "            flag=1\n",
    "            break\n",
    "\n",
    "if flag:\n",
    "    print(\"Strong\")\n",
    "else:\n",
    "    print(\"Weak\")"
   ]
  },
  {
   "cell_type": "code",
   "execution_count": 1,
   "id": "b826bb75",
   "metadata": {},
   "outputs": [
    {
     "name": "stdout",
     "output_type": "stream",
     "text": [
      "Student IS Eligible For Gym Membership\n"
     ]
    }
   ],
   "source": [
    "# 42. Check if a person is eligible for gym \n",
    "# membership (age ≥ 16 or student = True).\n",
    "\n",
    "is_student=True\n",
    "age=int(input(\"Enter Your Age= \"))\n",
    "if is_student:\n",
    "    if age>=16:\n",
    "        print(\"Student IS Eligible For Gym Membership\")\n",
    "    else:\n",
    "        print(\"Student Is Not Eligible Because Your Age Is Less than 16 \")\n",
    "else:\n",
    "    print(\"You Are Not A Student So You Are Not Eligible.\")"
   ]
  },
  {
   "cell_type": "code",
   "execution_count": 3,
   "id": "50a68e8a",
   "metadata": {},
   "outputs": [
    {
     "name": "stdout",
     "output_type": "stream",
     "text": [
      "Number Is Positive And Even\n"
     ]
    }
   ],
   "source": [
    "# 43. Check if a number is positive and even.\n",
    "\n",
    "num=int(input(\"Enter Number= \"))\n",
    "if num>0:\n",
    "    if num%2==0:\n",
    "        print(\"Number Is Positive And Even\")\n",
    "    else:\n",
    "        print(\"Number Is Not Even\")\n",
    "else:\n",
    "    print(\"Number Is Negative or Zero\")"
   ]
  },
  {
   "cell_type": "code",
   "execution_count": 4,
   "id": "178e853e",
   "metadata": {},
   "outputs": [
    {
     "name": "stdout",
     "output_type": "stream",
     "text": [
      "-2 Number IS Negative Or Odd\n"
     ]
    }
   ],
   "source": [
    "# 44. Check if a number is negative or odd.\n",
    "\n",
    "num=int(input(\"Enter Number= \"))\n",
    "if num<0 or num%2!=0:\n",
    "    print(f\"{num} Number IS Negative Or Odd\")\n",
    "else:\n",
    "    print(f\"{num} Number is Not Negative Or odd\")\n"
   ]
  },
  {
   "cell_type": "code",
   "execution_count": 4,
   "id": "dc4ed281",
   "metadata": {},
   "outputs": [
    {
     "name": "stdout",
     "output_type": "stream",
     "text": [
      "15 Is Between 10 And 20\n"
     ]
    }
   ],
   "source": [
    "# 45. Check if a number is not between 10 and 20.\n",
    "\n",
    "num=int(input(\"Enter Number= \"))\n",
    "if not(10<=num and num<=20):\n",
    "    print(f\"{num} Is Not Between 10 And 20\")\n",
    "else:\n",
    "    print(f\"{num} Is Between 10 And 20\")\n"
   ]
  },
  {
   "cell_type": "code",
   "execution_count": 7,
   "id": "9dd757e1",
   "metadata": {},
   "outputs": [
    {
     "name": "stdout",
     "output_type": "stream",
     "text": [
      "5 & 3= 1\n"
     ]
    }
   ],
   "source": [
    "\"\"\"\n",
    "Bitwise Operator\n",
    "\"\"\"\n",
    "\n",
    "# 46. Perform bitwise AND of two numbers.\n",
    "\n",
    "num1=int(input(\"Enter Number 1= \"))\n",
    "num2=int(input(\"Enter Number 2= \"))\n",
    "print(f\"{num1} & {num2}= {num1 & num2}\")\n"
   ]
  },
  {
   "cell_type": "code",
   "execution_count": 8,
   "id": "46da1a88",
   "metadata": {},
   "outputs": [
    {
     "name": "stdout",
     "output_type": "stream",
     "text": [
      "10 | 20= 30\n"
     ]
    }
   ],
   "source": [
    "# 47. Perform bitwise OR of two numbers.\n",
    "\n",
    "num1=int(input(\"Enter Number 1= \"))\n",
    "num2=int(input(\"Enter Number 2= \"))\n",
    "print(f\"{num1} | {num2}= {num1|num2}\")"
   ]
  },
  {
   "cell_type": "code",
   "execution_count": 10,
   "id": "414afb9c",
   "metadata": {},
   "outputs": [
    {
     "name": "stdout",
     "output_type": "stream",
     "text": [
      "3 ^ 5= 6\n"
     ]
    }
   ],
   "source": [
    "# 48. Perform bitwise XOR of two numbers.\n",
    "\n",
    "num1=int(input(\"Enter Number 1= \"))\n",
    "num2=int(input(\"Enter number 2= \"))\n",
    "print(f\"{num1} ^ {num2}= {num1^num2}\")"
   ]
  },
  {
   "cell_type": "code",
   "execution_count": 11,
   "id": "41b6009f",
   "metadata": {},
   "outputs": [
    {
     "name": "stdout",
     "output_type": "stream",
     "text": [
      "~ 5 =-6 \n"
     ]
    }
   ],
   "source": [
    "# 49. Perform bitwise NOT of a number.\n",
    "\n",
    "num=int(input(\"Enter Number 1= \"))\n",
    "print(f\"~ {num} ={~num} \")\n"
   ]
  },
  {
   "cell_type": "code",
   "execution_count": 15,
   "id": "54b964dc",
   "metadata": {},
   "outputs": [
    {
     "name": "stdout",
     "output_type": "stream",
     "text": [
      "10\n"
     ]
    }
   ],
   "source": [
    "# 50. Left shift a number by 1.\n",
    "\n",
    "num=int(input(\"Enter number= \"))\n",
    "print(f\"{num<<1}\")"
   ]
  },
  {
   "cell_type": "code",
   "execution_count": 14,
   "id": "16f06f00",
   "metadata": {},
   "outputs": [
    {
     "name": "stdout",
     "output_type": "stream",
     "text": [
      "5\n"
     ]
    }
   ],
   "source": [
    "# 51. Right shift a number by 1\n",
    "\n",
    "num=int(input(\"Enter Number= \"))\n",
    "print(f\"{num>>1}\")"
   ]
  },
  {
   "cell_type": "code",
   "execution_count": 18,
   "id": "e504c84f",
   "metadata": {},
   "outputs": [
    {
     "name": "stdout",
     "output_type": "stream",
     "text": [
      "3rd bit of 10 is NOT set\n"
     ]
    }
   ],
   "source": [
    "# 52. Check if the 3rd bit in a number is set\n",
    "\n",
    "num = int(input(\"Enter a number: \"))\n",
    "\n",
    "# Create a mask with only 3rd bit set (position 2 → 1<<2 = 4)\n",
    "mask = 1 << 2  \n",
    "\n",
    "if num & mask:\n",
    "    print(f\"3rd bit of {num} is SET\")\n",
    "else:\n",
    "    print(f\"3rd bit of {num} is NOT set\")\n"
   ]
  },
  {
   "cell_type": "code",
   "execution_count": null,
   "id": "ffcf2127",
   "metadata": {},
   "outputs": [
    {
     "name": "stdout",
     "output_type": "stream",
     "text": [
      "20 and 10\n"
     ]
    }
   ],
   "source": [
    "# 53. Swap two numbers using bitwise XOR\n",
    "\n",
    "num1=int(input(\"Enter Number 1= \"))\n",
    "num2=int(input(\"Enter number 2= \"))\n",
    "\n",
    "num1=num1^num2##(10) 01010 ^ (20) 10100= 11110\n",
    "num2=num1^num2#  11110 ^ 10100= 01010 (10)\n",
    "num1=num1^num2#  11110 ^ 01010= 10100 (20)\n",
    "\n",
    "print(f\"{num1} and {num2}\")"
   ]
  },
  {
   "cell_type": "code",
   "execution_count": 21,
   "id": "2029df03",
   "metadata": {},
   "outputs": [
    {
     "name": "stdout",
     "output_type": "stream",
     "text": [
      "5 is Odd \n"
     ]
    }
   ],
   "source": [
    "# 54. Check if a number is even or odd using \n",
    "# bitwise AND.\n",
    "\n",
    "num=int(input(\"Enter Number = \"))\n",
    "if num & 1==0:\n",
    "    print(f\"{num} is Even \")\n",
    "else:\n",
    "    print(f\"{num} is Odd \")\n",
    "\n"
   ]
  },
  {
   "cell_type": "code",
   "execution_count": 23,
   "id": "dc5b93b4",
   "metadata": {},
   "outputs": [
    {
     "name": "stdout",
     "output_type": "stream",
     "text": [
      "20 multiply by 4 is = 80\n"
     ]
    }
   ],
   "source": [
    "# 55. Multiply a number by 4 using left shift.\n",
    "\n",
    "num=int(input(\"Enter Number= \"))\n",
    "multi=num<<2\n",
    "print(f\"{num} multiply by 4 is = {multi}\")"
   ]
  },
  {
   "cell_type": "code",
   "execution_count": null,
   "id": "49e6842b",
   "metadata": {},
   "outputs": [],
   "source": []
  }
 ],
 "metadata": {
  "kernelspec": {
   "display_name": "Python 3",
   "language": "python",
   "name": "python3"
  },
  "language_info": {
   "codemirror_mode": {
    "name": "ipython",
    "version": 3
   },
   "file_extension": ".py",
   "mimetype": "text/x-python",
   "name": "python",
   "nbconvert_exporter": "python",
   "pygments_lexer": "ipython3",
   "version": "3.12.4"
  }
 },
 "nbformat": 4,
 "nbformat_minor": 5
}
