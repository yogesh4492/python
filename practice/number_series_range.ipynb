{
 "cells": [
  {
   "cell_type": "code",
   "execution_count": 31,
   "id": "82dd45f3",
   "metadata": {},
   "outputs": [
    {
     "name": "stdout",
     "output_type": "stream",
     "text": [
      "2 3 5 "
     ]
    }
   ],
   "source": [
    "#prime number from 1 to given range\n",
    "\n",
    "num=int(input(\"Enter Number= \"))\n",
    "\n",
    "for i in range(2,num+1):\n",
    "    flag=1\n",
    "    for j in range(2,i):\n",
    "        if i%j==0:\n",
    "            flag=0\n",
    "            break\n",
    "    if flag:\n",
    "        print(i,end=\" \")"
   ]
  },
  {
   "cell_type": "code",
   "execution_count": 37,
   "id": "98041b5f",
   "metadata": {},
   "outputs": [
    {
     "name": "stdout",
     "output_type": "stream",
     "text": [
      "factorial of 1 =1\n",
      "factorial of 2 =2\n",
      "factorial of 3 =6\n",
      "factorial of 4 =24\n",
      "factorial of 5 =120\n",
      "factorial of 6 =720\n",
      "factorial of 7 =5040\n",
      "factorial of 8 =40320\n",
      "factorial of 9 =362880\n",
      "factorial of 10 =3628800\n"
     ]
    }
   ],
   "source": [
    "#factorial of given range \n",
    "\n",
    "num=int(input(\"Enter Number= \"))\n",
    "\n",
    "for i in range(1,num+1):\n",
    "    fact=1\n",
    "    for j in range(1,i+1):\n",
    "        fact*=j\n",
    "    print(f\"factorial of {i} ={fact}\")"
   ]
  },
  {
   "cell_type": "code",
   "execution_count": 51,
   "id": "6d91f80d",
   "metadata": {},
   "outputs": [
    {
     "name": "stdout",
     "output_type": "stream",
     "text": [
      "6 is perfect number\n",
      "28 is perfect number\n",
      "496 is perfect number\n"
     ]
    }
   ],
   "source": [
    "#perfect number from 1 to given range\n",
    "num=int(input(\"Enter Number= \"))\n",
    "# sum=0\n",
    "for i in range(1,num+1):\n",
    "    sum=0\n",
    "    for j in range(1,i):\n",
    "        if i%j==0:\n",
    "            sum+=j\n",
    "\n",
    "    if sum==i:\n",
    "        print(f\"{i} is perfect number\")\n",
    "# if sum==num:\n",
    "#     print(f\"{num} is perfect number\")\n",
    "# else:\n",
    "#     print(f\"{num} is not a perfect number\")"
   ]
  },
  {
   "cell_type": "code",
   "execution_count": 58,
   "id": "7b3d3c9d",
   "metadata": {},
   "outputs": [
    {
     "name": "stdout",
     "output_type": "stream",
     "text": [
      "1 is strong number\n",
      "2 is strong number\n",
      "145 is strong number\n"
     ]
    }
   ],
   "source": [
    "#strong number from 1 to given range\n",
    "\n",
    "num=int(input(\"Enter Number= \"))\n",
    "for j in range(1,num+1):\n",
    "   sum=0\n",
    "   tmp=j\n",
    "   while tmp!=0:\n",
    "        rem=tmp%10\n",
    "        fact=1\n",
    "        for i in range(1,rem+1):\n",
    "            fact*=i\n",
    "        sum+=fact\n",
    "        tmp=tmp//10\n",
    "\n",
    "   if  j==sum:\n",
    "        print(f\"{j} is strong number\")\n",
    "#  else:\n",
    "#     print(f\"{tmp} is not a strong number\")\n",
    "\n",
    "  \n"
   ]
  },
  {
   "cell_type": "code",
   "execution_count": 60,
   "id": "7026aad9",
   "metadata": {},
   "outputs": [
    {
     "name": "stdout",
     "output_type": "stream",
     "text": [
      "1 is armstrong number\n",
      "2 is armstrong number\n",
      "3 is armstrong number\n",
      "4 is armstrong number\n",
      "5 is armstrong number\n",
      "6 is armstrong number\n",
      "7 is armstrong number\n",
      "8 is armstrong number\n",
      "9 is armstrong number\n",
      "153 is armstrong number\n",
      "370 is armstrong number\n",
      "371 is armstrong number\n",
      "407 is armstrong number\n"
     ]
    }
   ],
   "source": [
    "#armstrong number from 1 to given range \n",
    "num=int(input(\"Enter Number= \"))\n",
    "for j in range(1,num+1):\n",
    "    tmp=j\n",
    "    cpy=j\n",
    "    sum=0\n",
    "    digit=0\n",
    "    while tmp!=0:\n",
    "        digit+=1\n",
    "        tmp//=10\n",
    "    tmp=j\n",
    "    for i in range(1,digit+1):\n",
    "        rem=tmp%10\n",
    "        power=rem**digit\n",
    "        sum+=power\n",
    "        tmp//=10\n",
    "    if sum==cpy:\n",
    "        print(f\"{cpy} is armstrong number\")\n",
    "# else:\n",
    "#     print(f\"{cpy} is not a armstrong number\")"
   ]
  },
  {
   "cell_type": "code",
   "execution_count": null,
   "id": "30fb8506",
   "metadata": {},
   "outputs": [],
   "source": []
  }
 ],
 "metadata": {
  "kernelspec": {
   "display_name": "Python 3",
   "language": "python",
   "name": "python3"
  },
  "language_info": {
   "codemirror_mode": {
    "name": "ipython",
    "version": 3
   },
   "file_extension": ".py",
   "mimetype": "text/x-python",
   "name": "python",
   "nbconvert_exporter": "python",
   "pygments_lexer": "ipython3",
   "version": "3.12.4"
  }
 },
 "nbformat": 4,
 "nbformat_minor": 5
}
