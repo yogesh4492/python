{
 "cells": [
  {
   "cell_type": "code",
   "execution_count": 3,
   "id": "549ae2bf",
   "metadata": {},
   "outputs": [
    {
     "name": "stdout",
     "output_type": "stream",
     "text": [
      "Hello yogesh\n"
     ]
    }
   ],
   "source": [
    "def greet(name):\n",
    "    print(f\"Hello {name}\")\n",
    "greet(\"yogesh\")\n"
   ]
  },
  {
   "cell_type": "code",
   "execution_count": 4,
   "id": "7fc3c969",
   "metadata": {},
   "outputs": [
    {
     "name": "stdout",
     "output_type": "stream",
     "text": [
      "8\n"
     ]
    }
   ],
   "source": [
    "#Positional Arguments\n",
    "#Passed in the order defined.\n",
    "def add(a, b):\n",
    "    return a + b\n",
    "\n",
    "print(add(5, 3)) \n"
   ]
  },
  {
   "cell_type": "code",
   "execution_count": 6,
   "id": "0a7f5230",
   "metadata": {},
   "outputs": [
    {
     "name": "stdout",
     "output_type": "stream",
     "text": [
      "My name is Yogesh and I am 20 years old.\n"
     ]
    }
   ],
   "source": [
    "# # Keyword Arguments\n",
    "# Explicitly specify which parameter to assign.\n",
    "def introduce(name, age):\n",
    "    print(f\"My name is {name} and I am {age} years old.\")\n",
    "\n",
    "introduce(age=20, name=\"Yogesh\")\n"
   ]
  },
  {
   "cell_type": "code",
   "execution_count": 7,
   "id": "e5a5a1af",
   "metadata": {},
   "outputs": [
    {
     "name": "stdout",
     "output_type": "stream",
     "text": [
      "Hello, Guest!\n",
      "Hello, Yogesh!\n"
     ]
    }
   ],
   "source": [
    "# Default Arguments\n",
    "# Provide default values if not supplied.\n",
    "def greet(name=\"Guest\"):\n",
    "    print(f\"Hello, {name}!\")\n",
    "\n",
    "greet()        # Hello, Guest!\n",
    "greet(\"Yogesh\") # Hello, Yogesh\n"
   ]
  },
  {
   "cell_type": "code",
   "execution_count": 10,
   "id": "fa9c61f9",
   "metadata": {},
   "outputs": [
    {
     "name": "stdout",
     "output_type": "stream",
     "text": [
      "a = 1\n",
      "args = (2, 3, 4)\n",
      "kwargs = {'x': 10, 'y': 20}\n"
     ]
    }
   ],
   "source": [
    "# Variable-Length Arguments\n",
    "# •\t*args → tuple of extra positional arguments\n",
    "# •\t**kwargs → dictionary of extra keyword arguments\n",
    "def fun(a, *args, **kwargs):\n",
    "    print(\"a =\", a)\n",
    "    print(\"args =\", args)\n",
    "    print(\"kwargs =\", kwargs)\n",
    "\n",
    "fun(1, 2, 3, 4, x=10, y=20)\n",
    "# Output:\n",
    "# a = 1\n",
    "# args = (2, 3, 4)\n",
    "# kwargs = {'x': 10, 'y': 20}\n"
   ]
  },
  {
   "cell_type": "code",
   "execution_count": null,
   "id": "b5a5a112",
   "metadata": {},
   "outputs": [],
   "source": []
  }
 ],
 "metadata": {
  "kernelspec": {
   "display_name": "Python 3",
   "language": "python",
   "name": "python3"
  },
  "language_info": {
   "codemirror_mode": {
    "name": "ipython",
    "version": 3
   },
   "file_extension": ".py",
   "mimetype": "text/x-python",
   "name": "python",
   "nbconvert_exporter": "python",
   "pygments_lexer": "ipython3",
   "version": "3.12.4"
  }
 },
 "nbformat": 4,
 "nbformat_minor": 5
}
