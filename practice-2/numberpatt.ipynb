{
 "cells": [
  {
   "cell_type": "code",
   "execution_count": 3,
   "id": "4696f0d5",
   "metadata": {},
   "outputs": [
    {
     "name": "stdout",
     "output_type": "stream",
     "text": [
      "1 \n",
      "2 2 \n",
      "3 3 3 \n",
      "4 4 4 4 \n",
      "5 5 5 5 5 \n"
     ]
    }
   ],
   "source": [
    "num=int(input(\"Enter Number= \"))\n",
    "for i in range(1,num+1):\n",
    "    for j in range(1,i+1):\n",
    "        print(i,end=\" \")\n",
    "    print()"
   ]
  },
  {
   "cell_type": "code",
   "execution_count": 9,
   "id": "5a2aacb5",
   "metadata": {},
   "outputs": [
    {
     "name": "stdout",
     "output_type": "stream",
     "text": [
      "    1 \n",
      "   2 2 \n",
      "  3 3 3 \n",
      " 4 4 4 4 \n",
      "5 5 5 5 5 \n"
     ]
    }
   ],
   "source": [
    "row=int(input(\"Enter Row= \"))\n",
    "spc=row-1\n",
    "for i in range(1,row+1):\n",
    "    for j in range(1,spc+1):\n",
    "        print(end=\" \")\n",
    "    for k in range(1,i+1):\n",
    "        print(i,end=\" \")\n",
    "    print()\n",
    "    spc-=1\n"
   ]
  },
  {
   "cell_type": "code",
   "execution_count": null,
   "id": "b5639966",
   "metadata": {},
   "outputs": [
    {
     "name": "stdout",
     "output_type": "stream",
     "text": [
      "1 \n",
      "1 2 \n",
      "1 2 3 \n",
      "1 2 3 4 \n",
      "1 2 3 4 5 \n"
     ]
    }
   ],
   "source": [
    "num=int(input(\"Enter Row= \"))\n",
    "for i in range(1,num+1):\n",
    "    for j in range(1,i+1):\n",
    "        print(j,end=\" \")\n",
    "    print()"
   ]
  },
  {
   "cell_type": "code",
   "execution_count": 13,
   "id": "19f03d73",
   "metadata": {},
   "outputs": [
    {
     "name": "stdout",
     "output_type": "stream",
     "text": [
      "        1 \n",
      "      2 1 \n",
      "    3 2 1 \n",
      "  4 3 2 1 \n",
      "5 4 3 2 1 \n"
     ]
    }
   ],
   "source": [
    "row=int(input(\"Enter Row= \"))\n",
    "spc=row-1\n",
    "for i in range(1,row+1):\n",
    "    for k in range(1,spc*2+1):\n",
    "        print(end=\" \")\n",
    "    for j in range(i,0,-1):\n",
    "        print(j,end=\" \")\n",
    "    print()\n",
    "    spc-=1    "
   ]
  },
  {
   "cell_type": "code",
   "execution_count": 7,
   "id": "eddb4b87",
   "metadata": {},
   "outputs": [
    {
     "name": "stdout",
     "output_type": "stream",
     "text": [
      "1 \n",
      "0 0 \n",
      "1 1 1 \n",
      "0 0 0 0 \n",
      "1 1 1 1 1 \n"
     ]
    }
   ],
   "source": [
    "num=int(input(\"Enter Row= \"))\n",
    "for i in range(1,num+1):\n",
    "    for j in range(1,i+1):\n",
    "        print(i%2,end=\" \")\n",
    "    print()"
   ]
  },
  {
   "cell_type": "code",
   "execution_count": 8,
   "id": "10ae3fa3",
   "metadata": {},
   "outputs": [
    {
     "name": "stdout",
     "output_type": "stream",
     "text": [
      "1 \n",
      "1 0 \n",
      "1 0 1 \n",
      "1 0 1 0 \n",
      "1 0 1 0 1 \n"
     ]
    }
   ],
   "source": [
    "row=int(input(\"Enter row= \"))\n",
    "for i in range(1,row+1):\n",
    "    for j in range(1,i+1):\n",
    "        print(j%2,end=\" \")\n",
    "    print()"
   ]
  },
  {
   "cell_type": "code",
   "execution_count": 14,
   "id": "0484b801",
   "metadata": {},
   "outputs": [
    {
     "name": "stdout",
     "output_type": "stream",
     "text": [
      "1 \n",
      "0 1 \n",
      "1 0 1 \n",
      "0 1 0 1 \n",
      "1 0 1 0 1 \n"
     ]
    }
   ],
   "source": [
    "row=int(input(\"Enter Row= \"))\n",
    "for i in range(1,row+1):\n",
    "    if i%2==0:\n",
    "        p=0\n",
    "        q=1\n",
    "    else:\n",
    "        p=1\n",
    "        q=0\n",
    "    for j in range(1,i+1):\n",
    "         if j%2==0:\n",
    "             print(q,end=\" \")\n",
    "         else:\n",
    "             print(p,end=\" \")\n",
    "    print()\n",
    "\n",
    "                   "
   ]
  },
  {
   "cell_type": "code",
   "execution_count": 15,
   "id": "b8e24802",
   "metadata": {},
   "outputs": [
    {
     "name": "stdout",
     "output_type": "stream",
     "text": [
      "1 \n",
      "2 3 \n",
      "3 4 5 \n",
      "4 5 6 7 \n",
      "5 6 7 8 9 \n"
     ]
    }
   ],
   "source": [
    "row=int(input(\"Enter Row= \"))\n",
    "for i in  range(1,row+1):\n",
    "    tmp=i\n",
    "    for j in range(1,i+1):\n",
    "        print(tmp,end=\" \")\n",
    "        tmp+=1\n",
    "    print()\n",
    "    \n"
   ]
  },
  {
   "cell_type": "code",
   "execution_count": null,
   "id": "16fab012",
   "metadata": {},
   "outputs": [
    {
     "name": "stdout",
     "output_type": "stream",
     "text": [
      "1 \n",
      "2 3 \n",
      "4 5 6 \n",
      "7 8 9 10 \n",
      "11 12 13 14 15 \n"
     ]
    }
   ],
   "source": [
    "row=int(input(\"Enter Row= \"))\n",
    "k=1\n",
    "for i in range(1,row+1):\n",
    "    for j in range(1,i+1):\n",
    "        print(k,end=\" \")\n",
    "        k+=1\n",
    "    print()\n",
    "    "
   ]
  },
  {
   "cell_type": "code",
   "execution_count": 22,
   "id": "09063f69",
   "metadata": {},
   "outputs": [
    {
     "name": "stdout",
     "output_type": "stream",
     "text": [
      "    1 \n",
      "   1 1 \n",
      "  1 2 1 \n",
      " 1 3 3 1 \n",
      "1 4 6 4 1 \n"
     ]
    }
   ],
   "source": [
    "row=int(input(\"Enter row= \"))\n",
    "spc=row-1\n",
    "for i in range(1,row+1):\n",
    "    for k in range(1,spc+1):\n",
    "        print(end=\" \")\n",
    "    val=1\n",
    "    for j in range(1,i+1):\n",
    "        print(val,end=\" \")\n",
    "        val=val*(i-j)//j\n",
    "    print()\n",
    "    spc-=1"
   ]
  },
  {
   "cell_type": "code",
   "execution_count": 25,
   "id": "c804a94b",
   "metadata": {},
   "outputs": [
    {
     "name": "stdout",
     "output_type": "stream",
     "text": [
      "        1 \n",
      "      1 2 1 \n",
      "    1 2 3 1 2 \n",
      "  1 2 3 4 1 2 3 \n",
      "1 2 3 4 5 1 2 3 4 \n"
     ]
    }
   ],
   "source": [
    "row=int(input(\"Enter Row= \"))\n",
    "spc=row-1\n",
    "for i in range(1,row+1):\n",
    "    for k in range(1,spc*2+1):\n",
    "        print(end=\" \")\n",
    "    for j in range(1,i+1):\n",
    "        print(j,end=\" \")\n",
    "    for l in range(1,i):\n",
    "        print(l,end=\" \")\n",
    "    print()\n",
    "    spc-=1"
   ]
  },
  {
   "cell_type": "code",
   "execution_count": null,
   "id": "bd29a558",
   "metadata": {},
   "outputs": [],
   "source": []
  }
 ],
 "metadata": {
  "kernelspec": {
   "display_name": "Python 3",
   "language": "python",
   "name": "python3"
  },
  "language_info": {
   "codemirror_mode": {
    "name": "ipython",
    "version": 3
   },
   "file_extension": ".py",
   "mimetype": "text/x-python",
   "name": "python",
   "nbconvert_exporter": "python",
   "pygments_lexer": "ipython3",
   "version": "3.12.4"
  }
 },
 "nbformat": 4,
 "nbformat_minor": 5
}
