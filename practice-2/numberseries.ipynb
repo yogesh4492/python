{
 "cells": [
  {
   "cell_type": "code",
   "execution_count": 5,
   "id": "96a9da42",
   "metadata": {},
   "outputs": [
    {
     "name": "stdout",
     "output_type": "stream",
     "text": [
      "4 number is not a prime number\n"
     ]
    }
   ],
   "source": [
    "#prime number\n",
    "num=int(input(\"Enter Number= \"))\n",
    "flag=True\n",
    "for i in range(2,num):\n",
    "        if num%i==0:\n",
    "            flag=False\n",
    "if flag:\n",
    "      print(f\"{num} number is prime number\")\n",
    "else:\n",
    "      print(f\"{num} number is not a prime number\")\n",
    "        "
   ]
  },
  {
   "cell_type": "code",
   "execution_count": 6,
   "id": "07b25a32",
   "metadata": {},
   "outputs": [
    {
     "name": "stdout",
     "output_type": "stream",
     "text": [
      "factorial of 5 is =120 \n"
     ]
    }
   ],
   "source": [
    "#factorial number \n",
    "\n",
    "num=int(input(\"Enter Number= \"))\n",
    "fact=1\n",
    "for i in range(1,num+1):\n",
    "    fact*=i\n",
    "print(f\"factorial of {num} is ={fact} \")\n",
    "\n"
   ]
  },
  {
   "cell_type": "code",
   "execution_count": 10,
   "id": "8db66b00",
   "metadata": {},
   "outputs": [
    {
     "name": "stdout",
     "output_type": "stream",
     "text": [
      "15 is not perfect Number\n"
     ]
    }
   ],
   "source": [
    "#perfect Number \n",
    "\n",
    "num=int(input(\"Enter Number= \"))\n",
    "sum=0\n",
    "for i in range(1,num):\n",
    "    if num%i==0:\n",
    "        sum+=i\n",
    "if sum==num:\n",
    "    print(f\"{num} is perfect Number\")\n",
    "else:\n",
    "    print(f\"{num} is not perfect Number\")"
   ]
  },
  {
   "cell_type": "code",
   "execution_count": 11,
   "id": "1de43478",
   "metadata": {},
   "outputs": [
    {
     "name": "stdout",
     "output_type": "stream",
     "text": [
      "145 is strong number\n"
     ]
    }
   ],
   "source": [
    "#strong Number \n",
    "\n",
    "num=int(input(\"Enter number= \"))\n",
    "temp=num\n",
    "sum=0\n",
    "while(num!=0):\n",
    "    rem=num%10\n",
    "    fact=1\n",
    "    for i in range(1,rem+1):\n",
    "        fact*=i\n",
    "    sum+=fact\n",
    "    num//=10\n",
    "if sum==temp:\n",
    "    print(f\"{temp} is strong number\")\n",
    "else:\n",
    "    print(f\"{temp} is not a strong number \")\n"
   ]
  },
  {
   "cell_type": "code",
   "execution_count": 16,
   "id": "3cede6f2",
   "metadata": {},
   "outputs": [
    {
     "name": "stdout",
     "output_type": "stream",
     "text": [
      "375 is not a armstrong number\n"
     ]
    }
   ],
   "source": [
    "# armstrong number\n",
    "\n",
    "num=int(input(\"Enter Number= \"))\n",
    "temp=num\n",
    "cpy=num\n",
    "digit=0\n",
    "sum=0\n",
    "while num!=0:\n",
    "    num//=10\n",
    "    digit+=1\n",
    "for i in range(1,digit+1):\n",
    "    rem=temp%10\n",
    "    power=rem**digit\n",
    "    sum+=power\n",
    "    temp//=10\n",
    "if sum==cpy:\n",
    "    print(f\"{cpy} is armstrong number\")\n",
    "else:\n",
    "    print(f\"{cpy} is not a armstrong number\")\n"
   ]
  },
  {
   "cell_type": "code",
   "execution_count": 15,
   "id": "d2100f88",
   "metadata": {},
   "outputs": [
    {
     "name": "stdout",
     "output_type": "stream",
     "text": [
      "fibonacci series= 0 1 1 2 3 "
     ]
    }
   ],
   "source": [
    "# fibonacci series\n",
    "\n",
    "num=int(input(\"Enter Number= \"))\n",
    "n1=0\n",
    "n2=1\n",
    "print(f\"fibonacci series= {n1} {n2} \",end=\"\")\n",
    "for i in range(1,num-1):\n",
    "    n3=n1+n2\n",
    "    print(n3,end=\" \")\n",
    "    n1=n2\n",
    "    n2=n3\n",
    "    \n",
    "    "
   ]
  },
  {
   "cell_type": "code",
   "execution_count": null,
   "id": "c7d4719b",
   "metadata": {},
   "outputs": [],
   "source": []
  }
 ],
 "metadata": {
  "kernelspec": {
   "display_name": "Python 3",
   "language": "python",
   "name": "python3"
  },
  "language_info": {
   "codemirror_mode": {
    "name": "ipython",
    "version": 3
   },
   "file_extension": ".py",
   "mimetype": "text/x-python",
   "name": "python",
   "nbconvert_exporter": "python",
   "pygments_lexer": "ipython3",
   "version": "3.12.4"
  }
 },
 "nbformat": 4,
 "nbformat_minor": 5
}
