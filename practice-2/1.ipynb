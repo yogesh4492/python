{
 "cells": [
  {
   "cell_type": "code",
   "execution_count": 19,
   "id": "67eaae1c",
   "metadata": {},
   "outputs": [
    {
     "name": "stdout",
     "output_type": "stream",
     "text": [
      "A \n",
      "A B \n",
      "A B C \n",
      "A B C D \n",
      "A B C D E \n"
     ]
    }
   ],
   "source": [
    "row=int(input(\"Enter ROw= \"))\n",
    "spc=65\n",
    "for i in range(1,row+1):\n",
    "    # for k in range(1,spc*2+1):\n",
    "    #     print(end=\" \")\n",
    "    tmp=spc\n",
    "    for j in range(1,i+1):\n",
    "        print(chr(tmp),end=\" \")\n",
    "        tmp+=1\n",
    "    \n",
    "    print()\n",
    "    "
   ]
  },
  {
   "cell_type": "code",
   "execution_count": null,
   "id": "99e124fa",
   "metadata": {},
   "outputs": [],
   "source": []
  }
 ],
 "metadata": {
  "kernelspec": {
   "display_name": "Python 3",
   "language": "python",
   "name": "python3"
  },
  "language_info": {
   "codemirror_mode": {
    "name": "ipython",
    "version": 3
   },
   "file_extension": ".py",
   "mimetype": "text/x-python",
   "name": "python",
   "nbconvert_exporter": "python",
   "pygments_lexer": "ipython3",
   "version": "3.12.4"
  }
 },
 "nbformat": 4,
 "nbformat_minor": 5
}
