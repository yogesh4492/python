{
 "cells": [
  {
   "cell_type": "code",
   "execution_count": 3,
   "id": "8b1c76f2",
   "metadata": {},
   "outputs": [
    {
     "name": "stdout",
     "output_type": "stream",
     "text": [
      "2\n",
      "3\n",
      "5\n",
      "7\n",
      "11\n",
      "13\n",
      "17\n",
      "19\n",
      "23\n",
      "29\n",
      "31\n",
      "37\n",
      "41\n",
      "43\n",
      "47\n"
     ]
    }
   ],
   "source": [
    "#prime number in range\n",
    "num=int(input(\"Enter Number= \"))\n",
    "for i in range(2,num+1):\n",
    "    flag=True\n",
    "    for j in range(2,i):\n",
    "        if i%j==0:\n",
    "            flag=False\n",
    "    if flag:\n",
    "        print(i)\n",
    "    # else:\n",
    "    #     print(f\"{i} is not a prime number \")"
   ]
  },
  {
   "cell_type": "code",
   "execution_count": 7,
   "id": "0d34b61a",
   "metadata": {},
   "outputs": [
    {
     "name": "stdout",
     "output_type": "stream",
     "text": [
      "factorial of  1 is = 1\n",
      "factorial of  2 is = 2\n",
      "factorial of  3 is = 6\n",
      "factorial of  4 is = 24\n",
      "factorial of  5 is = 120\n"
     ]
    }
   ],
   "source": [
    "#fACTORIAL IN RANGE\n",
    "\n",
    "num=int(input(\"Enter Num= \"))\n",
    "for i in range(1,num+1):\n",
    "    fact=1\n",
    "    for j in range(1,i+1):\n",
    "        fact*=j\n",
    "    print(f\"factorial of {i:2} is = {fact}\")"
   ]
  },
  {
   "cell_type": "code",
   "execution_count": 9,
   "id": "9b52a39f",
   "metadata": {},
   "outputs": [
    {
     "name": "stdout",
     "output_type": "stream",
     "text": [
      "6 is strong number \n",
      "28 is strong number \n"
     ]
    }
   ],
   "source": [
    "#perfect number in range\n",
    "num=int(input(\"Enter Number= \"))\n",
    "for i in range(1,num+1):\n",
    "    sum=0\n",
    "    for j in range(1,i):\n",
    "        if i%j==0:\n",
    "            sum+=j\n",
    "    if i==sum:\n",
    "        print(f\"{i} is strong number \")\n",
    "    "
   ]
  },
  {
   "cell_type": "code",
   "execution_count": 11,
   "id": "0a7bf97a",
   "metadata": {},
   "outputs": [
    {
     "name": "stdout",
     "output_type": "stream",
     "text": [
      "1 is strong number\n",
      "2 is strong number\n",
      "145 is strong number\n"
     ]
    }
   ],
   "source": [
    "#strong number  in range\n",
    "\n",
    "num=int(input(\"Enter Number= \"))\n",
    "for i in range(1,num+1):\n",
    "    tmp=i\n",
    "    sum=0\n",
    "    while tmp!=0:\n",
    "        rem=tmp%10\n",
    "        fact=1\n",
    "        for j in range(1,rem+1):\n",
    "            fact*=j\n",
    "        sum+=fact\n",
    "        tmp//=10\n",
    "    if sum==i:\n",
    "        print(f\"{i} is strong number\")\n",
    "\n",
    "   \n",
    "\n"
   ]
  },
  {
   "cell_type": "code",
   "execution_count": 16,
   "id": "ee4a88b6",
   "metadata": {},
   "outputs": [
    {
     "name": "stdout",
     "output_type": "stream",
     "text": [
      "1\n",
      "2\n",
      "3\n",
      "4\n",
      "5\n",
      "6\n",
      "7\n",
      "8\n",
      "9\n",
      "153\n",
      "370\n",
      "371\n",
      "407\n"
     ]
    }
   ],
   "source": [
    "#armstong number in range\n",
    "\n",
    "num=int(input(\"Enter Number=  \"))\n",
    "for i in range(1,num+1):\n",
    "     temp=i\n",
    "     cpy=i # for j in range(1,i+1):\n",
    "     sum=0\n",
    "     digit=0\n",
    "     while temp!=0:\n",
    "              digit+=1\n",
    "              temp//=10\n",
    "     temp=i\n",
    "     for k in range(1,digit+1):\n",
    "              rem=temp%10\n",
    "              power=rem**digit\n",
    "              sum+=power\n",
    "              temp//=10\n",
    "     if sum==cpy:\n",
    "            print(cpy)\n",
    "\n",
    "\n",
    "\n"
   ]
  },
  {
   "cell_type": "code",
   "execution_count": null,
   "id": "10186309",
   "metadata": {},
   "outputs": [],
   "source": []
  }
 ],
 "metadata": {
  "kernelspec": {
   "display_name": "Python 3",
   "language": "python",
   "name": "python3"
  },
  "language_info": {
   "codemirror_mode": {
    "name": "ipython",
    "version": 3
   },
   "file_extension": ".py",
   "mimetype": "text/x-python",
   "name": "python",
   "nbconvert_exporter": "python",
   "pygments_lexer": "ipython3",
   "version": "3.12.4"
  }
 },
 "nbformat": 4,
 "nbformat_minor": 5
}
