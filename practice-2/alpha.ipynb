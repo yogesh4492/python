{
 "cells": [
  {
   "cell_type": "code",
   "execution_count": null,
   "id": "fd572b16",
   "metadata": {},
   "outputs": [
    {
     "name": "stdout",
     "output_type": "stream",
     "text": [
      "A \n",
      "A B \n",
      "A B C \n",
      "A B C D \n",
      "A B C D E \n"
     ]
    }
   ],
   "source": [
    "row=int(input(\"Enter row= \"))\n",
    "ch=65\n",
    "for i in range(1,row+1):\n",
    "    tmp=ch\n",
    "    for j in range(1,i+1):\n",
    "        print(chr(tmp),end=\" \")\n",
    "        tmp+=1\n",
    "    print()\n",
    "    "
   ]
  },
  {
   "cell_type": "code",
   "execution_count": 8,
   "id": "e0fb4aa8",
   "metadata": {},
   "outputs": [
    {
     "name": "stdout",
     "output_type": "stream",
     "text": [
      "A \n",
      "B B \n",
      "C C C \n",
      "D D D D \n",
      "E E E E E \n"
     ]
    }
   ],
   "source": [
    "row=int(input(\"Enter Row= \"))\n",
    "ch=65\n",
    "for i in range(1,row+1):\n",
    "    for j in range(1,i+1):\n",
    "        print(chr(ch),end=\" \")\n",
    "    print()\n",
    "    ch+=1"
   ]
  },
  {
   "cell_type": "code",
   "execution_count": 9,
   "id": "eb3734f6",
   "metadata": {},
   "outputs": [
    {
     "name": "stdout",
     "output_type": "stream",
     "text": [
      "A \n",
      "B C \n",
      "D E F \n",
      "G H I J \n",
      "K L M N O \n"
     ]
    }
   ],
   "source": [
    "row=int(input(\"Enter Row= \"))\n",
    "ch=65\n",
    "for i in range(1,row+1):\n",
    "    for j in range(1,i+1):\n",
    "        print(chr(ch),end=\" \")\n",
    "        ch+=1\n",
    "    print()"
   ]
  },
  {
   "cell_type": "code",
   "execution_count": 10,
   "id": "0fea610e",
   "metadata": {},
   "outputs": [
    {
     "name": "stdout",
     "output_type": "stream",
     "text": [
      "A \n",
      "B C \n",
      "C D E \n",
      "D E F G \n",
      "E F G H I \n"
     ]
    }
   ],
   "source": [
    "row=int(input(\"Enter Row= \"))\n",
    "ch=65\n",
    "for i in range(1,row+1):\n",
    "    tmp=ch\n",
    "    for j in range(1,i+1):\n",
    "        print(chr(tmp),end=\" \")\n",
    "        tmp+=1\n",
    "    print()\n",
    "    ch+=1"
   ]
  },
  {
   "cell_type": "code",
   "execution_count": null,
   "id": "fa461402",
   "metadata": {},
   "outputs": [],
   "source": [
    "row="
   ]
  }
 ],
 "metadata": {
  "kernelspec": {
   "display_name": "Python 3",
   "language": "python",
   "name": "python3"
  },
  "language_info": {
   "codemirror_mode": {
    "name": "ipython",
    "version": 3
   },
   "file_extension": ".py",
   "mimetype": "text/x-python",
   "name": "python",
   "nbconvert_exporter": "python",
   "pygments_lexer": "ipython3",
   "version": "3.12.4"
  }
 },
 "nbformat": 4,
 "nbformat_minor": 5
}
