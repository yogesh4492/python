{
 "cells": [
  {
   "cell_type": "code",
   "execution_count": 1,
   "id": "ba7bfabe",
   "metadata": {},
   "outputs": [
    {
     "name": "stdout",
     "output_type": "stream",
     "text": [
      "y\n",
      "o\n",
      "g\n",
      "e\n",
      "s\n",
      "h\n"
     ]
    }
   ],
   "source": [
    "name=\"yogesh\"\n",
    "for i in name:\n",
    "    print(i)"
   ]
  },
  {
   "cell_type": "code",
   "execution_count": 3,
   "id": "2ad44176",
   "metadata": {},
   "outputs": [
    {
     "name": "stdout",
     "output_type": "stream",
     "text": [
      "yogesh\n",
      "6\n"
     ]
    }
   ],
   "source": [
    "name=\"yogesh\"\n",
    "print(name)\n",
    "print(len(name))\n",
    "\n"
   ]
  },
  {
   "cell_type": "code",
   "execution_count": 4,
   "id": "4430f65f",
   "metadata": {},
   "outputs": [
    {
     "name": "stdout",
     "output_type": "stream",
     "text": [
      "length of string is = 6\n"
     ]
    }
   ],
   "source": [
    "# length finding without using inbuild function\n",
    "\n",
    "count=0\n",
    "name=input(\"Enter String= \")\n",
    "for i in name:\n",
    "    count+=1\n",
    "print(f\"length of string is = {count}\")"
   ]
  },
  {
   "cell_type": "code",
   "execution_count": 7,
   "id": "697fd798",
   "metadata": {},
   "outputs": [
    {
     "name": "stdout",
     "output_type": "stream",
     "text": [
      "python\n",
      "PYTHON\n",
      "Python\n"
     ]
    }
   ],
   "source": [
    "name=\"python\"\n",
    "print(name.lower())\n",
    "print(name.upper())\n",
    "print(name.capitalize())\n"
   ]
  },
  {
   "cell_type": "code",
   "execution_count": 8,
   "id": "682657f9",
   "metadata": {},
   "outputs": [
    {
     "name": "stdout",
     "output_type": "stream",
     "text": [
      "subject  is yogeshj and score is 98\n",
      "subject is yogeshj and score is 98\n"
     ]
    }
   ],
   "source": [
    "#format string\n",
    "\n",
    "name=input(\"Enter Your name= \")\n",
    "score=input(\"Enter your score= \")\n",
    "print(f\"subject  is {name} and score is {score}\")\n",
    "print(\"subject is {0} and score is {1}\".format(name,score))"
   ]
  },
  {
   "cell_type": "code",
   "execution_count": 10,
   "id": "4b578689",
   "metadata": {},
   "outputs": [
    {
     "name": "stdout",
     "output_type": "stream",
     "text": [
      "True\n",
      "True\n",
      "False\n",
      "False\n",
      "True\n",
      "True\n"
     ]
    }
   ],
   "source": [
    "#check string is number ,digit,alpha,alphanumbric\n",
    "\n",
    "name=input(\"enter name= \")\n",
    "print(name.isalpha())\n",
    "print(name.islower())\n",
    "print(name.isupper())\n",
    "print(name[0].isupper())\n",
    "# print(name.alpha)\n",
    "contact=\"984563872\"\n",
    "print(contact.isnumeric())\n",
    "password=\"Abcd2107\"\n",
    "print(password.isalnum())\n"
   ]
  },
  {
   "cell_type": "code",
   "execution_count": 16,
   "id": "c3f2b497",
   "metadata": {},
   "outputs": [
    {
     "name": "stdout",
     "output_type": "stream",
     "text": [
      "Python\n",
      "pYTHON\n"
     ]
    }
   ],
   "source": [
    "#convert if character of string is uppercase to lowercase and lowerto upper without using swapcase\n",
    "name=\"Python\"\n",
    "name1=\"\"\n",
    "for i in name: \n",
    "    if i.islower():\n",
    "        name1+=\"\".join(i.upper())\n",
    "    else:\n",
    "        name1+=\"\".join(i.lower())\n",
    "print(name)\n",
    "print(name1)"
   ]
  },
  {
   "cell_type": "code",
   "execution_count": 19,
   "id": "59f8c8b8",
   "metadata": {},
   "outputs": [
    {
     "name": "stdout",
     "output_type": "stream",
     "text": [
      "Invalid url\n"
     ]
    }
   ],
   "source": [
    "#check url is valid or not valid\n",
    "\n",
    "url=input(\"Enter Url = \")\n",
    "if url.startswith(\"http://\") or url.startswith(\"https://\"):\n",
    "    if url.endswith(\".com\") or url.endswith(\".in\"):\n",
    "        print(\"valid url\")\n",
    "    else:\n",
    "        print(\"Invalid url\")\n",
    "else:\n",
    "    print(\"invalid url\")"
   ]
  },
  {
   "cell_type": "code",
   "execution_count": null,
   "id": "9debd867",
   "metadata": {},
   "outputs": [],
   "source": [
    "#check gmail id is valid or not valid\n",
    "\n"
   ]
  }
 ],
 "metadata": {
  "kernelspec": {
   "display_name": "Python 3",
   "language": "python",
   "name": "python3"
  },
  "language_info": {
   "codemirror_mode": {
    "name": "ipython",
    "version": 3
   },
   "file_extension": ".py",
   "mimetype": "text/x-python",
   "name": "python",
   "nbconvert_exporter": "python",
   "pygments_lexer": "ipython3",
   "version": "3.12.4"
  }
 },
 "nbformat": 4,
 "nbformat_minor": 5
}
