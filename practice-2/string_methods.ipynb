{
 "cells": [
  {
   "cell_type": "code",
   "execution_count": 1,
   "id": "9d0d7cf9",
   "metadata": {},
   "outputs": [
    {
     "name": "stdout",
     "output_type": "stream",
     "text": [
      "12\n"
     ]
    }
   ],
   "source": [
    "#length function in string\n",
    "\n",
    "name=\"yogesh patel\"\n",
    "print(len(name))"
   ]
  },
  {
   "cell_type": "code",
   "execution_count": 3,
   "id": "560b5a0d",
   "metadata": {},
   "outputs": [
    {
     "name": "stdout",
     "output_type": "stream",
     "text": [
      "length of string= 12\n"
     ]
    }
   ],
   "source": [
    "#length without using inbuild function\n",
    "\n",
    "name=\"yogesh Patel\"\n",
    "count=0\n",
    "for i in name:\n",
    "    count+=1\n",
    "print(\"length of string=\",count)"
   ]
  },
  {
   "cell_type": "code",
   "execution_count": 5,
   "id": "1e6227f9",
   "metadata": {},
   "outputs": [
    {
     "data": {
      "text/plain": [
       "['h', 'e', 'l', 'l', 'o']"
      ]
     },
     "execution_count": 5,
     "metadata": {},
     "output_type": "execute_result"
    }
   ],
   "source": [
    "\"h e l l o\".split()"
   ]
  },
  {
   "cell_type": "code",
   "execution_count": null,
   "id": "8d60278c",
   "metadata": {},
   "outputs": [],
   "source": []
  },
  {
   "cell_type": "code",
   "execution_count": null,
   "id": "d3ae0a55",
   "metadata": {},
   "outputs": [],
   "source": []
  }
 ],
 "metadata": {
  "kernelspec": {
   "display_name": "Python 3",
   "language": "python",
   "name": "python3"
  },
  "language_info": {
   "codemirror_mode": {
    "name": "ipython",
    "version": 3
   },
   "file_extension": ".py",
   "mimetype": "text/x-python",
   "name": "python",
   "nbconvert_exporter": "python",
   "pygments_lexer": "ipython3",
   "version": "3.12.4"
  }
 },
 "nbformat": 4,
 "nbformat_minor": 5
}
