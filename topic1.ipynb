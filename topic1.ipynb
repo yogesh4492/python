{
 "cells": [
  {
   "cell_type": "code",
   "execution_count": 8,
   "id": "62cc75fc",
   "metadata": {},
   "outputs": [
    {
     "data": {
      "text/plain": [
       "'\\nprint(): print is a function which is inbuilt function in python\\nwhich is used to display appropriate message on console screen.\\n\\nsyntax:\\nprint(\"message\")\\n\\n\\nin python 2 print was a statement\\n syntax:\\n print \"hello\";\\n\\n in pyton 3 print is function \\n syntax:\\n print(\"hello\")\\n\\n\\n\\n'"
      ]
     },
     "execution_count": 8,
     "metadata": {},
     "output_type": "execute_result"
    }
   ],
   "source": [
    "\"\"\"\n",
    "print(): print is a function which is inbuilt function in python\n",
    "which is used to display appropriate message on console screen.\n",
    "\n",
    "syntax:\n",
    "print(\"message\")\n",
    "\n",
    "\n",
    "in python 2 print was a statement\n",
    " syntax:\n",
    " print \"hello\";\n",
    "\n",
    " in pyton 3 print is function \n",
    " syntax:\n",
    " print(\"hello\")\n",
    "\n",
    "\n",
    " \n",
    "\"\"\""
   ]
  },
  {
   "cell_type": "code",
   "execution_count": 4,
   "id": "617c1f96",
   "metadata": {},
   "outputs": [
    {
     "name": "stdout",
     "output_type": "stream",
     "text": [
      "hello welcome to python\n"
     ]
    }
   ],
   "source": [
    "print(\"hello welcome to python\")"
   ]
  },
  {
   "cell_type": "code",
   "execution_count": null,
   "id": "03c2ce1f",
   "metadata": {},
   "outputs": [],
   "source": [
    "print(\"My first program\")\n"
   ]
  },
  {
   "cell_type": "code",
   "execution_count": 5,
   "id": "e62b5871",
   "metadata": {},
   "outputs": [
    {
     "name": "stdout",
     "output_type": "stream",
     "text": [
      "hello welcome to python | My score is 89\n"
     ]
    }
   ],
   "source": [
    "\"\"\"\n",
    "end: end parameter\n",
    "\"\"\"\n",
    "print(\"hello\",end=\" \")\n",
    "print(\"welcome to python\",end=\" | \")\n",
    "print(\"My score is 89\")"
   ]
  },
  {
   "cell_type": "code",
   "execution_count": null,
   "id": "94d9c7d9",
   "metadata": {},
   "outputs": [],
   "source": [
    "\"\"\"\n",
    "variable: A name which can store a value.\n",
    "\n",
    "Rules:\n",
    "1)We cannot use any reserved word or a keyword as a variable name.\n",
    "e.g. int,float...\n",
    "\n",
    "2)we can use a-z,A-Z,_(underscore) and 0-9 in variable name\n",
    "\n",
    "\n",
    "3)we can't start variable name with digit\n",
    "\n",
    "e.g.\n",
    "\n",
    "1age  X\n",
    "2age  X\n",
    "\n",
    "age1\n",
    "num1\n",
    "\n",
    "4) variable name can't conain whitespace\n",
    "\n",
    "e.g.\n",
    "  first name  X\n",
    "  first_name\n",
    "  firstName\n",
    "\n",
    "5) also use approppriate name as variable\n",
    "\n",
    "\n",
    "\"\"\""
   ]
  },
  {
   "cell_type": "code",
   "execution_count": null,
   "id": "9242143f",
   "metadata": {},
   "outputs": [
    {
     "name": "stdout",
     "output_type": "stream",
     "text": [
      "score\n",
      "89\n"
     ]
    }
   ],
   "source": [
    "score=89     # score is a variable name and 89 is value\n",
    "name=\"Python\"\n",
    "print(\"score\")  #output:score\n",
    "print(score)    #output:89"
   ]
  },
  {
   "cell_type": "code",
   "execution_count": 7,
   "id": "dffc3801",
   "metadata": {},
   "outputs": [
    {
     "name": "stdout",
     "output_type": "stream",
     "text": [
      "<class 'int'>\n"
     ]
    }
   ],
   "source": [
    "\"\"\" \n",
    "datat type : which type of value store in a variable\n",
    "\n",
    "in python there is type()\n",
    "\n",
    "typep(): using of type function we can check which type of value store in a variable.\n",
    "\n",
    "\"\"\"\n",
    "\n",
    "print(type(score))"
   ]
  },
  {
   "cell_type": "code",
   "execution_count": null,
   "id": "ef5274d8",
   "metadata": {},
   "outputs": [],
   "source": []
  }
 ],
 "metadata": {
  "kernelspec": {
   "display_name": "Python 3",
   "language": "python",
   "name": "python3"
  },
  "language_info": {
   "codemirror_mode": {
    "name": "ipython",
    "version": 3
   },
   "file_extension": ".py",
   "mimetype": "text/x-python",
   "name": "python",
   "nbconvert_exporter": "python",
   "pygments_lexer": "ipython3",
   "version": "3.12.4"
  }
 },
 "nbformat": 4,
 "nbformat_minor": 5
}
